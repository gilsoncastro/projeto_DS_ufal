{
  "nbformat": 4,
  "nbformat_minor": 0,
  "metadata": {
    "colab": {
      "provenance": []
    },
    "kernelspec": {
      "name": "python3",
      "display_name": "Python 3"
    },
    "language_info": {
      "name": "python"
    },
    "widgets": {
      "application/vnd.jupyter.widget-state+json": {
        "c5b1cef00ca342fb9fc50df9c254bc93": {
          "model_module": "catboost-widget",
          "model_name": "CatboostWidgetModel",
          "model_module_version": "^1.0.0",
          "state": {
            "_dom_classes": [],
            "_model_module": "catboost-widget",
            "_model_module_version": "^1.0.0",
            "_model_name": "CatboostWidgetModel",
            "_view_count": null,
            "_view_module": "catboost-widget",
            "_view_module_version": "^1.0.0",
            "_view_name": "CatboostWidgetView",
            "data": {
              "catboost_info": {
                "path": "catboost_info",
                "name": "catboost_info",
                "content": {
                  "passed_iterations": 499,
                  "total_iterations": 500,
                  "data": {
                    "iterations": [
                      {
                        "learn": [
                          0.6348877959,
                          0.4921916809
                        ],
                        "iteration": 0,
                        "passed_time": 0.06650769376,
                        "remaining_time": 33.18733919,
                        "test": [
                          0.6407094069,
                          0.4953879237
                        ]
                      },
                      {
                        "learn": [
                          0.5993749025,
                          0.4921916809
                        ],
                        "iteration": 1,
                        "passed_time": 0.0815502557,
                        "remaining_time": 20.30601367,
                        "test": [
                          0.607530535,
                          0.4953879237
                        ]
                      },
                      {
                        "learn": [
                          0.5785931193,
                          0.689341462
                        ],
                        "iteration": 2,
                        "passed_time": 0.09491854186,
                        "remaining_time": 15.72483843,
                        "test": [
                          0.5840893774,
                          0.6563274913
                        ]
                      },
                      {
                        "learn": [
                          0.5643978495,
                          0.6854744428
                        ],
                        "iteration": 3,
                        "passed_time": 0.1068404048,
                        "remaining_time": 13.24821019,
                        "test": [
                          0.5687236586,
                          0.6556490385
                        ]
                      },
                      {
                        "learn": [
                          0.5533852437,
                          0.6855007187
                        ],
                        "iteration": 4,
                        "passed_time": 0.1220436558,
                        "remaining_time": 12.08232192,
                        "test": [
                          0.5561055642,
                          0.6556490385
                        ]
                      },
                      {
                        "learn": [
                          0.5348856171,
                          0.694557784
                        ],
                        "iteration": 5,
                        "passed_time": 0.1461714902,
                        "remaining_time": 12.03478603,
                        "test": [
                          0.5349056947,
                          0.6663229355
                        ]
                      },
                      {
                        "learn": [
                          0.5258406876,
                          0.6956703937
                        ],
                        "iteration": 6,
                        "passed_time": 0.1586011704,
                        "remaining_time": 11.17005386,
                        "test": [
                          0.5255152025,
                          0.6659843057
                        ]
                      },
                      {
                        "learn": [
                          0.5182922248,
                          0.7994165088
                        ],
                        "iteration": 7,
                        "passed_time": 0.1718298052,
                        "remaining_time": 10.56753302,
                        "test": [
                          0.5178978491,
                          0.7550733225
                        ]
                      },
                      {
                        "learn": [
                          0.5112705694,
                          0.6942158251
                        ],
                        "iteration": 8,
                        "passed_time": 0.1844299186,
                        "remaining_time": 10.06167667,
                        "test": [
                          0.5106968813,
                          0.665751662
                        ]
                      },
                      {
                        "learn": [
                          0.4979658707,
                          0.7936475549
                        ],
                        "iteration": 9,
                        "passed_time": 0.1965162754,
                        "remaining_time": 9.629297493,
                        "test": [
                          0.4983254147,
                          0.7516297999
                        ]
                      },
                      {
                        "learn": [
                          0.492400244,
                          0.7950110846
                        ],
                        "iteration": 10,
                        "passed_time": 0.2080284977,
                        "remaining_time": 9.247812307,
                        "test": [
                          0.4920235511,
                          0.7517029718
                        ]
                      },
                      {
                        "learn": [
                          0.4879967807,
                          0.7991101524
                        ],
                        "iteration": 11,
                        "passed_time": 0.2199173855,
                        "remaining_time": 8.94330701,
                        "test": [
                          0.4871942202,
                          0.7556036251
                        ]
                      },
                      {
                        "learn": [
                          0.4842509998,
                          0.7952343456
                        ],
                        "iteration": 12,
                        "passed_time": 0.2315587837,
                        "remaining_time": 8.67454828,
                        "test": [
                          0.4830848624,
                          0.7550561798
                        ]
                      },
                      {
                        "learn": [
                          0.4773556959,
                          0.7980734497
                        ],
                        "iteration": 13,
                        "passed_time": 0.2448102938,
                        "remaining_time": 8.498414485,
                        "test": [
                          0.4762541887,
                          0.7601289134
                        ]
                      },
                      {
                        "learn": [
                          0.4734847161,
                          0.7950209761
                        ],
                        "iteration": 14,
                        "passed_time": 0.2573737092,
                        "remaining_time": 8.321749931,
                        "test": [
                          0.472105158,
                          0.7569377622
                        ]
                      },
                      {
                        "learn": [
                          0.4698565595,
                          0.8027470561
                        ],
                        "iteration": 15,
                        "passed_time": 0.2697386033,
                        "remaining_time": 8.15959275,
                        "test": [
                          0.4682247139,
                          0.7626193724
                        ]
                      },
                      {
                        "learn": [
                          0.4666516492,
                          0.7980414468
                        ],
                        "iteration": 16,
                        "passed_time": 0.2826733802,
                        "remaining_time": 8.031249567,
                        "test": [
                          0.4645933878,
                          0.7608344238
                        ]
                      },
                      {
                        "learn": [
                          0.4626575978,
                          0.8024410145
                        ],
                        "iteration": 17,
                        "passed_time": 0.2954857808,
                        "remaining_time": 7.912452574,
                        "test": [
                          0.4606517994,
                          0.7618687918
                        ]
                      },
                      {
                        "learn": [
                          0.4553472861,
                          0.8048714479
                        ],
                        "iteration": 18,
                        "passed_time": 0.3085750436,
                        "remaining_time": 7.811820841,
                        "test": [
                          0.4529009434,
                          0.7630335309
                        ]
                      },
                      {
                        "learn": [
                          0.4484236686,
                          0.8047901761
                        ],
                        "iteration": 19,
                        "passed_time": 0.3221892361,
                        "remaining_time": 7.732541667,
                        "test": [
                          0.445259165,
                          0.7628726795
                        ]
                      },
                      {
                        "learn": [
                          0.4457496511,
                          0.8012366441
                        ],
                        "iteration": 20,
                        "passed_time": 0.3350837997,
                        "remaining_time": 7.643101908,
                        "test": [
                          0.4427978732,
                          0.7598928666
                        ]
                      },
                      {
                        "learn": [
                          0.4416699312,
                          0.8028362538
                        ],
                        "iteration": 21,
                        "passed_time": 0.3475632324,
                        "remaining_time": 7.551601141,
                        "test": [
                          0.43896927,
                          0.7617361163
                        ]
                      },
                      {
                        "learn": [
                          0.4393272593,
                          0.8058723693
                        ],
                        "iteration": 22,
                        "passed_time": 0.3599483509,
                        "remaining_time": 7.465015799,
                        "test": [
                          0.4367712159,
                          0.7658339927
                        ]
                      },
                      {
                        "learn": [
                          0.4366917751,
                          0.8055781208
                        ],
                        "iteration": 23,
                        "passed_time": 0.3730137633,
                        "remaining_time": 7.398106305,
                        "test": [
                          0.4343640602,
                          0.7645358658
                        ]
                      },
                      {
                        "learn": [
                          0.4319423994,
                          0.8060778792
                        ],
                        "iteration": 24,
                        "passed_time": 0.3864408652,
                        "remaining_time": 7.342376438,
                        "test": [
                          0.429528104,
                          0.7635738575
                        ]
                      },
                      {
                        "learn": [
                          0.4300741685,
                          0.8059726732
                        ],
                        "iteration": 25,
                        "passed_time": 0.3995031496,
                        "remaining_time": 7.283249727,
                        "test": [
                          0.4278984356,
                          0.7647676162
                        ]
                      },
                      {
                        "learn": [
                          0.4284974326,
                          0.8041237113
                        ],
                        "iteration": 26,
                        "passed_time": 0.4128186767,
                        "remaining_time": 7.231971633,
                        "test": [
                          0.4265145644,
                          0.7635406878
                        ]
                      },
                      {
                        "learn": [
                          0.4239288957,
                          0.8048624008
                        ],
                        "iteration": 27,
                        "passed_time": 0.4262149063,
                        "remaining_time": 7.184765564,
                        "test": [
                          0.4217792473,
                          0.7629837353
                        ]
                      },
                      {
                        "learn": [
                          0.4223548857,
                          0.8054990672
                        ],
                        "iteration": 28,
                        "passed_time": 0.4382657728,
                        "remaining_time": 7.118040655,
                        "test": [
                          0.4203240532,
                          0.7627862028
                        ]
                      },
                      {
                        "learn": [
                          0.4207366772,
                          0.8060709402
                        ],
                        "iteration": 29,
                        "passed_time": 0.4508165033,
                        "remaining_time": 7.062791886,
                        "test": [
                          0.4188196819,
                          0.7645870736
                        ]
                      },
                      {
                        "learn": [
                          0.4183423191,
                          0.8063159672
                        ],
                        "iteration": 30,
                        "passed_time": 0.463949276,
                        "remaining_time": 7.019103563,
                        "test": [
                          0.4166146583,
                          0.7652186927
                        ]
                      },
                      {
                        "learn": [
                          0.4168832717,
                          0.8068478609
                        ],
                        "iteration": 31,
                        "passed_time": 0.4756009725,
                        "remaining_time": 6.955664223,
                        "test": [
                          0.4152856409,
                          0.7650265064
                        ]
                      },
                      {
                        "learn": [
                          0.4157117863,
                          0.8070056917
                        ],
                        "iteration": 32,
                        "passed_time": 0.488140622,
                        "remaining_time": 6.907929408,
                        "test": [
                          0.4140865982,
                          0.7651815799
                        ]
                      },
                      {
                        "learn": [
                          0.4146432459,
                          0.8060524091
                        ],
                        "iteration": 33,
                        "passed_time": 0.500965841,
                        "remaining_time": 6.86617888,
                        "test": [
                          0.4131158505,
                          0.7645383693
                        ]
                      },
                      {
                        "learn": [
                          0.4137465378,
                          0.8063801357
                        ],
                        "iteration": 34,
                        "passed_time": 0.5132451969,
                        "remaining_time": 6.818829044,
                        "test": [
                          0.4123703006,
                          0.7650322387
                        ]
                      },
                      {
                        "learn": [
                          0.4126711199,
                          0.8061524925
                        ],
                        "iteration": 35,
                        "passed_time": 0.5254956683,
                        "remaining_time": 6.773055281,
                        "test": [
                          0.4113429524,
                          0.7649994372
                        ]
                      },
                      {
                        "learn": [
                          0.4116751035,
                          0.8063887807
                        ],
                        "iteration": 36,
                        "passed_time": 0.5378956536,
                        "remaining_time": 6.73096453,
                        "test": [
                          0.4104625915,
                          0.7659206969
                        ]
                      },
                      {
                        "learn": [
                          0.4089041019,
                          0.8072548521
                        ],
                        "iteration": 37,
                        "passed_time": 0.5530610251,
                        "remaining_time": 6.724057726,
                        "test": [
                          0.4077054428,
                          0.7675196333
                        ]
                      },
                      {
                        "learn": [
                          0.4079933897,
                          0.8106476955
                        ],
                        "iteration": 38,
                        "passed_time": 0.5665071349,
                        "remaining_time": 6.696404851,
                        "test": [
                          0.4069077399,
                          0.7704544606
                        ]
                      },
                      {
                        "learn": [
                          0.4068815731,
                          0.8111947097
                        ],
                        "iteration": 39,
                        "passed_time": 0.5788185172,
                        "remaining_time": 6.656412948,
                        "test": [
                          0.4057347758,
                          0.7709681038
                        ]
                      },
                      {
                        "learn": [
                          0.4056449043,
                          0.8082841841
                        ],
                        "iteration": 40,
                        "passed_time": 0.592621245,
                        "remaining_time": 6.634467108,
                        "test": [
                          0.4045089307,
                          0.7682298522
                        ]
                      },
                      {
                        "learn": [
                          0.40267009,
                          0.8114614724
                        ],
                        "iteration": 41,
                        "passed_time": 0.6092752799,
                        "remaining_time": 6.644001862,
                        "test": [
                          0.4012848148,
                          0.7705162638
                        ]
                      },
                      {
                        "learn": [
                          0.4015767767,
                          0.8122975717
                        ],
                        "iteration": 42,
                        "passed_time": 0.6215383039,
                        "remaining_time": 6.605651276,
                        "test": [
                          0.4003948362,
                          0.7705064327
                        ]
                      },
                      {
                        "learn": [
                          0.4008350308,
                          0.8128638293
                        ],
                        "iteration": 43,
                        "passed_time": 0.635737606,
                        "remaining_time": 6.588553371,
                        "test": [
                          0.3998539746,
                          0.7710037175
                        ]
                      },
                      {
                        "learn": [
                          0.3997465936,
                          0.8127906001
                        ],
                        "iteration": 44,
                        "passed_time": 0.6485158668,
                        "remaining_time": 6.557215987,
                        "test": [
                          0.3989856954,
                          0.770810087
                        ]
                      },
                      {
                        "learn": [
                          0.3990219512,
                          0.8128595147
                        ],
                        "iteration": 45,
                        "passed_time": 0.6612514288,
                        "remaining_time": 6.526264101,
                        "test": [
                          0.3984253346,
                          0.7708990976
                        ]
                      },
                      {
                        "learn": [
                          0.3984222604,
                          0.8126455461
                        ],
                        "iteration": 46,
                        "passed_time": 0.6744190799,
                        "remaining_time": 6.500251983,
                        "test": [
                          0.3979206568,
                          0.770742925
                        ]
                      },
                      {
                        "learn": [
                          0.3978156886,
                          0.8125534376
                        ],
                        "iteration": 47,
                        "passed_time": 0.6877138003,
                        "remaining_time": 6.47597162,
                        "test": [
                          0.3973510045,
                          0.7707164878
                        ]
                      },
                      {
                        "learn": [
                          0.3972628188,
                          0.8162055994
                        ],
                        "iteration": 48,
                        "passed_time": 0.7005420745,
                        "remaining_time": 6.447846441,
                        "test": [
                          0.3969355269,
                          0.7725230203
                        ]
                      },
                      {
                        "learn": [
                          0.3966255044,
                          0.8160109317
                        ],
                        "iteration": 49,
                        "passed_time": 0.717374595,
                        "remaining_time": 6.456371355,
                        "test": [
                          0.3964082354,
                          0.7724020945
                        ]
                      },
                      {
                        "learn": [
                          0.3938867133,
                          0.8164115901
                        ],
                        "iteration": 50,
                        "passed_time": 0.7370496181,
                        "remaining_time": 6.48892703,
                        "test": [
                          0.3938954154,
                          0.7731886465
                        ]
                      },
                      {
                        "learn": [
                          0.3934688271,
                          0.8164469408
                        ],
                        "iteration": 51,
                        "passed_time": 0.7499568106,
                        "remaining_time": 6.461166368,
                        "test": [
                          0.3935078776,
                          0.7737840431
                        ]
                      },
                      {
                        "learn": [
                          0.3929941769,
                          0.8184655224
                        ],
                        "iteration": 52,
                        "passed_time": 0.7621255868,
                        "remaining_time": 6.427738439,
                        "test": [
                          0.3930099337,
                          0.7762902102
                        ]
                      },
                      {
                        "learn": [
                          0.3913436253,
                          0.8187654485
                        ],
                        "iteration": 53,
                        "passed_time": 0.7754504358,
                        "remaining_time": 6.404646192,
                        "test": [
                          0.3913510824,
                          0.7761620453
                        ]
                      },
                      {
                        "learn": [
                          0.3909920213,
                          0.8191367551
                        ],
                        "iteration": 54,
                        "passed_time": 0.7886099192,
                        "remaining_time": 6.380571164,
                        "test": [
                          0.3910464918,
                          0.7767758962
                        ]
                      },
                      {
                        "learn": [
                          0.3904984234,
                          0.8197583112
                        ],
                        "iteration": 55,
                        "passed_time": 0.8007837824,
                        "remaining_time": 6.349071418,
                        "test": [
                          0.3906269115,
                          0.7766508574
                        ]
                      },
                      {
                        "learn": [
                          0.3896966598,
                          0.8202288057
                        ],
                        "iteration": 56,
                        "passed_time": 0.8134691773,
                        "remaining_time": 6.32222536,
                        "test": [
                          0.3898215038,
                          0.7771332677
                        ]
                      },
                      {
                        "learn": [
                          0.3892096449,
                          0.819896914
                        ],
                        "iteration": 57,
                        "passed_time": 0.8263672675,
                        "remaining_time": 6.297488487,
                        "test": [
                          0.3893832368,
                          0.7767769228
                        ]
                      },
                      {
                        "learn": [
                          0.3878011666,
                          0.8199967002
                        ],
                        "iteration": 58,
                        "passed_time": 0.8490398209,
                        "remaining_time": 6.346212899,
                        "test": [
                          0.387967316,
                          0.7759423665
                        ]
                      },
                      {
                        "learn": [
                          0.3873910405,
                          0.8197489319
                        ],
                        "iteration": 59,
                        "passed_time": 0.8626085853,
                        "remaining_time": 6.325796292,
                        "test": [
                          0.3876275014,
                          0.7759650401
                        ]
                      },
                      {
                        "learn": [
                          0.3869921036,
                          0.819397662
                        ],
                        "iteration": 60,
                        "passed_time": 0.8751394683,
                        "remaining_time": 6.298134862,
                        "test": [
                          0.3872315395,
                          0.7761607762
                        ]
                      },
                      {
                        "learn": [
                          0.3863911912,
                          0.8197403627
                        ],
                        "iteration": 61,
                        "passed_time": 0.887729058,
                        "remaining_time": 6.271376248,
                        "test": [
                          0.3866273077,
                          0.7764851756
                        ]
                      },
                      {
                        "learn": [
                          0.3860025262,
                          0.8196353066
                        ],
                        "iteration": 62,
                        "passed_time": 0.8999594937,
                        "remaining_time": 6.24257617,
                        "test": [
                          0.3862868844,
                          0.7762423889
                        ]
                      },
                      {
                        "learn": [
                          0.3856516492,
                          0.8198720809
                        ],
                        "iteration": 63,
                        "passed_time": 0.9135483833,
                        "remaining_time": 6.223548361,
                        "test": [
                          0.3859772941,
                          0.7767599723
                        ]
                      },
                      {
                        "learn": [
                          0.3839640727,
                          0.819973545
                        ],
                        "iteration": 64,
                        "passed_time": 0.9267091167,
                        "remaining_time": 6.201822551,
                        "test": [
                          0.3843681499,
                          0.776962127
                        ]
                      },
                      {
                        "learn": [
                          0.3823804165,
                          0.8203703704
                        ],
                        "iteration": 65,
                        "passed_time": 0.9392996665,
                        "remaining_time": 6.176606898,
                        "test": [
                          0.3828727186,
                          0.7773678635
                        ]
                      },
                      {
                        "learn": [
                          0.3819652566,
                          0.8204882244
                        ],
                        "iteration": 66,
                        "passed_time": 0.9533681586,
                        "remaining_time": 6.161319592,
                        "test": [
                          0.382435626,
                          0.7775706401
                        ]
                      },
                      {
                        "learn": [
                          0.3815997864,
                          0.820767972
                        ],
                        "iteration": 67,
                        "passed_time": 0.9663038641,
                        "remaining_time": 6.138871607,
                        "test": [
                          0.3820599628,
                          0.7770965623
                        ]
                      },
                      {
                        "learn": [
                          0.3802186152,
                          0.820779049
                        ],
                        "iteration": 68,
                        "passed_time": 0.9798736322,
                        "remaining_time": 6.120659934,
                        "test": [
                          0.3805339399,
                          0.7772300727
                        ]
                      },
                      {
                        "learn": [
                          0.3800221551,
                          0.8207525354
                        ],
                        "iteration": 69,
                        "passed_time": 0.9924225008,
                        "remaining_time": 6.096309648,
                        "test": [
                          0.3803431915,
                          0.7766876983
                        ]
                      },
                      {
                        "learn": [
                          0.3797603375,
                          0.8205145151
                        ],
                        "iteration": 70,
                        "passed_time": 1.005077965,
                        "remaining_time": 6.072935875,
                        "test": [
                          0.3801001068,
                          0.7767075306
                        ]
                      },
                      {
                        "learn": [
                          0.379420141,
                          0.8206169904
                        ],
                        "iteration": 71,
                        "passed_time": 1.018056507,
                        "remaining_time": 6.051780345,
                        "test": [
                          0.3797675984,
                          0.7771741112
                        ]
                      },
                      {
                        "learn": [
                          0.3791220219,
                          0.8210484629
                        ],
                        "iteration": 72,
                        "passed_time": 1.031236763,
                        "remaining_time": 6.032028734,
                        "test": [
                          0.3796008641,
                          0.7768745671
                        ]
                      },
                      {
                        "learn": [
                          0.3787960736,
                          0.8209824596
                        ],
                        "iteration": 73,
                        "passed_time": 1.043612159,
                        "remaining_time": 6.007821348,
                        "test": [
                          0.3793479439,
                          0.7774258147
                        ]
                      },
                      {
                        "learn": [
                          0.3785025683,
                          0.8206474191
                        ],
                        "iteration": 74,
                        "passed_time": 1.056268996,
                        "remaining_time": 5.985524313,
                        "test": [
                          0.3790862522,
                          0.7774171195
                        ]
                      },
                      {
                        "learn": [
                          0.3774285182,
                          0.8204925068
                        ],
                        "iteration": 75,
                        "passed_time": 1.069964758,
                        "remaining_time": 5.969277072,
                        "test": [
                          0.3779789228,
                          0.7775914856
                        ]
                      },
                      {
                        "learn": [
                          0.3771642848,
                          0.8204307286
                        ],
                        "iteration": 76,
                        "passed_time": 1.082117641,
                        "remaining_time": 5.944620286,
                        "test": [
                          0.3777451289,
                          0.7766282967
                        ]
                      },
                      {
                        "learn": [
                          0.3768428661,
                          0.8206582679
                        ],
                        "iteration": 77,
                        "passed_time": 1.094915339,
                        "remaining_time": 5.923772732,
                        "test": [
                          0.3774295711,
                          0.7773897861
                        ]
                      },
                      {
                        "learn": [
                          0.3765645193,
                          0.8214008873
                        ],
                        "iteration": 78,
                        "passed_time": 1.107006902,
                        "remaining_time": 5.899365893,
                        "test": [
                          0.3772309481,
                          0.7782429825
                        ]
                      },
                      {
                        "learn": [
                          0.3762011381,
                          0.8212033912
                        ],
                        "iteration": 79,
                        "passed_time": 1.119863749,
                        "remaining_time": 5.879284681,
                        "test": [
                          0.3768829388,
                          0.7777777778
                        ]
                      },
                      {
                        "learn": [
                          0.3760101146,
                          0.8213133109
                        ],
                        "iteration": 80,
                        "passed_time": 1.139528832,
                        "remaining_time": 5.894599762,
                        "test": [
                          0.3767923954,
                          0.7779955004
                        ]
                      },
                      {
                        "learn": [
                          0.3757638137,
                          0.8210238503
                        ],
                        "iteration": 81,
                        "passed_time": 1.1591373,
                        "remaining_time": 5.908773068,
                        "test": [
                          0.3765932374,
                          0.7779432598
                        ]
                      },
                      {
                        "learn": [
                          0.3753950514,
                          0.8214579562
                        ],
                        "iteration": 82,
                        "passed_time": 1.171899553,
                        "remaining_time": 5.887736309,
                        "test": [
                          0.3762795206,
                          0.7788053531
                        ]
                      },
                      {
                        "learn": [
                          0.3751840686,
                          0.821238705
                        ],
                        "iteration": 83,
                        "passed_time": 1.183953998,
                        "remaining_time": 5.86339123,
                        "test": [
                          0.3760907887,
                          0.777999637
                        ]
                      },
                      {
                        "learn": [
                          0.3750066539,
                          0.8218533568
                        ],
                        "iteration": 84,
                        "passed_time": 1.195877642,
                        "remaining_time": 5.838696724,
                        "test": [
                          0.3759035264,
                          0.7785799804
                        ]
                      },
                      {
                        "learn": [
                          0.3748370278,
                          0.8215572409
                        ],
                        "iteration": 85,
                        "passed_time": 1.208021998,
                        "remaining_time": 5.815361711,
                        "test": [
                          0.3757918641,
                          0.7787931535
                        ]
                      },
                      {
                        "learn": [
                          0.3746487316,
                          0.8221209978
                        ],
                        "iteration": 86,
                        "passed_time": 1.221087932,
                        "remaining_time": 5.796658804,
                        "test": [
                          0.3756101566,
                          0.7787726103
                        ]
                      },
                      {
                        "learn": [
                          0.3743770235,
                          0.8221674877
                        ],
                        "iteration": 87,
                        "passed_time": 1.235094651,
                        "remaining_time": 5.782488595,
                        "test": [
                          0.3753853799,
                          0.7786298199
                        ]
                      },
                      {
                        "learn": [
                          0.3741666261,
                          0.8224320552
                        ],
                        "iteration": 88,
                        "passed_time": 1.248605895,
                        "remaining_time": 5.766033965,
                        "test": [
                          0.3751607921,
                          0.778931375
                        ]
                      },
                      {
                        "learn": [
                          0.3739697343,
                          0.8231472214
                        ],
                        "iteration": 89,
                        "passed_time": 1.26233686,
                        "remaining_time": 5.750645696,
                        "test": [
                          0.3749811119,
                          0.7789428014
                        ]
                      },
                      {
                        "learn": [
                          0.3736187385,
                          0.8227353347
                        ],
                        "iteration": 90,
                        "passed_time": 1.275071069,
                        "remaining_time": 5.730813924,
                        "test": [
                          0.3746564132,
                          0.7792866196
                        ]
                      },
                      {
                        "learn": [
                          0.3734480853,
                          0.8234174515
                        ],
                        "iteration": 91,
                        "passed_time": 1.287411277,
                        "remaining_time": 5.709389142,
                        "test": [
                          0.3745053826,
                          0.7796990305
                        ]
                      },
                      {
                        "learn": [
                          0.3732659924,
                          0.8235680073
                        ],
                        "iteration": 92,
                        "passed_time": 1.299418912,
                        "remaining_time": 5.686704269,
                        "test": [
                          0.3743500312,
                          0.7798105431
                        ]
                      },
                      {
                        "learn": [
                          0.3730728112,
                          0.8234869134
                        ],
                        "iteration": 93,
                        "passed_time": 1.312267368,
                        "remaining_time": 5.667878208,
                        "test": [
                          0.3741785212,
                          0.7799174691
                        ]
                      },
                      {
                        "learn": [
                          0.3728911176,
                          0.8237495691
                        ],
                        "iteration": 94,
                        "passed_time": 1.324710496,
                        "remaining_time": 5.647450008,
                        "test": [
                          0.3739863593,
                          0.7799580045
                        ]
                      },
                      {
                        "learn": [
                          0.3719883662,
                          0.8237284794
                        ],
                        "iteration": 95,
                        "passed_time": 1.33793109,
                        "remaining_time": 5.630460004,
                        "test": [
                          0.3731016732,
                          0.7796696131
                        ]
                      },
                      {
                        "learn": [
                          0.3718363229,
                          0.8238925557
                        ],
                        "iteration": 96,
                        "passed_time": 1.350919189,
                        "remaining_time": 5.612581786,
                        "test": [
                          0.3729934569,
                          0.7800832881
                        ]
                      },
                      {
                        "learn": [
                          0.3716977685,
                          0.8243768768
                        ],
                        "iteration": 97,
                        "passed_time": 1.362956965,
                        "remaining_time": 5.5909051,
                        "test": [
                          0.3728384785,
                          0.7802142133
                        ]
                      },
                      {
                        "learn": [
                          0.3714535008,
                          0.82437864
                        ],
                        "iteration": 98,
                        "passed_time": 1.374648154,
                        "remaining_time": 5.568019291,
                        "test": [
                          0.3725778702,
                          0.7806201831
                        ]
                      },
                      {
                        "learn": [
                          0.3713225754,
                          0.8244753294
                        ],
                        "iteration": 99,
                        "passed_time": 1.392151266,
                        "remaining_time": 5.568605064,
                        "test": [
                          0.3723930013,
                          0.7804083406
                        ]
                      },
                      {
                        "learn": [
                          0.3711709153,
                          0.8241215917
                        ],
                        "iteration": 100,
                        "passed_time": 1.4154923,
                        "remaining_time": 5.591895325,
                        "test": [
                          0.3722478498,
                          0.780168517
                        ]
                      },
                      {
                        "learn": [
                          0.3702969382,
                          0.8243836874
                        ],
                        "iteration": 101,
                        "passed_time": 1.428765296,
                        "remaining_time": 5.574986156,
                        "test": [
                          0.3713998526,
                          0.7801315885
                        ]
                      },
                      {
                        "learn": [
                          0.3699955513,
                          0.8243812145
                        ],
                        "iteration": 102,
                        "passed_time": 1.441349308,
                        "remaining_time": 5.555491993,
                        "test": [
                          0.371033952,
                          0.7802463784
                        ]
                      },
                      {
                        "learn": [
                          0.3698516597,
                          0.824261479
                        ],
                        "iteration": 103,
                        "passed_time": 1.455015483,
                        "remaining_time": 5.540251262,
                        "test": [
                          0.3709267564,
                          0.7801126516
                        ]
                      },
                      {
                        "learn": [
                          0.3696381916,
                          0.8243999869
                        ],
                        "iteration": 104,
                        "passed_time": 1.4672157,
                        "remaining_time": 5.519525727,
                        "test": [
                          0.3707360295,
                          0.7796622402
                        ]
                      },
                      {
                        "learn": [
                          0.369521547,
                          0.8246406705
                        ],
                        "iteration": 105,
                        "passed_time": 1.47955891,
                        "remaining_time": 5.499492553,
                        "test": [
                          0.3706576838,
                          0.7797185132
                        ]
                      },
                      {
                        "learn": [
                          0.3693810902,
                          0.8248813226
                        ],
                        "iteration": 106,
                        "passed_time": 1.495754036,
                        "remaining_time": 5.493750806,
                        "test": [
                          0.3705320604,
                          0.7801868754
                        ]
                      },
                      {
                        "learn": [
                          0.3692114667,
                          0.8249689197
                        ],
                        "iteration": 107,
                        "passed_time": 1.508044165,
                        "remaining_time": 5.473641784,
                        "test": [
                          0.3704165779,
                          0.7801290602
                        ]
                      },
                      {
                        "learn": [
                          0.369071553,
                          0.824964437
                        ],
                        "iteration": 108,
                        "passed_time": 1.529542006,
                        "remaining_time": 5.486705729,
                        "test": [
                          0.3703057166,
                          0.7799517169
                        ]
                      },
                      {
                        "learn": [
                          0.3687627172,
                          0.8256106733
                        ],
                        "iteration": 109,
                        "passed_time": 1.543840182,
                        "remaining_time": 5.473615191,
                        "test": [
                          0.3700045131,
                          0.7804913191
                        ]
                      },
                      {
                        "learn": [
                          0.3685474133,
                          0.8258937324
                        ],
                        "iteration": 110,
                        "passed_time": 1.557396867,
                        "remaining_time": 5.457904337,
                        "test": [
                          0.3698284493,
                          0.7802051467
                        ]
                      },
                      {
                        "learn": [
                          0.3675363995,
                          0.8255584382
                        ],
                        "iteration": 111,
                        "passed_time": 1.571290981,
                        "remaining_time": 5.443400897,
                        "test": [
                          0.3688026483,
                          0.7800582294
                        ]
                      },
                      {
                        "learn": [
                          0.3673829363,
                          0.825752754
                        ],
                        "iteration": 112,
                        "passed_time": 1.583305899,
                        "remaining_time": 5.422472414,
                        "test": [
                          0.3686515449,
                          0.7806263709
                        ]
                      },
                      {
                        "learn": [
                          0.3672214752,
                          0.8258831599
                        ],
                        "iteration": 113,
                        "passed_time": 1.595446006,
                        "remaining_time": 5.402124196,
                        "test": [
                          0.3684970754,
                          0.7809366352
                        ]
                      },
                      {
                        "learn": [
                          0.366947119,
                          0.8258987635
                        ],
                        "iteration": 114,
                        "passed_time": 1.608475819,
                        "remaining_time": 5.384897308,
                        "test": [
                          0.368223509,
                          0.7813669065
                        ]
                      },
                      {
                        "learn": [
                          0.3668030636,
                          0.8259406846
                        ],
                        "iteration": 115,
                        "passed_time": 1.62141761,
                        "remaining_time": 5.367451399,
                        "test": [
                          0.3681626661,
                          0.7815174398
                        ]
                      },
                      {
                        "learn": [
                          0.3666430324,
                          0.8263979619
                        ],
                        "iteration": 116,
                        "passed_time": 1.634622485,
                        "remaining_time": 5.350943689,
                        "test": [
                          0.3680306082,
                          0.7816488692
                        ]
                      },
                      {
                        "learn": [
                          0.3665233354,
                          0.8265072833
                        ],
                        "iteration": 117,
                        "passed_time": 1.648327118,
                        "remaining_time": 5.336109821,
                        "test": [
                          0.3678869572,
                          0.7818116463
                        ]
                      },
                      {
                        "learn": [
                          0.3664238228,
                          0.8265164503
                        ],
                        "iteration": 118,
                        "passed_time": 1.660249093,
                        "remaining_time": 5.315587433,
                        "test": [
                          0.3678253233,
                          0.7817711328
                        ]
                      },
                      {
                        "learn": [
                          0.366310157,
                          0.8268063442
                        ],
                        "iteration": 119,
                        "passed_time": 1.673729857,
                        "remaining_time": 5.300144549,
                        "test": [
                          0.3676891223,
                          0.781840385
                        ]
                      },
                      {
                        "learn": [
                          0.3660871369,
                          0.8269023778
                        ],
                        "iteration": 120,
                        "passed_time": 1.68639788,
                        "remaining_time": 5.282188401,
                        "test": [
                          0.3674821318,
                          0.7818566764
                        ]
                      },
                      {
                        "learn": [
                          0.3659082669,
                          0.8271445608
                        ],
                        "iteration": 121,
                        "passed_time": 1.699007401,
                        "remaining_time": 5.264137686,
                        "test": [
                          0.3673141792,
                          0.7820642004
                        ]
                      },
                      {
                        "learn": [
                          0.3658168576,
                          0.8272032403
                        ],
                        "iteration": 122,
                        "passed_time": 1.714640284,
                        "remaining_time": 5.255442173,
                        "test": [
                          0.3672609539,
                          0.782183205
                        ]
                      },
                      {
                        "learn": [
                          0.3656996757,
                          0.827304646
                        ],
                        "iteration": 123,
                        "passed_time": 1.726511475,
                        "remaining_time": 5.235228343,
                        "test": [
                          0.3671720523,
                          0.7824054093
                        ]
                      },
                      {
                        "learn": [
                          0.3651584708,
                          0.827334019
                        ],
                        "iteration": 124,
                        "passed_time": 1.739507082,
                        "remaining_time": 5.218521245,
                        "test": [
                          0.3666754473,
                          0.7825055703
                        ]
                      },
                      {
                        "learn": [
                          0.3650195075,
                          0.8275918341
                        ],
                        "iteration": 125,
                        "passed_time": 1.751684501,
                        "remaining_time": 5.199444473,
                        "test": [
                          0.3665648374,
                          0.7825524576
                        ]
                      },
                      {
                        "learn": [
                          0.3649110473,
                          0.8276109661
                        ],
                        "iteration": 126,
                        "passed_time": 1.764824953,
                        "remaining_time": 5.183304784,
                        "test": [
                          0.3664892033,
                          0.7826086957
                        ]
                      },
                      {
                        "learn": [
                          0.3648279124,
                          0.8276570757
                        ],
                        "iteration": 127,
                        "passed_time": 1.776113559,
                        "remaining_time": 5.16183003,
                        "test": [
                          0.3664266547,
                          0.7827398047
                        ]
                      },
                      {
                        "learn": [
                          0.3644853947,
                          0.8272623512
                        ],
                        "iteration": 128,
                        "passed_time": 1.788683177,
                        "remaining_time": 5.144197355,
                        "test": [
                          0.3661470198,
                          0.7827148087
                        ]
                      },
                      {
                        "learn": [
                          0.3643803894,
                          0.8276064324
                        ],
                        "iteration": 129,
                        "passed_time": 1.800557891,
                        "remaining_time": 5.124664767,
                        "test": [
                          0.3660025649,
                          0.782920446
                        ]
                      },
                      {
                        "learn": [
                          0.364297534,
                          0.8278165114
                        ],
                        "iteration": 130,
                        "passed_time": 1.812788289,
                        "remaining_time": 5.106250982,
                        "test": [
                          0.3659335844,
                          0.7828704533
                        ]
                      },
                      {
                        "learn": [
                          0.3640892506,
                          0.8280916627
                        ],
                        "iteration": 131,
                        "passed_time": 1.82680738,
                        "remaining_time": 5.092917545,
                        "test": [
                          0.365737117,
                          0.7828768106
                        ]
                      },
                      {
                        "learn": [
                          0.3639293212,
                          0.8278153245
                        ],
                        "iteration": 132,
                        "passed_time": 1.854357534,
                        "remaining_time": 5.11691139,
                        "test": [
                          0.3655937938,
                          0.782421679
                        ]
                      },
                      {
                        "learn": [
                          0.3637740946,
                          0.8278567127
                        ],
                        "iteration": 133,
                        "passed_time": 1.871273414,
                        "remaining_time": 5.11109007,
                        "test": [
                          0.3654231159,
                          0.782736495
                        ]
                      },
                      {
                        "learn": [
                          0.3636447302,
                          0.827797217
                        ],
                        "iteration": 134,
                        "passed_time": 1.883017298,
                        "remaining_time": 5.091120843,
                        "test": [
                          0.3652740989,
                          0.7830979858
                        ]
                      },
                      {
                        "learn": [
                          0.3635127228,
                          0.8279667915
                        ],
                        "iteration": 135,
                        "passed_time": 1.896513977,
                        "remaining_time": 5.075963879,
                        "test": [
                          0.3650798884,
                          0.7833100333
                        ]
                      },
                      {
                        "learn": [
                          0.3633713784,
                          0.8280464185
                        ],
                        "iteration": 136,
                        "passed_time": 1.908410077,
                        "remaining_time": 5.056590203,
                        "test": [
                          0.3649400237,
                          0.7834940666
                        ]
                      },
                      {
                        "learn": [
                          0.3632509992,
                          0.8282246518
                        ],
                        "iteration": 137,
                        "passed_time": 1.921727804,
                        "remaining_time": 5.041054094,
                        "test": [
                          0.3648480118,
                          0.7834216937
                        ]
                      },
                      {
                        "learn": [
                          0.3630932314,
                          0.8281107492
                        ],
                        "iteration": 138,
                        "passed_time": 1.935725036,
                        "remaining_time": 5.027314662,
                        "test": [
                          0.3646763431,
                          0.7834541149
                        ]
                      },
                      {
                        "learn": [
                          0.3629437493,
                          0.8285579319
                        ],
                        "iteration": 139,
                        "passed_time": 1.947286274,
                        "remaining_time": 5.007307562,
                        "test": [
                          0.3645110531,
                          0.783625731
                        ]
                      },
                      {
                        "learn": [
                          0.3623279285,
                          0.8285267377
                        ],
                        "iteration": 140,
                        "passed_time": 1.960149753,
                        "remaining_time": 4.990735896,
                        "test": [
                          0.3638907117,
                          0.7839293408
                        ]
                      },
                      {
                        "learn": [
                          0.3622208536,
                          0.8288590604
                        ],
                        "iteration": 141,
                        "passed_time": 1.972245071,
                        "remaining_time": 4.972279827,
                        "test": [
                          0.363808253,
                          0.7837352857
                        ]
                      },
                      {
                        "learn": [
                          0.3620688326,
                          0.8289385821
                        ],
                        "iteration": 142,
                        "passed_time": 1.984706852,
                        "remaining_time": 4.954827596,
                        "test": [
                          0.3636444468,
                          0.7839816277
                        ]
                      },
                      {
                        "learn": [
                          0.3619492738,
                          0.8288487849
                        ],
                        "iteration": 143,
                        "passed_time": 1.998126767,
                        "remaining_time": 4.939813397,
                        "test": [
                          0.3635183116,
                          0.7834947973
                        ]
                      },
                      {
                        "learn": [
                          0.3618507624,
                          0.8288957285
                        ],
                        "iteration": 144,
                        "passed_time": 2.011214739,
                        "remaining_time": 4.924008499,
                        "test": [
                          0.363466074,
                          0.7837285217
                        ]
                      },
                      {
                        "learn": [
                          0.3616951111,
                          0.8291682269
                        ],
                        "iteration": 145,
                        "passed_time": 2.023336564,
                        "remaining_time": 4.905898245,
                        "test": [
                          0.3633083825,
                          0.7839185167
                        ]
                      },
                      {
                        "learn": [
                          0.3615949903,
                          0.8292873541
                        ],
                        "iteration": 146,
                        "passed_time": 2.035547355,
                        "remaining_time": 4.888083104,
                        "test": [
                          0.3632486541,
                          0.7836781527
                        ]
                      },
                      {
                        "learn": [
                          0.3614496885,
                          0.8293262579
                        ],
                        "iteration": 147,
                        "passed_time": 2.048338097,
                        "remaining_time": 4.871723041,
                        "test": [
                          0.3631037051,
                          0.7834659783
                        ]
                      },
                      {
                        "learn": [
                          0.3613662646,
                          0.8294215306
                        ],
                        "iteration": 148,
                        "passed_time": 2.060940997,
                        "remaining_time": 4.854968389,
                        "test": [
                          0.3630402734,
                          0.7839340147
                        ]
                      },
                      {
                        "learn": [
                          0.3608812889,
                          0.8294470136
                        ],
                        "iteration": 149,
                        "passed_time": 2.074239376,
                        "remaining_time": 4.839891877,
                        "test": [
                          0.3625487058,
                          0.7842771581
                        ]
                      },
                      {
                        "learn": [
                          0.3607943702,
                          0.8295208479
                        ],
                        "iteration": 150,
                        "passed_time": 2.086816159,
                        "remaining_time": 4.823171123,
                        "test": [
                          0.3624190875,
                          0.7841703409
                        ]
                      },
                      {
                        "learn": [
                          0.3606785777,
                          0.8295136402
                        ],
                        "iteration": 151,
                        "passed_time": 2.103841041,
                        "remaining_time": 4.8166887,
                        "test": [
                          0.3622934719,
                          0.7838525795
                        ]
                      },
                      {
                        "learn": [
                          0.3605983797,
                          0.8297280141
                        ],
                        "iteration": 152,
                        "passed_time": 2.122345117,
                        "remaining_time": 4.813423238,
                        "test": [
                          0.3621750148,
                          0.7839833668
                        ]
                      },
                      {
                        "learn": [
                          0.3605175687,
                          0.8295596972
                        ],
                        "iteration": 153,
                        "passed_time": 2.135860881,
                        "remaining_time": 4.798752368,
                        "test": [
                          0.3620883214,
                          0.7841084298
                        ]
                      },
                      {
                        "learn": [
                          0.3604227505,
                          0.8296279418
                        ],
                        "iteration": 154,
                        "passed_time": 2.156328697,
                        "remaining_time": 4.799570325,
                        "test": [
                          0.3620127397,
                          0.784083169
                        ]
                      },
                      {
                        "learn": [
                          0.3603435984,
                          0.8296168495
                        ],
                        "iteration": 155,
                        "passed_time": 2.173240426,
                        "remaining_time": 4.792273759,
                        "test": [
                          0.3619336492,
                          0.784036717
                        ]
                      },
                      {
                        "learn": [
                          0.3602535637,
                          0.8297446414
                        ],
                        "iteration": 156,
                        "passed_time": 2.185868649,
                        "remaining_time": 4.775496476,
                        "test": [
                          0.3618603986,
                          0.784438867
                        ]
                      },
                      {
                        "learn": [
                          0.3601330685,
                          0.8296937547
                        ],
                        "iteration": 157,
                        "passed_time": 2.197780816,
                        "remaining_time": 4.757221767,
                        "test": [
                          0.3617482453,
                          0.7849126959
                        ]
                      },
                      {
                        "learn": [
                          0.3594866763,
                          0.8297595419
                        ],
                        "iteration": 158,
                        "passed_time": 2.211308954,
                        "remaining_time": 4.742492788,
                        "test": [
                          0.3610426006,
                          0.7850614673
                        ]
                      },
                      {
                        "learn": [
                          0.3594243919,
                          0.8298253034
                        ],
                        "iteration": 159,
                        "passed_time": 2.223686757,
                        "remaining_time": 4.725334359,
                        "test": [
                          0.3610119773,
                          0.7848772621
                        ]
                      },
                      {
                        "learn": [
                          0.3592735929,
                          0.8299180328
                        ],
                        "iteration": 160,
                        "passed_time": 2.236419712,
                        "remaining_time": 4.708983121,
                        "test": [
                          0.3608840722,
                          0.7848853868
                        ]
                      },
                      {
                        "learn": [
                          0.3591454619,
                          0.830040811
                        ],
                        "iteration": 161,
                        "passed_time": 2.247594021,
                        "remaining_time": 4.689424562,
                        "test": [
                          0.3607763216,
                          0.7850005372
                        ]
                      },
                      {
                        "learn": [
                          0.3589495141,
                          0.8303247924
                        ],
                        "iteration": 162,
                        "passed_time": 2.260213848,
                        "remaining_time": 4.672957464,
                        "test": [
                          0.3606172244,
                          0.7845999714
                        ]
                      },
                      {
                        "learn": [
                          0.3588274268,
                          0.8302358828
                        ],
                        "iteration": 163,
                        "passed_time": 2.272422145,
                        "remaining_time": 4.655694151,
                        "test": [
                          0.360516639,
                          0.7848246242
                        ]
                      },
                      {
                        "learn": [
                          0.3587638985,
                          0.8304253176
                        ],
                        "iteration": 164,
                        "passed_time": 2.284493879,
                        "remaining_time": 4.638214845,
                        "test": [
                          0.3604877783,
                          0.7849831794
                        ]
                      },
                      {
                        "learn": [
                          0.3586918801,
                          0.8299843933
                        ],
                        "iteration": 165,
                        "passed_time": 2.296362525,
                        "remaining_time": 4.620392069,
                        "test": [
                          0.3603882876,
                          0.7850440513
                        ]
                      },
                      {
                        "learn": [
                          0.3585618024,
                          0.8300060103
                        ],
                        "iteration": 166,
                        "passed_time": 2.308981893,
                        "remaining_time": 4.604137548,
                        "test": [
                          0.3603025681,
                          0.7846181363
                        ]
                      },
                      {
                        "learn": [
                          0.3585031675,
                          0.8300581414
                        ],
                        "iteration": 167,
                        "passed_time": 2.32231691,
                        "remaining_time": 4.589340561,
                        "test": [
                          0.3602733266,
                          0.7847177506
                        ]
                      },
                      {
                        "learn": [
                          0.3584269014,
                          0.8303749777
                        ],
                        "iteration": 168,
                        "passed_time": 2.333970712,
                        "remaining_time": 4.571268082,
                        "test": [
                          0.3602359695,
                          0.7846561225
                        ]
                      },
                      {
                        "learn": [
                          0.3583588566,
                          0.8304129655
                        ],
                        "iteration": 169,
                        "passed_time": 2.347065423,
                        "remaining_time": 4.556068175,
                        "test": [
                          0.3602120088,
                          0.784612632
                        ]
                      },
                      {
                        "learn": [
                          0.3583021993,
                          0.8304828729
                        ],
                        "iteration": 170,
                        "passed_time": 2.359880311,
                        "remaining_time": 4.540354516,
                        "test": [
                          0.3601638573,
                          0.7847331521
                        ]
                      },
                      {
                        "learn": [
                          0.3582366228,
                          0.8302965345
                        ],
                        "iteration": 171,
                        "passed_time": 2.373160964,
                        "remaining_time": 4.525562768,
                        "test": [
                          0.3601064102,
                          0.7844932408
                        ]
                      },
                      {
                        "learn": [
                          0.3580996097,
                          0.830283051
                        ],
                        "iteration": 172,
                        "passed_time": 2.388208688,
                        "remaining_time": 4.51412856,
                        "test": [
                          0.3600003661,
                          0.7844568484
                        ]
                      },
                      {
                        "learn": [
                          0.3579773163,
                          0.8306408404
                        ],
                        "iteration": 173,
                        "passed_time": 2.400824372,
                        "remaining_time": 4.498096236,
                        "test": [
                          0.3598859801,
                          0.7845691383
                        ]
                      },
                      {
                        "learn": [
                          0.3578902534,
                          0.8307302659
                        ],
                        "iteration": 174,
                        "passed_time": 2.41434047,
                        "remaining_time": 4.483775158,
                        "test": [
                          0.3597642431,
                          0.7848373125
                        ]
                      },
                      {
                        "learn": [
                          0.3578055086,
                          0.8307387627
                        ],
                        "iteration": 175,
                        "passed_time": 2.428072401,
                        "remaining_time": 4.469860557,
                        "test": [
                          0.3597255839,
                          0.7849089022
                        ]
                      },
                      {
                        "learn": [
                          0.3577556909,
                          0.8306873153
                        ],
                        "iteration": 176,
                        "passed_time": 2.440909357,
                        "remaining_time": 4.454314815,
                        "test": [
                          0.3596968146,
                          0.7849704777
                        ]
                      },
                      {
                        "learn": [
                          0.3576374613,
                          0.8309710519
                        ],
                        "iteration": 177,
                        "passed_time": 2.454589077,
                        "remaining_time": 4.440324061,
                        "test": [
                          0.3595910966,
                          0.7854152503
                        ]
                      },
                      {
                        "learn": [
                          0.3575703277,
                          0.8310069467
                        ],
                        "iteration": 178,
                        "passed_time": 2.466910383,
                        "remaining_time": 4.423900743,
                        "test": [
                          0.3594986693,
                          0.7853182127
                        ]
                      },
                      {
                        "learn": [
                          0.3575076121,
                          0.8310579374
                        ],
                        "iteration": 179,
                        "passed_time": 2.480376596,
                        "remaining_time": 4.409558394,
                        "test": [
                          0.3594389514,
                          0.7853182127
                        ]
                      },
                      {
                        "learn": [
                          0.3574232169,
                          0.8309525355
                        ],
                        "iteration": 180,
                        "passed_time": 2.494161367,
                        "remaining_time": 4.395787161,
                        "test": [
                          0.359354333,
                          0.7852185734
                        ]
                      },
                      {
                        "learn": [
                          0.3572980768,
                          0.830627732
                        ],
                        "iteration": 181,
                        "passed_time": 2.507349441,
                        "remaining_time": 4.380973199,
                        "test": [
                          0.3592597828,
                          0.7854764207
                        ]
                      },
                      {
                        "learn": [
                          0.3572492635,
                          0.830679233
                        ],
                        "iteration": 182,
                        "passed_time": 2.518683953,
                        "remaining_time": 4.362966191,
                        "test": [
                          0.3591956418,
                          0.7855326768
                        ]
                      },
                      {
                        "learn": [
                          0.3571780881,
                          0.8305872412
                        ],
                        "iteration": 183,
                        "passed_time": 2.531376668,
                        "remaining_time": 4.347364278,
                        "test": [
                          0.3591477217,
                          0.785254116
                        ]
                      },
                      {
                        "learn": [
                          0.3570812808,
                          0.8306216985
                        ],
                        "iteration": 184,
                        "passed_time": 2.54505294,
                        "remaining_time": 4.33346852,
                        "test": [
                          0.3590313828,
                          0.7855071426
                        ]
                      },
                      {
                        "learn": [
                          0.3570299809,
                          0.8306652148
                        ],
                        "iteration": 185,
                        "passed_time": 2.557101395,
                        "remaining_time": 4.316827086,
                        "test": [
                          0.3589619847,
                          0.7854790205
                        ]
                      },
                      {
                        "learn": [
                          0.3569365524,
                          0.8310106227
                        ],
                        "iteration": 186,
                        "passed_time": 2.569476518,
                        "remaining_time": 4.300781552,
                        "test": [
                          0.3588738013,
                          0.7856708299
                        ]
                      },
                      {
                        "learn": [
                          0.3567817936,
                          0.8307817325
                        ],
                        "iteration": 187,
                        "passed_time": 2.581701928,
                        "remaining_time": 4.284526605,
                        "test": [
                          0.358703969,
                          0.7856375743
                        ]
                      },
                      {
                        "learn": [
                          0.3567072936,
                          0.8307522304
                        ],
                        "iteration": 188,
                        "passed_time": 2.59490933,
                        "remaining_time": 4.269930167,
                        "test": [
                          0.3586815577,
                          0.7856375743
                        ]
                      },
                      {
                        "learn": [
                          0.356618361,
                          0.8308932257
                        ],
                        "iteration": 189,
                        "passed_time": 2.614803753,
                        "remaining_time": 4.266258755,
                        "test": [
                          0.3585736208,
                          0.785780769
                        ]
                      },
                      {
                        "learn": [
                          0.3565102659,
                          0.8312814682
                        ],
                        "iteration": 190,
                        "passed_time": 2.627154709,
                        "remaining_time": 4.25021364,
                        "test": [
                          0.3584953679,
                          0.7860415175
                        ]
                      },
                      {
                        "learn": [
                          0.3564047122,
                          0.8314770919
                        ],
                        "iteration": 191,
                        "passed_time": 2.639300149,
                        "remaining_time": 4.233877322,
                        "test": [
                          0.3583929668,
                          0.7861308906
                        ]
                      },
                      {
                        "learn": [
                          0.3563283338,
                          0.831539473
                        ],
                        "iteration": 192,
                        "passed_time": 2.652022509,
                        "remaining_time": 4.218502126,
                        "test": [
                          0.3583161228,
                          0.7862789284
                        ]
                      },
                      {
                        "learn": [
                          0.3562280632,
                          0.8317699374
                        ],
                        "iteration": 193,
                        "passed_time": 2.664355445,
                        "remaining_time": 4.202540031,
                        "test": [
                          0.358240198,
                          0.7862453532
                        ]
                      },
                      {
                        "learn": [
                          0.3558648386,
                          0.8318667403
                        ],
                        "iteration": 194,
                        "passed_time": 2.677346097,
                        "remaining_time": 4.187643896,
                        "test": [
                          0.3579244699,
                          0.7864477121
                        ]
                      },
                      {
                        "learn": [
                          0.355772223,
                          0.8313556158
                        ],
                        "iteration": 195,
                        "passed_time": 2.690850361,
                        "remaining_time": 4.173563826,
                        "test": [
                          0.3578250061,
                          0.7861536261
                        ]
                      },
                      {
                        "learn": [
                          0.3551863344,
                          0.8316703172
                        ],
                        "iteration": 196,
                        "passed_time": 2.708295818,
                        "remaining_time": 4.165551435,
                        "test": [
                          0.3572250184,
                          0.7865489762
                        ]
                      },
                      {
                        "learn": [
                          0.3550845801,
                          0.8317599351
                        ],
                        "iteration": 197,
                        "passed_time": 2.720154232,
                        "remaining_time": 4.148922111,
                        "test": [
                          0.3571293952,
                          0.7865642308
                        ]
                      },
                      {
                        "learn": [
                          0.3549942361,
                          0.831857546
                        ],
                        "iteration": 198,
                        "passed_time": 2.732004977,
                        "remaining_time": 4.132329137,
                        "test": [
                          0.3570441891,
                          0.7867119128
                        ]
                      },
                      {
                        "learn": [
                          0.3549510443,
                          0.8320171242
                        ],
                        "iteration": 199,
                        "passed_time": 2.750137618,
                        "remaining_time": 4.125206427,
                        "test": [
                          0.3570238211,
                          0.786956677
                        ]
                      },
                      {
                        "learn": [
                          0.3548300111,
                          0.8320441093
                        ],
                        "iteration": 200,
                        "passed_time": 2.762382972,
                        "remaining_time": 4.109216461,
                        "test": [
                          0.3569307199,
                          0.7868547955
                        ]
                      },
                      {
                        "learn": [
                          0.3547297554,
                          0.8318239361
                        ],
                        "iteration": 201,
                        "passed_time": 2.775159649,
                        "remaining_time": 4.094047403,
                        "test": [
                          0.3568601801,
                          0.7867176609
                        ]
                      },
                      {
                        "learn": [
                          0.3546655218,
                          0.8319779239
                        ],
                        "iteration": 202,
                        "passed_time": 2.788701275,
                        "remaining_time": 4.080021077,
                        "test": [
                          0.3567986707,
                          0.7869883825
                        ]
                      },
                      {
                        "learn": [
                          0.3545148229,
                          0.8320950002
                        ],
                        "iteration": 203,
                        "passed_time": 2.800627983,
                        "remaining_time": 4.063656289,
                        "test": [
                          0.3566258221,
                          0.7869520169
                        ]
                      },
                      {
                        "learn": [
                          0.3544382983,
                          0.8323654414
                        ],
                        "iteration": 204,
                        "passed_time": 2.81473304,
                        "remaining_time": 4.050469496,
                        "test": [
                          0.3565359638,
                          0.7872378434
                        ]
                      },
                      {
                        "learn": [
                          0.3543718049,
                          0.8323517482
                        ],
                        "iteration": 205,
                        "passed_time": 2.827264874,
                        "remaining_time": 4.03502851,
                        "test": [
                          0.3564863757,
                          0.7875214408
                        ]
                      },
                      {
                        "learn": [
                          0.3543277377,
                          0.8323138578
                        ],
                        "iteration": 206,
                        "passed_time": 2.858698636,
                        "remaining_time": 4.046370533,
                        "test": [
                          0.3564735324,
                          0.7874522134
                        ]
                      },
                      {
                        "learn": [
                          0.3541026989,
                          0.8323628165
                        ],
                        "iteration": 207,
                        "passed_time": 2.87152124,
                        "remaining_time": 4.031174049,
                        "test": [
                          0.3562514718,
                          0.7874674002
                        ]
                      },
                      {
                        "learn": [
                          0.3540473764,
                          0.8322957198
                        ],
                        "iteration": 208,
                        "passed_time": 2.883609151,
                        "remaining_time": 4.014977334,
                        "test": [
                          0.3562391666,
                          0.787443754
                        ]
                      },
                      {
                        "learn": [
                          0.3539607784,
                          0.8324904364
                        ],
                        "iteration": 209,
                        "passed_time": 2.896211825,
                        "remaining_time": 3.999530616,
                        "test": [
                          0.3561275054,
                          0.7875
                        ]
                      },
                      {
                        "learn": [
                          0.3539225264,
                          0.8324608178
                        ],
                        "iteration": 210,
                        "passed_time": 2.908126533,
                        "remaining_time": 3.983168569,
                        "test": [
                          0.3560865087,
                          0.7872446793
                        ]
                      },
                      {
                        "learn": [
                          0.3538728117,
                          0.8325365055
                        ],
                        "iteration": 211,
                        "passed_time": 2.919740176,
                        "remaining_time": 3.966439484,
                        "test": [
                          0.3560444002,
                          0.7872492325
                        ]
                      },
                      {
                        "learn": [
                          0.3537815275,
                          0.8325717064
                        ],
                        "iteration": 212,
                        "passed_time": 2.933125479,
                        "remaining_time": 3.952145598,
                        "test": [
                          0.3559362019,
                          0.7874785837
                        ]
                      },
                      {
                        "learn": [
                          0.3536338185,
                          0.8325365055
                        ],
                        "iteration": 213,
                        "passed_time": 2.946737925,
                        "remaining_time": 3.938163769,
                        "test": [
                          0.3557772447,
                          0.7875758658
                        ]
                      },
                      {
                        "learn": [
                          0.353480841,
                          0.8324932333
                        ],
                        "iteration": 214,
                        "passed_time": 2.960470853,
                        "remaining_time": 3.924345084,
                        "test": [
                          0.355591093,
                          0.7876298968
                        ]
                      },
                      {
                        "learn": [
                          0.3533964106,
                          0.8325583656
                        ],
                        "iteration": 215,
                        "passed_time": 2.973120387,
                        "remaining_time": 3.909102731,
                        "test": [
                          0.3555164919,
                          0.7877619507
                        ]
                      },
                      {
                        "learn": [
                          0.353310089,
                          0.8327123092
                        ],
                        "iteration": 216,
                        "passed_time": 2.98602543,
                        "remaining_time": 3.894217497,
                        "test": [
                          0.35544,
                          0.7877597658
                        ]
                      },
                      {
                        "learn": [
                          0.3532635022,
                          0.8326014745
                        ],
                        "iteration": 217,
                        "passed_time": 2.997711129,
                        "remaining_time": 3.877773111,
                        "test": [
                          0.3553840583,
                          0.7878852816
                        ]
                      },
                      {
                        "learn": [
                          0.3532189585,
                          0.8326365257
                        ],
                        "iteration": 218,
                        "passed_time": 3.010974545,
                        "remaining_time": 3.863396562,
                        "test": [
                          0.3553598693,
                          0.7876232671
                        ]
                      },
                      {
                        "learn": [
                          0.3531718815,
                          0.8326231713
                        ],
                        "iteration": 219,
                        "passed_time": 3.023228063,
                        "remaining_time": 3.847744808,
                        "test": [
                          0.3553370136,
                          0.7874544545
                        ]
                      },
                      {
                        "learn": [
                          0.3531061881,
                          0.8326691936
                        ],
                        "iteration": 220,
                        "passed_time": 3.035699056,
                        "remaining_time": 3.832398355,
                        "test": [
                          0.3552530685,
                          0.78740045
                        ]
                      },
                      {
                        "learn": [
                          0.353064598,
                          0.8326448624
                        ],
                        "iteration": 221,
                        "passed_time": 3.047397579,
                        "remaining_time": 3.816110482,
                        "test": [
                          0.3551845623,
                          0.7873548848
                        ]
                      },
                      {
                        "learn": [
                          0.3529661402,
                          0.8325746408
                        ],
                        "iteration": 222,
                        "passed_time": 3.058820644,
                        "remaining_time": 3.799521607,
                        "test": [
                          0.3551003886,
                          0.7872036561
                        ]
                      },
                      {
                        "learn": [
                          0.3528742706,
                          0.8327096597
                        ],
                        "iteration": 223,
                        "passed_time": 3.070764517,
                        "remaining_time": 3.783620565,
                        "test": [
                          0.3550293842,
                          0.7876298968
                        ]
                      },
                      {
                        "learn": [
                          0.3528221448,
                          0.8328554999
                        ],
                        "iteration": 224,
                        "passed_time": 3.083777379,
                        "remaining_time": 3.769061241,
                        "test": [
                          0.3549826877,
                          0.7876753901
                        ]
                      },
                      {
                        "learn": [
                          0.3527595341,
                          0.8326664183
                        ],
                        "iteration": 225,
                        "passed_time": 3.095538698,
                        "remaining_time": 3.752998245,
                        "test": [
                          0.3549029618,
                          0.7876039844
                        ]
                      },
                      {
                        "learn": [
                          0.3527224156,
                          0.8326961705
                        ],
                        "iteration": 226,
                        "passed_time": 3.10726961,
                        "remaining_time": 3.736936579,
                        "test": [
                          0.3548910682,
                          0.7875066928
                        ]
                      },
                      {
                        "learn": [
                          0.3526552803,
                          0.8327637312
                        ],
                        "iteration": 227,
                        "passed_time": 3.119973561,
                        "remaining_time": 3.722073721,
                        "test": [
                          0.3548615113,
                          0.787623568
                        ]
                      },
                      {
                        "learn": [
                          0.3526020386,
                          0.8331551495
                        ],
                        "iteration": 228,
                        "passed_time": 3.13308163,
                        "remaining_time": 3.707707955,
                        "test": [
                          0.354821667,
                          0.7879350348
                        ]
                      },
                      {
                        "learn": [
                          0.3525376598,
                          0.8332793365
                        ],
                        "iteration": 229,
                        "passed_time": 3.14544221,
                        "remaining_time": 3.692475638,
                        "test": [
                          0.3547482824,
                          0.7880756873
                        ]
                      },
                      {
                        "learn": [
                          0.3524851075,
                          0.833292835
                        ],
                        "iteration": 230,
                        "passed_time": 3.162673529,
                        "remaining_time": 3.68294017,
                        "test": [
                          0.3547068506,
                          0.7878074026
                        ]
                      },
                      {
                        "learn": [
                          0.3524407851,
                          0.8331227115
                        ],
                        "iteration": 231,
                        "passed_time": 3.185190243,
                        "remaining_time": 3.679443902,
                        "test": [
                          0.354666373,
                          0.787493754
                        ]
                      },
                      {
                        "learn": [
                          0.3523971778,
                          0.8330957164
                        ],
                        "iteration": 232,
                        "passed_time": 3.19890979,
                        "remaining_time": 3.665703493,
                        "test": [
                          0.3546472038,
                          0.7874785837
                        ]
                      },
                      {
                        "learn": [
                          0.3523576719,
                          0.8330822195
                        ],
                        "iteration": 233,
                        "passed_time": 3.212565217,
                        "remaining_time": 3.651890375,
                        "test": [
                          0.3545912268,
                          0.787593247
                        ]
                      },
                      {
                        "learn": [
                          0.3521048704,
                          0.8331686136
                        ],
                        "iteration": 234,
                        "passed_time": 3.224686744,
                        "remaining_time": 3.636348881,
                        "test": [
                          0.354323532,
                          0.7878030492
                        ]
                      },
                      {
                        "learn": [
                          0.3520275766,
                          0.8330092683
                        ],
                        "iteration": 235,
                        "passed_time": 3.23842687,
                        "remaining_time": 3.622647007,
                        "test": [
                          0.3542579397,
                          0.7878008714
                        ]
                      },
                      {
                        "learn": [
                          0.3519735291,
                          0.8333603396
                        ],
                        "iteration": 236,
                        "passed_time": 3.251097426,
                        "remaining_time": 3.607757903,
                        "test": [
                          0.3542164462,
                          0.7881147102
                        ]
                      },
                      {
                        "learn": [
                          0.351934046,
                          0.8332712037
                        ],
                        "iteration": 237,
                        "passed_time": 3.263309746,
                        "remaining_time": 3.592382998,
                        "test": [
                          0.3541820915,
                          0.7879502573
                        ]
                      },
                      {
                        "learn": [
                          0.351843727,
                          0.8334062515
                        ],
                        "iteration": 238,
                        "passed_time": 3.275397621,
                        "remaining_time": 3.576898658,
                        "test": [
                          0.3540905667,
                          0.7877228713
                        ]
                      },
                      {
                        "learn": [
                          0.351808299,
                          0.8333657461
                        ],
                        "iteration": 239,
                        "passed_time": 3.287070054,
                        "remaining_time": 3.560992559,
                        "test": [
                          0.3540433929,
                          0.7880629021
                        ]
                      },
                      {
                        "learn": [
                          0.3517514884,
                          0.8334602979
                        ],
                        "iteration": 240,
                        "passed_time": 3.300065686,
                        "remaining_time": 3.546543621,
                        "test": [
                          0.3540018344,
                          0.7885027885
                        ]
                      },
                      {
                        "learn": [
                          0.3517125812,
                          0.8333252289
                        ],
                        "iteration": 241,
                        "passed_time": 3.311737231,
                        "remaining_time": 3.530695064,
                        "test": [
                          0.3539606261,
                          0.7884746005
                        ]
                      },
                      {
                        "learn": [
                          0.3515440312,
                          0.8334494999
                        ],
                        "iteration": 242,
                        "passed_time": 3.324460347,
                        "remaining_time": 3.515993042,
                        "test": [
                          0.3537966419,
                          0.7885179095
                        ]
                      },
                      {
                        "learn": [
                          0.3514670056,
                          0.8336169316
                        ],
                        "iteration": 243,
                        "passed_time": 3.336390272,
                        "remaining_time": 3.500475039,
                        "test": [
                          0.3537227387,
                          0.7886629258
                        ]
                      },
                      {
                        "learn": [
                          0.3513877446,
                          0.8336115388
                        ],
                        "iteration": 244,
                        "passed_time": 3.348475808,
                        "remaining_time": 3.48514829,
                        "test": [
                          0.3536268433,
                          0.7884636003
                        ]
                      },
                      {
                        "learn": [
                          0.351353986,
                          0.8336628529
                        ],
                        "iteration": 245,
                        "passed_time": 3.368250199,
                        "remaining_time": 3.477786791,
                        "test": [
                          0.3535997057,
                          0.7884787192
                        ]
                      },
                      {
                        "learn": [
                          0.3513092231,
                          0.8337627404
                        ],
                        "iteration": 246,
                        "passed_time": 3.380840259,
                        "remaining_time": 3.462965933,
                        "test": [
                          0.3535464919,
                          0.7885673455
                        ]
                      },
                      {
                        "learn": [
                          0.3512399178,
                          0.8338518374
                        ],
                        "iteration": 247,
                        "passed_time": 3.392587929,
                        "remaining_time": 3.447307089,
                        "test": [
                          0.3534802773,
                          0.7885371257
                        ]
                      },
                      {
                        "learn": [
                          0.351189699,
                          0.8339003921
                        ],
                        "iteration": 248,
                        "passed_time": 3.405204621,
                        "remaining_time": 3.432555662,
                        "test": [
                          0.3534686382,
                          0.7884505432
                        ]
                      },
                      {
                        "learn": [
                          0.3511361215,
                          0.8339624476
                        ],
                        "iteration": 249,
                        "passed_time": 3.41622198,
                        "remaining_time": 3.41622198,
                        "test": [
                          0.3534493498,
                          0.7884505432
                        ]
                      },
                      {
                        "learn": [
                          0.3510829287,
                          0.8340355198
                        ],
                        "iteration": 250,
                        "passed_time": 3.427766793,
                        "remaining_time": 3.40045391,
                        "test": [
                          0.3533801796,
                          0.7883185588
                        ]
                      },
                      {
                        "learn": [
                          0.3509523303,
                          0.8341272156
                        ],
                        "iteration": 251,
                        "passed_time": 3.440223099,
                        "remaining_time": 3.385616383,
                        "test": [
                          0.3532746867,
                          0.7882815291
                        ]
                      },
                      {
                        "learn": [
                          0.3508989142,
                          0.8340948122
                        ],
                        "iteration": 252,
                        "passed_time": 3.453516154,
                        "remaining_time": 3.371614585,
                        "test": [
                          0.353248259,
                          0.7881256028
                        ]
                      },
                      {
                        "learn": [
                          0.3508616875,
                          0.8342757157
                        ],
                        "iteration": 253,
                        "passed_time": 3.465964543,
                        "remaining_time": 3.356800305,
                        "test": [
                          0.3532279929,
                          0.7883096931
                        ]
                      },
                      {
                        "learn": [
                          0.3508219826,
                          0.8340757779
                        ],
                        "iteration": 254,
                        "passed_time": 3.477713091,
                        "remaining_time": 3.341332186,
                        "test": [
                          0.3532000028,
                          0.7883941971
                        ]
                      },
                      {
                        "learn": [
                          0.3507187359,
                          0.834531908
                        ],
                        "iteration": 255,
                        "passed_time": 3.494021835,
                        "remaining_time": 3.330239562,
                        "test": [
                          0.353120942,
                          0.7880650348
                        ]
                      },
                      {
                        "learn": [
                          0.350653989,
                          0.8344647689
                        ],
                        "iteration": 256,
                        "passed_time": 3.513442063,
                        "remaining_time": 3.322048332,
                        "test": [
                          0.3530530804,
                          0.7882794354
                        ]
                      },
                      {
                        "learn": [
                          0.3505824576,
                          0.8345349384
                        ],
                        "iteration": 257,
                        "passed_time": 3.525771196,
                        "remaining_time": 3.307118719,
                        "test": [
                          0.3529995745,
                          0.7883227328
                        ]
                      },
                      {
                        "learn": [
                          0.3502550562,
                          0.8345892686
                        ],
                        "iteration": 258,
                        "passed_time": 3.54154481,
                        "remaining_time": 3.295414282,
                        "test": [
                          0.3527062805,
                          0.7885048433
                        ]
                      },
                      {
                        "learn": [
                          0.3502227309,
                          0.834327584
                        ],
                        "iteration": 259,
                        "passed_time": 3.553224166,
                        "remaining_time": 3.27989923,
                        "test": [
                          0.3526726691,
                          0.7883164706
                        ]
                      },
                      {
                        "learn": [
                          0.3501936232,
                          0.834370745
                        ],
                        "iteration": 260,
                        "passed_time": 3.564408695,
                        "remaining_time": 3.263960453,
                        "test": [
                          0.3526582376,
                          0.7884182306
                        ]
                      },
                      {
                        "learn": [
                          0.3501590414,
                          0.8345165159
                        ],
                        "iteration": 261,
                        "passed_time": 3.579411654,
                        "remaining_time": 3.251526617,
                        "test": [
                          0.3526379943,
                          0.7886175955
                        ]
                      },
                      {
                        "learn": [
                          0.3501274479,
                          0.8346515397
                        ],
                        "iteration": 262,
                        "passed_time": 3.590537132,
                        "remaining_time": 3.235579088,
                        "test": [
                          0.3525913444,
                          0.7886327078
                        ]
                      },
                      {
                        "learn": [
                          0.3497628366,
                          0.8348246126
                        ],
                        "iteration": 263,
                        "passed_time": 3.603476542,
                        "remaining_time": 3.221289636,
                        "test": [
                          0.3521961549,
                          0.7888038893
                        ]
                      },
                      {
                        "learn": [
                          0.3497118384,
                          0.8347544172
                        ],
                        "iteration": 264,
                        "passed_time": 3.615042523,
                        "remaining_time": 3.205792426,
                        "test": [
                          0.352148877,
                          0.7885199614
                        ]
                      },
                      {
                        "learn": [
                          0.3496722116,
                          0.8348217904
                        ],
                        "iteration": 265,
                        "passed_time": 3.626415057,
                        "remaining_time": 3.190154599,
                        "test": [
                          0.3521365633,
                          0.788548145
                        ]
                      },
                      {
                        "learn": [
                          0.3496440594,
                          0.8348296762
                        ],
                        "iteration": 266,
                        "passed_time": 3.637905642,
                        "remaining_time": 3.17465174,
                        "test": [
                          0.352110626,
                          0.7886065544
                        ]
                      },
                      {
                        "learn": [
                          0.3496007424,
                          0.8348592633
                        ],
                        "iteration": 267,
                        "passed_time": 3.650437986,
                        "remaining_time": 3.160080644,
                        "test": [
                          0.3520817728,
                          0.7887495086
                        ]
                      },
                      {
                        "learn": [
                          0.3495487237,
                          0.8348781436
                        ],
                        "iteration": 268,
                        "passed_time": 3.662144474,
                        "remaining_time": 3.144815515,
                        "test": [
                          0.3520483656,
                          0.7886065544
                        ]
                      },
                      {
                        "learn": [
                          0.3495166381,
                          0.8349080301
                        ],
                        "iteration": 269,
                        "passed_time": 3.673638244,
                        "remaining_time": 3.129395541,
                        "test": [
                          0.35199844,
                          0.7887062187
                        ]
                      },
                      {
                        "learn": [
                          0.3494873638,
                          0.834783454
                        ],
                        "iteration": 270,
                        "passed_time": 3.685584549,
                        "remaining_time": 3.114386944,
                        "test": [
                          0.35198963,
                          0.7886800543
                        ]
                      },
                      {
                        "learn": [
                          0.3494218805,
                          0.8347913427
                        ],
                        "iteration": 271,
                        "passed_time": 3.700669631,
                        "remaining_time": 3.102031896,
                        "test": [
                          0.3519293879,
                          0.7887686207
                        ]
                      },
                      {
                        "learn": [
                          0.3493685422,
                          0.8349615229
                        ],
                        "iteration": 272,
                        "passed_time": 3.71487316,
                        "remaining_time": 3.088923837,
                        "test": [
                          0.3518540519,
                          0.7890655708
                        ]
                      },
                      {
                        "learn": [
                          0.3492971388,
                          0.8349074179
                        ],
                        "iteration": 273,
                        "passed_time": 3.727123067,
                        "remaining_time": 3.074196398,
                        "test": [
                          0.3518083573,
                          0.7886106248
                        ]
                      },
                      {
                        "learn": [
                          0.3492391665,
                          0.8348426185
                        ],
                        "iteration": 274,
                        "passed_time": 3.740188643,
                        "remaining_time": 3.060154344,
                        "test": [
                          0.3517679932,
                          0.7886367697
                        ]
                      },
                      {
                        "learn": [
                          0.3491694237,
                          0.8351149984
                        ],
                        "iteration": 275,
                        "passed_time": 3.752576696,
                        "remaining_time": 3.045569493,
                        "test": [
                          0.351723715,
                          0.7889206576
                        ]
                      },
                      {
                        "learn": [
                          0.3490199279,
                          0.8350209808
                        ],
                        "iteration": 276,
                        "passed_time": 3.775931175,
                        "remaining_time": 3.039829069,
                        "test": [
                          0.3516086483,
                          0.7888904776
                        ]
                      },
                      {
                        "learn": [
                          0.3489828726,
                          0.8351509455
                        ],
                        "iteration": 277,
                        "passed_time": 3.789473369,
                        "remaining_time": 3.026126215,
                        "test": [
                          0.3515446155,
                          0.7890072189
                        ]
                      },
                      {
                        "learn": [
                          0.3489493319,
                          0.8351698211
                        ],
                        "iteration": 278,
                        "passed_time": 3.802133534,
                        "remaining_time": 3.011725846,
                        "test": [
                          0.3515166196,
                          0.789150168
                        ]
                      },
                      {
                        "learn": [
                          0.3488981571,
                          0.8351505922
                        ],
                        "iteration": 279,
                        "passed_time": 3.81410181,
                        "remaining_time": 2.996794279,
                        "test": [
                          0.3514673773,
                          0.7891934389
                        ]
                      },
                      {
                        "learn": [
                          0.3488670374,
                          0.8352449456
                        ],
                        "iteration": 280,
                        "passed_time": 3.832608311,
                        "remaining_time": 2.986979431,
                        "test": [
                          0.3514236513,
                          0.7891934389
                        ]
                      },
                      {
                        "learn": [
                          0.3487299852,
                          0.835729452
                        ],
                        "iteration": 281,
                        "passed_time": 3.871342253,
                        "remaining_time": 2.992739756,
                        "test": [
                          0.3512933042,
                          0.7898859125
                        ]
                      },
                      {
                        "learn": [
                          0.3487017842,
                          0.8357507495
                        ],
                        "iteration": 282,
                        "passed_time": 3.901016495,
                        "remaining_time": 2.991238797,
                        "test": [
                          0.3512800092,
                          0.7900590023
                        ]
                      },
                      {
                        "learn": [
                          0.348657965,
                          0.8360395398
                        ],
                        "iteration": 283,
                        "passed_time": 3.934807784,
                        "remaining_time": 2.992670709,
                        "test": [
                          0.3512438793,
                          0.7902170415
                        ]
                      },
                      {
                        "learn": [
                          0.3485741576,
                          0.8360854981
                        ],
                        "iteration": 284,
                        "passed_time": 3.963496224,
                        "remaining_time": 2.990005923,
                        "test": [
                          0.3511460007,
                          0.7902170415
                        ]
                      },
                      {
                        "learn": [
                          0.3484970545,
                          0.8361290741
                        ],
                        "iteration": 285,
                        "passed_time": 3.980116165,
                        "remaining_time": 2.978128879,
                        "test": [
                          0.3510635837,
                          0.7904281575
                        ]
                      },
                      {
                        "learn": [
                          0.3484529938,
                          0.8363966417
                        ],
                        "iteration": 286,
                        "passed_time": 3.994870358,
                        "remaining_time": 2.964834098,
                        "test": [
                          0.3510032201,
                          0.7902665951
                        ]
                      },
                      {
                        "learn": [
                          0.3484014905,
                          0.8364343598
                        ],
                        "iteration": 287,
                        "passed_time": 4.023139909,
                        "remaining_time": 2.961477989,
                        "test": [
                          0.3509845744,
                          0.7906693857
                        ]
                      },
                      {
                        "learn": [
                          0.3483497235,
                          0.8365233457
                        ],
                        "iteration": 288,
                        "passed_time": 4.048293018,
                        "remaining_time": 2.955674141,
                        "test": [
                          0.3509379715,
                          0.7905129856
                        ]
                      },
                      {
                        "learn": [
                          0.3482902201,
                          0.8364473109
                        ],
                        "iteration": 289,
                        "passed_time": 4.06856468,
                        "remaining_time": 2.94620201,
                        "test": [
                          0.3508949918,
                          0.7902568138
                        ]
                      },
                      {
                        "learn": [
                          0.3482652812,
                          0.8365769474
                        ],
                        "iteration": 290,
                        "passed_time": 4.092646444,
                        "remaining_time": 2.93939212,
                        "test": [
                          0.3508693425,
                          0.7903998855
                        ]
                      },
                      {
                        "learn": [
                          0.3482351989,
                          0.8366258812
                        ],
                        "iteration": 291,
                        "passed_time": 4.122918668,
                        "remaining_time": 2.936873572,
                        "test": [
                          0.3508411747,
                          0.7902983473
                        ]
                      },
                      {
                        "learn": [
                          0.34812908,
                          0.8366705547
                        ],
                        "iteration": 292,
                        "passed_time": 4.141916919,
                        "remaining_time": 2.92620069,
                        "test": [
                          0.3506987559,
                          0.7901685092
                        ]
                      },
                      {
                        "learn": [
                          0.3481065939,
                          0.8366652626
                        ],
                        "iteration": 293,
                        "passed_time": 4.158071938,
                        "remaining_time": 2.913478977,
                        "test": [
                          0.3506905653,
                          0.7903133495
                        ]
                      },
                      {
                        "learn": [
                          0.3480802866,
                          0.8365756864
                        ],
                        "iteration": 294,
                        "passed_time": 4.187229136,
                        "remaining_time": 2.9097694,
                        "test": [
                          0.3506805443,
                          0.790255071
                        ]
                      },
                      {
                        "learn": [
                          0.3479146778,
                          0.8365350351
                        ],
                        "iteration": 295,
                        "passed_time": 4.217459272,
                        "remaining_time": 2.906627336,
                        "test": [
                          0.3505101614,
                          0.7903566191
                        ]
                      },
                      {
                        "learn": [
                          0.3478479744,
                          0.8364095999
                        ],
                        "iteration": 296,
                        "passed_time": 4.248959452,
                        "remaining_time": 2.904170939,
                        "test": [
                          0.3504535031,
                          0.7903064147
                        ]
                      },
                      {
                        "learn": [
                          0.347761817,
                          0.836282899
                        ],
                        "iteration": 297,
                        "passed_time": 4.28041478,
                        "remaining_time": 2.901489213,
                        "test": [
                          0.3503885189,
                          0.7902648533
                        ]
                      },
                      {
                        "learn": [
                          0.3477182828,
                          0.8362045215
                        ],
                        "iteration": 298,
                        "passed_time": 4.3085442,
                        "remaining_time": 2.896379211,
                        "test": [
                          0.3503708188,
                          0.7904945959
                        ]
                      },
                      {
                        "learn": [
                          0.3475355056,
                          0.836322979
                        ],
                        "iteration": 299,
                        "passed_time": 4.340827622,
                        "remaining_time": 2.893885082,
                        "test": [
                          0.3502113435,
                          0.7904397295
                        ]
                      },
                      {
                        "learn": [
                          0.3474959497,
                          0.8365627633
                        ],
                        "iteration": 300,
                        "passed_time": 4.371153252,
                        "remaining_time": 2.889898662,
                        "test": [
                          0.3501910981,
                          0.790469717
                        ]
                      },
                      {
                        "learn": [
                          0.3474545539,
                          0.8364738096
                        ],
                        "iteration": 301,
                        "passed_time": 4.406051929,
                        "remaining_time": 2.888736033,
                        "test": [
                          0.3501549315,
                          0.7904414395
                        ]
                      },
                      {
                        "learn": [
                          0.3474196186,
                          0.8364361056
                        ],
                        "iteration": 302,
                        "passed_time": 4.441380289,
                        "remaining_time": 2.887630089,
                        "test": [
                          0.3501297757,
                          0.7905562511
                        ]
                      },
                      {
                        "learn": [
                          0.3473899406,
                          0.8364496581
                        ],
                        "iteration": 303,
                        "passed_time": 4.470611869,
                        "remaining_time": 2.882368179,
                        "test": [
                          0.3501177627,
                          0.7905995135
                        ]
                      },
                      {
                        "learn": [
                          0.347354839,
                          0.8362504862
                        ],
                        "iteration": 304,
                        "passed_time": 4.50285849,
                        "remaining_time": 2.87887674,
                        "test": [
                          0.3501102675,
                          0.7905095906
                        ]
                      },
                      {
                        "learn": [
                          0.3473241648,
                          0.8362717138
                        ],
                        "iteration": 305,
                        "passed_time": 4.532159365,
                        "remaining_time": 2.873329793,
                        "test": [
                          0.3500977944,
                          0.7906261181
                        ]
                      },
                      {
                        "learn": [
                          0.3472580641,
                          0.8364090018
                        ],
                        "iteration": 306,
                        "passed_time": 4.561738901,
                        "remaining_time": 2.867803283,
                        "test": [
                          0.3500139267,
                          0.7905845317
                        ]
                      },
                      {
                        "learn": [
                          0.3472323834,
                          0.8364414057
                        ],
                        "iteration": 307,
                        "passed_time": 4.594942884,
                        "remaining_time": 2.86437998,
                        "test": [
                          0.3499789853,
                          0.7906277947
                        ]
                      },
                      {
                        "learn": [
                          0.3471695912,
                          0.8367452708
                        ],
                        "iteration": 308,
                        "passed_time": 4.625902026,
                        "remaining_time": 2.859376333,
                        "test": [
                          0.3499388341,
                          0.7905347441
                        ]
                      },
                      {
                        "learn": [
                          0.3471463888,
                          0.8368318756
                        ],
                        "iteration": 309,
                        "passed_time": 4.653856563,
                        "remaining_time": 2.8523637,
                        "test": [
                          0.3499296951,
                          0.7904465658
                        ]
                      },
                      {
                        "learn": [
                          0.3471165724,
                          0.8366917196
                        ],
                        "iteration": 310,
                        "passed_time": 4.685840945,
                        "remaining_time": 2.847665397,
                        "test": [
                          0.3499047653,
                          0.7906461186
                        ]
                      },
                      {
                        "learn": [
                          0.3470597479,
                          0.83687254
                        ],
                        "iteration": 311,
                        "passed_time": 4.719080067,
                        "remaining_time": 2.843548245,
                        "test": [
                          0.3498506031,
                          0.7905895813
                        ]
                      },
                      {
                        "learn": [
                          0.3469825491,
                          0.836745934
                        ],
                        "iteration": 312,
                        "passed_time": 4.746217652,
                        "remaining_time": 2.835599684,
                        "test": [
                          0.3497593563,
                          0.7904465658
                        ]
                      },
                      {
                        "learn": [
                          0.3468522927,
                          0.8368431284
                        ],
                        "iteration": 313,
                        "passed_time": 4.775180087,
                        "remaining_time": 2.82860986,
                        "test": [
                          0.3496232847,
                          0.7908024603
                        ]
                      },
                      {
                        "learn": [
                          0.3468278158,
                          0.8367842909
                        ],
                        "iteration": 314,
                        "passed_time": 4.810159531,
                        "remaining_time": 2.825014328,
                        "test": [
                          0.3496319331,
                          0.7908905652
                        ]
                      },
                      {
                        "learn": [
                          0.3467875783,
                          0.8368649559
                        ],
                        "iteration": 315,
                        "passed_time": 4.84061235,
                        "remaining_time": 2.818584406,
                        "test": [
                          0.3496043655,
                          0.7908905652
                        ]
                      },
                      {
                        "learn": [
                          0.3466636635,
                          0.8368219817
                        ],
                        "iteration": 316,
                        "passed_time": 4.896556,
                        "remaining_time": 2.826718448,
                        "test": [
                          0.3494967294,
                          0.7908756123
                        ]
                      },
                      {
                        "learn": [
                          0.3466128159,
                          0.8372786338
                        ],
                        "iteration": 317,
                        "passed_time": 4.926845006,
                        "remaining_time": 2.819766639,
                        "test": [
                          0.3494256071,
                          0.7912567524
                        ]
                      },
                      {
                        "learn": [
                          0.3465219409,
                          0.8373208067
                        ],
                        "iteration": 318,
                        "passed_time": 4.958562443,
                        "remaining_time": 2.813479004,
                        "test": [
                          0.3493157745,
                          0.7913283011
                        ]
                      },
                      {
                        "learn": [
                          0.3464825907,
                          0.8374224684
                        ],
                        "iteration": 319,
                        "passed_time": 4.989717637,
                        "remaining_time": 2.806716171,
                        "test": [
                          0.3492950294,
                          0.7911718415
                        ]
                      },
                      {
                        "learn": [
                          0.3464135532,
                          0.8373094926
                        ],
                        "iteration": 320,
                        "passed_time": 5.019788507,
                        "remaining_time": 2.799196706,
                        "test": [
                          0.3492105457,
                          0.7909855124
                        ]
                      },
                      {
                        "learn": [
                          0.3463815106,
                          0.837412729
                        ],
                        "iteration": 321,
                        "passed_time": 5.052444254,
                        "remaining_time": 2.792966078,
                        "test": [
                          0.3491970278,
                          0.7911285995
                        ]
                      },
                      {
                        "learn": [
                          0.3462737358,
                          0.8374406585
                        ],
                        "iteration": 322,
                        "passed_time": 5.083229343,
                        "remaining_time": 2.78554673,
                        "test": [
                          0.3490978392,
                          0.7912520581
                        ]
                      },
                      {
                        "learn": [
                          0.3462155273,
                          0.8375032409
                        ],
                        "iteration": 323,
                        "passed_time": 5.11374329,
                        "remaining_time": 2.777835861,
                        "test": [
                          0.3490472839,
                          0.7911938428
                        ]
                      },
                      {
                        "learn": [
                          0.3461102417,
                          0.8373321237
                        ],
                        "iteration": 324,
                        "passed_time": 5.143729405,
                        "remaining_time": 2.769700449,
                        "test": [
                          0.3489365081,
                          0.7916696486
                        ]
                      },
                      {
                        "learn": [
                          0.346088319,
                          0.8373645244
                        ],
                        "iteration": 325,
                        "passed_time": 5.177663196,
                        "remaining_time": 2.763538025,
                        "test": [
                          0.3489167456,
                          0.791626409
                        ]
                      },
                      {
                        "learn": [
                          0.3460284408,
                          0.8374187904
                        ],
                        "iteration": 326,
                        "passed_time": 5.217917158,
                        "remaining_time": 2.760549445,
                        "test": [
                          0.3488759504,
                          0.7917546434
                        ]
                      },
                      {
                        "learn": [
                          0.3459947765,
                          0.8373916565
                        ],
                        "iteration": 327,
                        "passed_time": 5.251033216,
                        "remaining_time": 2.753590589,
                        "test": [
                          0.3488506378,
                          0.7915368918
                        ]
                      },
                      {
                        "learn": [
                          0.3458336899,
                          0.8373215819
                        ],
                        "iteration": 328,
                        "passed_time": 5.284717695,
                        "remaining_time": 2.746768164,
                        "test": [
                          0.3487056907,
                          0.7915085559
                        ]
                      },
                      {
                        "learn": [
                          0.3454531134,
                          0.8374352332
                        ],
                        "iteration": 329,
                        "passed_time": 5.31653593,
                        "remaining_time": 2.73882154,
                        "test": [
                          0.3483191592,
                          0.7916890176
                        ]
                      },
                      {
                        "learn": [
                          0.3454105343,
                          0.837451825
                        ],
                        "iteration": 330,
                        "passed_time": 5.347609338,
                        "remaining_time": 2.730350387,
                        "test": [
                          0.3482853085,
                          0.7918022819
                        ]
                      },
                      {
                        "learn": [
                          0.3453836253,
                          0.8374194384
                        ],
                        "iteration": 331,
                        "passed_time": 5.379800233,
                        "remaining_time": 2.722308552,
                        "test": [
                          0.3482895059,
                          0.7917292695
                        ]
                      },
                      {
                        "learn": [
                          0.3452962162,
                          0.8376386752
                        ],
                        "iteration": 332,
                        "passed_time": 5.409316999,
                        "remaining_time": 2.712780597,
                        "test": [
                          0.3481878481,
                          0.7917739628
                        ]
                      },
                      {
                        "learn": [
                          0.3452631507,
                          0.837549804
                        ],
                        "iteration": 333,
                        "passed_time": 5.439121016,
                        "remaining_time": 2.703275714,
                        "test": [
                          0.3481645517,
                          0.7917993488
                        ]
                      },
                      {
                        "learn": [
                          0.3452259695,
                          0.8373471536
                        ],
                        "iteration": 334,
                        "passed_time": 5.471582071,
                        "remaining_time": 2.694958333,
                        "test": [
                          0.3481572132,
                          0.7918157104
                        ]
                      },
                      {
                        "learn": [
                          0.3451983947,
                          0.8373200317
                        ],
                        "iteration": 335,
                        "passed_time": 5.505883056,
                        "remaining_time": 2.687395301,
                        "test": [
                          0.3481625909,
                          0.7917441694
                        ]
                      },
                      {
                        "learn": [
                          0.3450974523,
                          0.8374479934
                        ],
                        "iteration": 336,
                        "passed_time": 5.537467822,
                        "remaining_time": 2.678359807,
                        "test": [
                          0.3480481176,
                          0.7918037477
                        ]
                      },
                      {
                        "learn": [
                          0.3450592454,
                          0.8374208797
                        ],
                        "iteration": 337,
                        "passed_time": 5.569311826,
                        "remaining_time": 2.669315136,
                        "test": [
                          0.3480476703,
                          0.7916607066
                        ]
                      },
                      {
                        "learn": [
                          0.3450260993,
                          0.8375700269
                        ],
                        "iteration": 338,
                        "passed_time": 5.601849192,
                        "remaining_time": 2.66046525,
                        "test": [
                          0.3480532439,
                          0.7915891861
                        ]
                      },
                      {
                        "learn": [
                          0.3449572499,
                          0.8375821969
                        ],
                        "iteration": 339,
                        "passed_time": 5.633801186,
                        "remaining_time": 2.651200558,
                        "test": [
                          0.3480052745,
                          0.7917993488
                        ]
                      },
                      {
                        "learn": [
                          0.3449357671,
                          0.8375927186
                        ],
                        "iteration": 340,
                        "passed_time": 5.661666393,
                        "remaining_time": 2.639897233,
                        "test": [
                          0.3479949206,
                          0.7919275772
                        ]
                      },
                      {
                        "learn": [
                          0.3447448764,
                          0.8376741173
                        ],
                        "iteration": 341,
                        "passed_time": 5.697860443,
                        "remaining_time": 2.632344883,
                        "test": [
                          0.3478178831,
                          0.7921826902
                        ]
                      },
                      {
                        "learn": [
                          0.3447167245,
                          0.837695148
                        ],
                        "iteration": 342,
                        "passed_time": 5.726621043,
                        "remaining_time": 2.621223043,
                        "test": [
                          0.347784467,
                          0.7921125148
                        ]
                      },
                      {
                        "learn": [
                          0.3446636068,
                          0.8378299595
                        ],
                        "iteration": 343,
                        "passed_time": 5.757144719,
                        "remaining_time": 2.610798187,
                        "test": [
                          0.3477487546,
                          0.7920990482
                        ]
                      },
                      {
                        "learn": [
                          0.3446013745,
                          0.8377734951
                        ],
                        "iteration": 344,
                        "passed_time": 5.789449505,
                        "remaining_time": 2.601057024,
                        "test": [
                          0.3476748595,
                          0.7920558239
                        ]
                      },
                      {
                        "learn": [
                          0.3445280748,
                          0.8379481201
                        ],
                        "iteration": 345,
                        "passed_time": 5.824387916,
                        "remaining_time": 2.592357627,
                        "test": [
                          0.3475953773,
                          0.7921422693
                        ]
                      },
                      {
                        "learn": [
                          0.344505188,
                          0.8379490169
                        ],
                        "iteration": 346,
                        "passed_time": 5.857147871,
                        "remaining_time": 2.582546468,
                        "test": [
                          0.3475693317,
                          0.7919856887
                        ]
                      },
                      {
                        "learn": [
                          0.3444209752,
                          0.8379385184
                        ],
                        "iteration": 347,
                        "passed_time": 5.892340521,
                        "remaining_time": 2.573665975,
                        "test": [
                          0.3475104586,
                          0.7920274816
                        ]
                      },
                      {
                        "learn": [
                          0.3443985348,
                          0.837911376
                        ],
                        "iteration": 348,
                        "passed_time": 5.944779171,
                        "remaining_time": 2.572096432,
                        "test": [
                          0.3474954087,
                          0.7919275772
                        ]
                      },
                      {
                        "learn": [
                          0.3443545473,
                          0.8380680898
                        ],
                        "iteration": 349,
                        "passed_time": 5.986821738,
                        "remaining_time": 2.565780745,
                        "test": [
                          0.3474527517,
                          0.7921139259
                        ]
                      },
                      {
                        "learn": [
                          0.3443218486,
                          0.8379573393
                        ],
                        "iteration": 350,
                        "passed_time": 6.013386272,
                        "remaining_time": 2.552691038,
                        "test": [
                          0.3474137723,
                          0.7919021389
                        ]
                      },
                      {
                        "learn": [
                          0.3442336218,
                          0.8379678365
                        ],
                        "iteration": 351,
                        "passed_time": 6.045995121,
                        "remaining_time": 2.542066131,
                        "test": [
                          0.3473386524,
                          0.7918454936
                        ]
                      },
                      {
                        "learn": [
                          0.3441976617,
                          0.8380002267
                        ],
                        "iteration": 352,
                        "passed_time": 6.07408389,
                        "remaining_time": 2.529434368,
                        "test": [
                          0.3473409299,
                          0.7917888563
                        ]
                      },
                      {
                        "learn": [
                          0.3441718858,
                          0.8380483539
                        ],
                        "iteration": 353,
                        "passed_time": 6.102534539,
                        "remaining_time": 2.516864527,
                        "test": [
                          0.3473283553,
                          0.7919467887
                        ]
                      },
                      {
                        "learn": [
                          0.3441390247,
                          0.8381455152
                        ],
                        "iteration": 354,
                        "passed_time": 6.136210164,
                        "remaining_time": 2.506339363,
                        "test": [
                          0.3473062069,
                          0.7921316166
                        ]
                      },
                      {
                        "learn": [
                          0.3440859413,
                          0.8381319429
                        ],
                        "iteration": 355,
                        "passed_time": 6.168746632,
                        "remaining_time": 2.495223357,
                        "test": [
                          0.3472868553,
                          0.7920600858
                        ]
                      },
                      {
                        "learn": [
                          0.344018434,
                          0.8381069572
                        ],
                        "iteration": 356,
                        "passed_time": 6.199782088,
                        "remaining_time": 2.483386103,
                        "test": [
                          0.3472396041,
                          0.7919453485
                        ]
                      },
                      {
                        "learn": [
                          0.3439808647,
                          0.8381988634
                        ],
                        "iteration": 357,
                        "passed_time": 6.218158607,
                        "remaining_time": 2.466420453,
                        "test": [
                          0.3472137206,
                          0.7921450799
                        ]
                      },
                      {
                        "learn": [
                          0.3439323292,
                          0.8381840856
                        ],
                        "iteration": 358,
                        "passed_time": 6.237008866,
                        "remaining_time": 2.449633009,
                        "test": [
                          0.347161393,
                          0.7920721236
                        ]
                      },
                      {
                        "learn": [
                          0.3438733958,
                          0.8382907754
                        ],
                        "iteration": 359,
                        "passed_time": 6.26801796,
                        "remaining_time": 2.43756254,
                        "test": [
                          0.3471096105,
                          0.7925284477
                        ]
                      },
                      {
                        "learn": [
                          0.3438121013,
                          0.8381569358
                        ],
                        "iteration": 360,
                        "passed_time": 6.287817026,
                        "remaining_time": 2.421070822,
                        "test": [
                          0.3470740768,
                          0.7925149379
                        ]
                      },
                      {
                        "learn": [
                          0.3437244781,
                          0.838159088
                        ],
                        "iteration": 361,
                        "passed_time": 6.303205578,
                        "remaining_time": 2.402879474,
                        "test": [
                          0.3469831577,
                          0.7928430846
                        ]
                      },
                      {
                        "learn": [
                          0.3435626638,
                          0.8383576725
                        ],
                        "iteration": 362,
                        "passed_time": 6.319302321,
                        "remaining_time": 2.384970848,
                        "test": [
                          0.3468360179,
                          0.7926999463
                        ]
                      },
                      {
                        "learn": [
                          0.3435392601,
                          0.838419323
                        ],
                        "iteration": 363,
                        "passed_time": 6.336476574,
                        "remaining_time": 2.367474764,
                        "test": [
                          0.3468276537,
                          0.7925149379
                        ]
                      },
                      {
                        "learn": [
                          0.3434776535,
                          0.838662673
                        ],
                        "iteration": 364,
                        "passed_time": 6.35535831,
                        "remaining_time": 2.350611978,
                        "test": [
                          0.3467550264,
                          0.7926702695
                        ]
                      },
                      {
                        "learn": [
                          0.3434574311,
                          0.8386731208
                        ],
                        "iteration": 365,
                        "passed_time": 6.385918791,
                        "remaining_time": 2.338013984,
                        "test": [
                          0.3467343898,
                          0.7926432175
                        ]
                      },
                      {
                        "learn": [
                          0.3433638495,
                          0.8386083634
                        ],
                        "iteration": 366,
                        "passed_time": 6.415338891,
                        "remaining_time": 2.32490483,
                        "test": [
                          0.3466327036,
                          0.7926148562
                        ]
                      },
                      {
                        "learn": [
                          0.3433320432,
                          0.8386866986
                        ],
                        "iteration": 367,
                        "passed_time": 6.445065091,
                        "remaining_time": 2.311816826,
                        "test": [
                          0.3465885556,
                          0.7926445335
                        ]
                      },
                      {
                        "learn": [
                          0.3433005571,
                          0.838500769
                        ],
                        "iteration": 368,
                        "passed_time": 6.477321044,
                        "remaining_time": 2.299536739,
                        "test": [
                          0.3465727736,
                          0.7926580557
                        ]
                      },
                      {
                        "learn": [
                          0.3432311066,
                          0.8385749664
                        ],
                        "iteration": 369,
                        "passed_time": 6.504048991,
                        "remaining_time": 2.285206402,
                        "test": [
                          0.3464902468,
                          0.7927012522
                        ]
                      },
                      {
                        "learn": [
                          0.3431775631,
                          0.8386083634
                        ],
                        "iteration": 370,
                        "passed_time": 6.53632398,
                        "remaining_time": 2.272737988,
                        "test": [
                          0.3464529875,
                          0.7930281665
                        ]
                      },
                      {
                        "learn": [
                          0.3431592579,
                          0.8385331498
                        ],
                        "iteration": 371,
                        "passed_time": 6.574260074,
                        "remaining_time": 2.262110993,
                        "test": [
                          0.3464568696,
                          0.7930713621
                        ]
                      },
                      {
                        "learn": [
                          0.3430952409,
                          0.838541498
                        ],
                        "iteration": 372,
                        "passed_time": 6.605637902,
                        "remaining_time": 2.249104594,
                        "test": [
                          0.3463800383,
                          0.7927592745
                        ]
                      },
                      {
                        "learn": [
                          0.3430496227,
                          0.8383774593
                        ],
                        "iteration": 373,
                        "passed_time": 6.639068839,
                        "remaining_time": 2.236691641,
                        "test": [
                          0.3463341927,
                          0.7928456448
                        ]
                      },
                      {
                        "learn": [
                          0.3430010125,
                          0.8386146149
                        ],
                        "iteration": 374,
                        "passed_time": 6.671657206,
                        "remaining_time": 2.223885735,
                        "test": [
                          0.3462908668,
                          0.7929171883
                        ]
                      },
                      {
                        "learn": [
                          0.3428357,
                          0.8386229678
                        ],
                        "iteration": 375,
                        "passed_time": 6.703322564,
                        "remaining_time": 2.210670207,
                        "test": [
                          0.3461336998,
                          0.7929726635
                        ]
                      },
                      {
                        "learn": [
                          0.3428054966,
                          0.8387880358
                        ],
                        "iteration": 376,
                        "passed_time": 6.733652928,
                        "remaining_time": 2.196921247,
                        "test": [
                          0.3461097278,
                          0.7931713253
                        ]
                      },
                      {
                        "learn": [
                          0.3427798653,
                          0.8388538849
                        ],
                        "iteration": 377,
                        "passed_time": 6.761676517,
                        "remaining_time": 2.18234004,
                        "test": [
                          0.3461059973,
                          0.7930960395
                        ]
                      },
                      {
                        "learn": [
                          0.3427556994,
                          0.8387984779
                        ],
                        "iteration": 378,
                        "passed_time": 6.787006877,
                        "remaining_time": 2.166828053,
                        "test": [
                          0.3460780107,
                          0.7929121174
                        ]
                      },
                      {
                        "learn": [
                          0.3427127491,
                          0.8389301971
                        ],
                        "iteration": 379,
                        "passed_time": 6.820815414,
                        "remaining_time": 2.15394171,
                        "test": [
                          0.3460641566,
                          0.7929528038
                        ]
                      },
                      {
                        "learn": [
                          0.3426398083,
                          0.8389458509
                        ],
                        "iteration": 380,
                        "passed_time": 6.851717796,
                        "remaining_time": 2.140037842,
                        "test": [
                          0.3459869507,
                          0.7931984965
                        ]
                      },
                      {
                        "learn": [
                          0.3425964595,
                          0.8388194129
                        ],
                        "iteration": 381,
                        "passed_time": 6.884315659,
                        "remaining_time": 2.126568711,
                        "test": [
                          0.3459386063,
                          0.793284891
                        ]
                      },
                      {
                        "learn": [
                          0.3425305392,
                          0.8390262864
                        ],
                        "iteration": 382,
                        "passed_time": 6.916827979,
                        "remaining_time": 2.11297356,
                        "test": [
                          0.3459029797,
                          0.7930565497
                        ]
                      },
                      {
                        "learn": [
                          0.3424319566,
                          0.8393186749
                        ],
                        "iteration": 383,
                        "passed_time": 6.979781555,
                        "remaining_time": 2.108475678,
                        "test": [
                          0.3458265219,
                          0.7937871305
                        ]
                      },
                      {
                        "learn": [
                          0.3424097291,
                          0.8393218583
                        ],
                        "iteration": 384,
                        "passed_time": 7.012473903,
                        "remaining_time": 2.094635062,
                        "test": [
                          0.3458128259,
                          0.7938155399
                        ]
                      },
                      {
                        "learn": [
                          0.3423516814,
                          0.8392946777
                        ],
                        "iteration": 385,
                        "passed_time": 7.045151058,
                        "remaining_time": 2.080692282,
                        "test": [
                          0.345764701,
                          0.7937871305
                        ]
                      },
                      {
                        "learn": [
                          0.3423258009,
                          0.8392998818
                        ],
                        "iteration": 386,
                        "passed_time": 7.076415261,
                        "remaining_time": 2.066240115,
                        "test": [
                          0.345758584,
                          0.7932896949
                        ]
                      },
                      {
                        "learn": [
                          0.3422971075,
                          0.8395737514
                        ],
                        "iteration": 387,
                        "passed_time": 7.104557925,
                        "remaining_time": 2.050800226,
                        "test": [
                          0.345728332,
                          0.7938007803
                        ]
                      },
                      {
                        "learn": [
                          0.3422353354,
                          0.8393973757
                        ],
                        "iteration": 388,
                        "passed_time": 7.133841598,
                        "remaining_time": 2.03562061,
                        "test": [
                          0.3456762809,
                          0.7936712486
                        ]
                      },
                      {
                        "learn": [
                          0.3421935898,
                          0.8394725759
                        ],
                        "iteration": 389,
                        "passed_time": 7.161567451,
                        "remaining_time": 2.019929281,
                        "test": [
                          0.3456247351,
                          0.793614432
                        ]
                      },
                      {
                        "learn": [
                          0.342176833,
                          0.8394329688
                        ],
                        "iteration": 390,
                        "passed_time": 7.195217804,
                        "remaining_time": 2.005827981,
                        "test": [
                          0.3456078701,
                          0.7934564719
                        ]
                      },
                      {
                        "learn": [
                          0.3421173459,
                          0.8397421361
                        ],
                        "iteration": 391,
                        "passed_time": 7.226943331,
                        "remaining_time": 1.991096632,
                        "test": [
                          0.3455443004,
                          0.7935996564
                        ]
                      },
                      {
                        "learn": [
                          0.3420999803,
                          0.8399053883
                        ],
                        "iteration": 392,
                        "passed_time": 7.255461732,
                        "remaining_time": 1.975405612,
                        "test": [
                          0.3455219322,
                          0.7935712496
                        ]
                      },
                      {
                        "learn": [
                          0.3420781561,
                          0.8399533467
                        ],
                        "iteration": 393,
                        "passed_time": 7.281585428,
                        "remaining_time": 1.959005217,
                        "test": [
                          0.3455259599,
                          0.7936723811
                        ]
                      },
                      {
                        "learn": [
                          0.3420490244,
                          0.8397965465
                        ],
                        "iteration": 394,
                        "passed_time": 7.305051378,
                        "remaining_time": 1.941849101,
                        "test": [
                          0.3454982772,
                          0.7939439493
                        ]
                      },
                      {
                        "learn": [
                          0.3420295448,
                          0.8398905068
                        ],
                        "iteration": 395,
                        "passed_time": 7.329126533,
                        "remaining_time": 1.92482111,
                        "test": [
                          0.3454934863,
                          0.7938849307
                        ]
                      },
                      {
                        "learn": [
                          0.3419465424,
                          0.839871716
                        ],
                        "iteration": 396,
                        "passed_time": 7.345037193,
                        "remaining_time": 1.905639372,
                        "test": [
                          0.3454223368,
                          0.7938985964
                        ]
                      },
                      {
                        "learn": [
                          0.34190704,
                          0.8399125294
                        ],
                        "iteration": 397,
                        "passed_time": 7.362715903,
                        "remaining_time": 1.886927191,
                        "test": [
                          0.3453944895,
                          0.7938701708
                        ]
                      },
                      {
                        "learn": [
                          0.3418707512,
                          0.8398749453
                        ],
                        "iteration": 398,
                        "passed_time": 7.37894429,
                        "remaining_time": 1.867853066,
                        "test": [
                          0.3453673407,
                          0.7937564887
                        ]
                      },
                      {
                        "learn": [
                          0.3417862006,
                          0.8398930568
                        ],
                        "iteration": 399,
                        "passed_time": 7.410109875,
                        "remaining_time": 1.852527469,
                        "test": [
                          0.3453202693,
                          0.7938406446
                        ]
                      },
                      {
                        "learn": [
                          0.3417687855,
                          0.8399533467
                        ],
                        "iteration": 400,
                        "passed_time": 7.442874182,
                        "remaining_time": 1.837517566,
                        "test": [
                          0.3453140927,
                          0.7939986393
                        ]
                      },
                      {
                        "learn": [
                          0.3417527425,
                          0.8399073429
                        ],
                        "iteration": 401,
                        "passed_time": 7.47170765,
                        "remaining_time": 1.821461069,
                        "test": [
                          0.3453062136,
                          0.7940850013
                        ]
                      },
                      {
                        "learn": [
                          0.3417072273,
                          0.8399021561
                        ],
                        "iteration": 402,
                        "passed_time": 7.501065769,
                        "remaining_time": 1.805467443,
                        "test": [
                          0.3452733907,
                          0.7939838854
                        ]
                      },
                      {
                        "learn": [
                          0.3416759723,
                          0.8400194426
                        ],
                        "iteration": 403,
                        "passed_time": 7.539403027,
                        "remaining_time": 1.791541313,
                        "test": [
                          0.3452514916,
                          0.7939259365
                        ]
                      },
                      {
                        "learn": [
                          0.3415627846,
                          0.8400570299
                        ],
                        "iteration": 404,
                        "passed_time": 7.5706535,
                        "remaining_time": 1.775832303,
                        "test": [
                          0.3451463318,
                          0.7940681305
                        ]
                      },
                      {
                        "learn": [
                          0.3415429021,
                          0.8401782098
                        ],
                        "iteration": 405,
                        "passed_time": 7.601226492,
                        "remaining_time": 1.759889877,
                        "test": [
                          0.3451266821,
                          0.7943831494
                        ]
                      },
                      {
                        "learn": [
                          0.3414497528,
                          0.8401839795
                        ],
                        "iteration": 406,
                        "passed_time": 7.63016093,
                        "remaining_time": 1.743501146,
                        "test": [
                          0.345060654,
                          0.7942556316
                        ]
                      },
                      {
                        "learn": [
                          0.3414211008,
                          0.8403609091
                        ],
                        "iteration": 407,
                        "passed_time": 7.661735749,
                        "remaining_time": 1.727646296,
                        "test": [
                          0.3450586747,
                          0.794455786
                        ]
                      },
                      {
                        "learn": [
                          0.341382498,
                          0.8402248028
                        ],
                        "iteration": 408,
                        "passed_time": 7.695433252,
                        "remaining_time": 1.71218686,
                        "test": [
                          0.3450210049,
                          0.7940702546
                        ]
                      },
                      {
                        "learn": [
                          0.3413603773,
                          0.8401736257
                        ],
                        "iteration": 409,
                        "passed_time": 7.731369572,
                        "remaining_time": 1.697129906,
                        "test": [
                          0.3450052131,
                          0.7940418218
                        ]
                      },
                      {
                        "learn": [
                          0.3413342435,
                          0.8401924105
                        ],
                        "iteration": 410,
                        "passed_time": 7.761209622,
                        "remaining_time": 1.680651232,
                        "test": [
                          0.3449664289,
                          0.7940986894
                        ]
                      },
                      {
                        "learn": [
                          0.3412796134,
                          0.8400609045
                        ],
                        "iteration": 411,
                        "passed_time": 7.790208274,
                        "remaining_time": 1.663927981,
                        "test": [
                          0.3449007049,
                          0.7941692633
                        ]
                      },
                      {
                        "learn": [
                          0.3412592306,
                          0.8401120884
                        ],
                        "iteration": 412,
                        "passed_time": 7.821687012,
                        "remaining_time": 1.647667724,
                        "test": [
                          0.3448892734,
                          0.7940976326
                        ]
                      },
                      {
                        "learn": [
                          0.3412300035,
                          0.8401256965
                        ],
                        "iteration": 413,
                        "passed_time": 7.85210717,
                        "remaining_time": 1.63111405,
                        "test": [
                          0.3448898174,
                          0.7942271881
                        ]
                      },
                      {
                        "learn": [
                          0.3411792409,
                          0.8399837991
                        ],
                        "iteration": 414,
                        "passed_time": 7.882222323,
                        "remaining_time": 1.614431078,
                        "test": [
                          0.3448572449,
                          0.7943409742
                        ]
                      },
                      {
                        "learn": [
                          0.3411306369,
                          0.8400810045
                        ],
                        "iteration": 415,
                        "passed_time": 7.913008785,
                        "remaining_time": 1.597819082,
                        "test": [
                          0.3447979875,
                          0.7941860881
                        ]
                      },
                      {
                        "learn": [
                          0.3411114517,
                          0.8400317507
                        ],
                        "iteration": 416,
                        "passed_time": 7.944743322,
                        "remaining_time": 1.581327808,
                        "test": [
                          0.3447919372,
                          0.7943724493
                        ]
                      },
                      {
                        "learn": [
                          0.3410781584,
                          0.840077758
                        ],
                        "iteration": 417,
                        "passed_time": 7.977425422,
                        "remaining_time": 1.564949485,
                        "test": [
                          0.3447603579,
                          0.7943724493
                        ]
                      },
                      {
                        "learn": [
                          0.341063525,
                          0.8400181429
                        ],
                        "iteration": 418,
                        "passed_time": 8.019704795,
                        "remaining_time": 1.55034866,
                        "test": [
                          0.3447563213,
                          0.7943871707
                        ]
                      },
                      {
                        "learn": [
                          0.3410487152,
                          0.8398865938
                        ],
                        "iteration": 419,
                        "passed_time": 8.067652761,
                        "remaining_time": 1.536695764,
                        "test": [
                          0.344768659,
                          0.7943577259
                        ]
                      },
                      {
                        "learn": [
                          0.3410303961,
                          0.8399189955
                        ],
                        "iteration": 420,
                        "passed_time": 8.106280514,
                        "remaining_time": 1.521131023,
                        "test": [
                          0.3447451094,
                          0.7944714981
                        ]
                      },
                      {
                        "learn": [
                          0.3410048954,
                          0.8399513973
                        ],
                        "iteration": 421,
                        "passed_time": 8.140533557,
                        "remaining_time": 1.504648383,
                        "test": [
                          0.3447396664,
                          0.7945009308
                        ]
                      },
                      {
                        "learn": [
                          0.3409709941,
                          0.8399669534
                        ],
                        "iteration": 422,
                        "passed_time": 8.172216551,
                        "remaining_time": 1.487613887,
                        "test": [
                          0.3447082246,
                          0.7944577709
                        ]
                      },
                      {
                        "learn": [
                          0.340921507,
                          0.8400810045
                        ],
                        "iteration": 423,
                        "passed_time": 8.202406312,
                        "remaining_time": 1.470242641,
                        "test": [
                          0.3446489178,
                          0.7942703671
                        ]
                      },
                      {
                        "learn": [
                          0.3408638657,
                          0.8400997959
                        ],
                        "iteration": 424,
                        "passed_time": 8.21943141,
                        "remaining_time": 1.450487896,
                        "test": [
                          0.3445808188,
                          0.7942450163
                        ]
                      },
                      {
                        "learn": [
                          0.3408191684,
                          0.8401114748
                        ],
                        "iteration": 425,
                        "passed_time": 8.237366014,
                        "remaining_time": 1.430903955,
                        "test": [
                          0.3445512982,
                          0.7940133911
                        ]
                      },
                      {
                        "learn": [
                          0.3407240205,
                          0.8402228845
                        ],
                        "iteration": 426,
                        "passed_time": 8.260616966,
                        "remaining_time": 1.412236624,
                        "test": [
                          0.3444672693,
                          0.7940133911
                        ]
                      },
                      {
                        "learn": [
                          0.340708385,
                          0.8402228845
                        ],
                        "iteration": 427,
                        "passed_time": 8.276762033,
                        "remaining_time": 1.392352492,
                        "test": [
                          0.3444552259,
                          0.7939417809
                        ]
                      },
                      {
                        "learn": [
                          0.3406804708,
                          0.8403219798
                        ],
                        "iteration": 428,
                        "passed_time": 8.289143796,
                        "remaining_time": 1.371862959,
                        "test": [
                          0.3444602423,
                          0.79408606
                        ]
                      },
                      {
                        "learn": [
                          0.3406382534,
                          0.8403998509
                        ],
                        "iteration": 429,
                        "passed_time": 8.301183896,
                        "remaining_time": 1.351355518,
                        "test": [
                          0.3444086241,
                          0.7942429559
                        ]
                      },
                      {
                        "learn": [
                          0.3406205361,
                          0.8404186378
                        ],
                        "iteration": 430,
                        "passed_time": 8.314919976,
                        "remaining_time": 1.331158882,
                        "test": [
                          0.3444046486,
                          0.7942998317
                        ]
                      },
                      {
                        "learn": [
                          0.3405639103,
                          0.8404867221
                        ],
                        "iteration": 431,
                        "passed_time": 8.341503828,
                        "remaining_time": 1.313014492,
                        "test": [
                          0.3443764948,
                          0.79429779
                        ]
                      },
                      {
                        "learn": [
                          0.3405298408,
                          0.840785381
                        ],
                        "iteration": 432,
                        "passed_time": 8.354232479,
                        "remaining_time": 1.292687243,
                        "test": [
                          0.3443217354,
                          0.7945126974
                        ]
                      },
                      {
                        "learn": [
                          0.3404899275,
                          0.8407544235
                        ],
                        "iteration": 433,
                        "passed_time": 8.366350119,
                        "remaining_time": 1.272302092,
                        "test": [
                          0.3442864899,
                          0.794641258
                        ]
                      },
                      {
                        "learn": [
                          0.3402706647,
                          0.8409573348
                        ],
                        "iteration": 434,
                        "passed_time": 8.381321445,
                        "remaining_time": 1.252381365,
                        "test": [
                          0.3440603589,
                          0.7947000895
                        ]
                      },
                      {
                        "learn": [
                          0.3402471703,
                          0.8408825816
                        ],
                        "iteration": 435,
                        "passed_time": 8.395381151,
                        "remaining_time": 1.232349527,
                        "test": [
                          0.3440630454,
                          0.7944587629
                        ]
                      },
                      {
                        "learn": [
                          0.3402123183,
                          0.8410276347
                        ],
                        "iteration": 436,
                        "passed_time": 8.407933968,
                        "remaining_time": 1.21212778,
                        "test": [
                          0.3440317707,
                          0.794744191
                        ]
                      },
                      {
                        "learn": [
                          0.3401344358,
                          0.8410140115
                        ],
                        "iteration": 437,
                        "passed_time": 8.421493693,
                        "remaining_time": 1.192083582,
                        "test": [
                          0.3439519735,
                          0.7947157382
                        ]
                      },
                      {
                        "learn": [
                          0.3401096361,
                          0.8408196323
                        ],
                        "iteration": 438,
                        "passed_time": 8.433183569,
                        "remaining_time": 1.171809106,
                        "test": [
                          0.3439400628,
                          0.7946588387
                        ]
                      },
                      {
                        "learn": [
                          0.3400173582,
                          0.8408332523
                        ],
                        "iteration": 439,
                        "passed_time": 8.445779318,
                        "remaining_time": 1.15169718,
                        "test": [
                          0.343872976,
                          0.7946441358
                        ]
                      },
                      {
                        "learn": [
                          0.3399626067,
                          0.8406811517
                        ],
                        "iteration": 440,
                        "passed_time": 8.458427522,
                        "remaining_time": 1.131626358,
                        "test": [
                          0.3438471717,
                          0.7948001719
                        ]
                      },
                      {
                        "learn": [
                          0.3398962343,
                          0.8407168552
                        ],
                        "iteration": 441,
                        "passed_time": 8.47108194,
                        "remaining_time": 1.111589938,
                        "test": [
                          0.3437603942,
                          0.7949149508
                        ]
                      },
                      {
                        "learn": [
                          0.339859314,
                          0.8407835259
                        ],
                        "iteration": 442,
                        "passed_time": 8.485019895,
                        "remaining_time": 1.091751995,
                        "test": [
                          0.3437315178,
                          0.7949727872
                        ]
                      },
                      {
                        "learn": [
                          0.3398237316,
                          0.8408004537
                        ],
                        "iteration": 443,
                        "passed_time": 8.496920118,
                        "remaining_time": 1.071683619,
                        "test": [
                          0.3437132353,
                          0.7949727872
                        ]
                      },
                      {
                        "learn": [
                          0.3398039284,
                          0.8408718904
                        ],
                        "iteration": 444,
                        "passed_time": 8.508241152,
                        "remaining_time": 1.051580367,
                        "test": [
                          0.3437207646,
                          0.7950150408
                        ]
                      },
                      {
                        "learn": [
                          0.3397784171,
                          0.8407628863
                        ],
                        "iteration": 445,
                        "passed_time": 8.521792992,
                        "remaining_time": 1.031786595,
                        "test": [
                          0.3436930966,
                          0.7952299098
                        ]
                      },
                      {
                        "learn": [
                          0.3397589045,
                          0.8408225438
                        ],
                        "iteration": 446,
                        "passed_time": 8.535142267,
                        "remaining_time": 1.011996734,
                        "test": [
                          0.3436954914,
                          0.7952014324
                        ]
                      },
                      {
                        "learn": [
                          0.3397347489,
                          0.8407934399
                        ],
                        "iteration": 447,
                        "passed_time": 8.547751152,
                        "remaining_time": 0.9921496873,
                        "test": [
                          0.3437042192,
                          0.7953300147
                        ]
                      },
                      {
                        "learn": [
                          0.3396950592,
                          0.8407187181
                        ],
                        "iteration": 448,
                        "passed_time": 8.560387267,
                        "remaining_time": 0.9723379746,
                        "test": [
                          0.3436782504,
                          0.7951738212
                        ]
                      },
                      {
                        "learn": [
                          0.3396410769,
                          0.8407323396
                        ],
                        "iteration": 449,
                        "passed_time": 8.573673595,
                        "remaining_time": 0.9526303994,
                        "test": [
                          0.3436431641,
                          0.7952307637
                        ]
                      },
                      {
                        "learn": [
                          0.3396099786,
                          0.8407135566
                        ],
                        "iteration": 450,
                        "passed_time": 8.586165525,
                        "remaining_time": 0.9328649905,
                        "test": [
                          0.3436047111,
                          0.7951444838
                        ]
                      },
                      {
                        "learn": [
                          0.3395560807,
                          0.8409098273
                        ],
                        "iteration": 451,
                        "passed_time": 8.598007084,
                        "remaining_time": 0.9130626992,
                        "test": [
                          0.3435790729,
                          0.7951168868
                        ]
                      },
                      {
                        "learn": [
                          0.3395415297,
                          0.8408277024
                        ],
                        "iteration": 452,
                        "passed_time": 8.609500742,
                        "remaining_time": 0.8932594589,
                        "test": [
                          0.3435683303,
                          0.7950866638
                        ]
                      },
                      {
                        "learn": [
                          0.3395051276,
                          0.8407952943
                        ],
                        "iteration": 453,
                        "passed_time": 8.62158067,
                        "remaining_time": 0.8735522264,
                        "test": [
                          0.3435362873,
                          0.7951289398
                        ]
                      },
                      {
                        "learn": [
                          0.3394697346,
                          0.8407544235
                        ],
                        "iteration": 454,
                        "passed_time": 8.633997926,
                        "remaining_time": 0.8539118828,
                        "test": [
                          0.3435144514,
                          0.7950573066
                        ]
                      },
                      {
                        "learn": [
                          0.3394487769,
                          0.8407849746
                        ],
                        "iteration": 455,
                        "passed_time": 8.645764542,
                        "remaining_time": 0.8342404383,
                        "test": [
                          0.3434976135,
                          0.7951565523
                        ]
                      },
                      {
                        "learn": [
                          0.33941205,
                          0.8407849746
                        ],
                        "iteration": 456,
                        "passed_time": 8.658858477,
                        "remaining_time": 0.8147284782,
                        "test": [
                          0.343458556,
                          0.7952583891
                        ]
                      },
                      {
                        "learn": [
                          0.3393675468,
                          0.8407952943
                        ],
                        "iteration": 457,
                        "passed_time": 8.670750679,
                        "remaining_time": 0.7951343417,
                        "test": [
                          0.3434236669,
                          0.7952730528
                        ]
                      },
                      {
                        "learn": [
                          0.3393155457,
                          0.8408807375
                        ],
                        "iteration": 458,
                        "passed_time": 8.682762166,
                        "remaining_time": 0.77558442,
                        "test": [
                          0.3433679436,
                          0.7951160126
                        ]
                      },
                      {
                        "learn": [
                          0.3393009338,
                          0.8408704247
                        ],
                        "iteration": 459,
                        "passed_time": 8.698560816,
                        "remaining_time": 0.7563965927,
                        "test": [
                          0.3433669094,
                          0.7950875434
                        ]
                      },
                      {
                        "learn": [
                          0.3392313659,
                          0.8411005963
                        ],
                        "iteration": 460,
                        "passed_time": 8.711615167,
                        "remaining_time": 0.7369913048,
                        "test": [
                          0.3433161488,
                          0.7951436144
                        ]
                      },
                      {
                        "learn": [
                          0.3391716751,
                          0.8411414867
                        ],
                        "iteration": 461,
                        "passed_time": 8.724492254,
                        "remaining_time": 0.7175989299,
                        "test": [
                          0.3432514787,
                          0.7952152425
                        ]
                      },
                      {
                        "learn": [
                          0.3391393879,
                          0.8411039266
                        ],
                        "iteration": 462,
                        "passed_time": 8.737415264,
                        "remaining_time": 0.6982383688,
                        "test": [
                          0.3432074298,
                          0.7953438395
                        ]
                      },
                      {
                        "learn": [
                          0.3391193344,
                          0.8410851457
                        ],
                        "iteration": 463,
                        "passed_time": 8.749023257,
                        "remaining_time": 0.6788035285,
                        "test": [
                          0.3431984571,
                          0.7951867636
                        ]
                      },
                      {
                        "learn": [
                          0.3391031039,
                          0.8410818169
                        ],
                        "iteration": 464,
                        "passed_time": 8.761495398,
                        "remaining_time": 0.6594673955,
                        "test": [
                          0.3431923779,
                          0.7952160991
                        ]
                      },
                      {
                        "learn": [
                          0.3390822623,
                          0.8411551177
                        ],
                        "iteration": 465,
                        "passed_time": 8.772899524,
                        "remaining_time": 0.6400827979,
                        "test": [
                          0.3431563017,
                          0.7951582868
                        ]
                      },
                      {
                        "learn": [
                          0.3390594136,
                          0.841170561
                        ],
                        "iteration": 466,
                        "passed_time": 8.786360096,
                        "remaining_time": 0.6208776942,
                        "test": [
                          0.3431490442,
                          0.794945228
                        ]
                      },
                      {
                        "learn": [
                          0.3390347718,
                          0.8411723725
                        ],
                        "iteration": 467,
                        "passed_time": 8.798990359,
                        "remaining_time": 0.6016403664,
                        "test": [
                          0.3431180922,
                          0.7949590061
                        ]
                      },
                      {
                        "learn": [
                          0.3389976184,
                          0.841114531
                        ],
                        "iteration": 468,
                        "passed_time": 8.811987991,
                        "remaining_time": 0.5824554962,
                        "test": [
                          0.3430799543,
                          0.7950581916
                        ]
                      },
                      {
                        "learn": [
                          0.3389620061,
                          0.8410176683
                        ],
                        "iteration": 469,
                        "passed_time": 8.823423466,
                        "remaining_time": 0.5631972425,
                        "test": [
                          0.3430573543,
                          0.7949167711
                        ]
                      },
                      {
                        "learn": [
                          0.3389167334,
                          0.8409819607
                        ],
                        "iteration": 470,
                        "passed_time": 8.83707994,
                        "remaining_time": 0.544108956,
                        "test": [
                          0.3430323807,
                          0.7946910886
                        ]
                      },
                      {
                        "learn": [
                          0.3388993681,
                          0.8408811144
                        ],
                        "iteration": 471,
                        "passed_time": 8.848737662,
                        "remaining_time": 0.5249251156,
                        "test": [
                          0.3430172579,
                          0.7948460988
                        ]
                      },
                      {
                        "learn": [
                          0.3388589907,
                          0.8409201361
                        ],
                        "iteration": 472,
                        "passed_time": 8.861163273,
                        "remaining_time": 0.505816931,
                        "test": [
                          0.3429661646,
                          0.7953748121
                        ]
                      },
                      {
                        "learn": [
                          0.3388272616,
                          0.8409271287
                        ],
                        "iteration": 473,
                        "passed_time": 8.874068071,
                        "remaining_time": 0.4867632275,
                        "test": [
                          0.3429478594,
                          0.7950617284
                        ]
                      },
                      {
                        "learn": [
                          0.3387963129,
                          0.8411112011
                        ],
                        "iteration": 474,
                        "passed_time": 8.886631408,
                        "remaining_time": 0.4677174425,
                        "test": [
                          0.3428969855,
                          0.7949763847
                        ]
                      },
                      {
                        "learn": [
                          0.3387591233,
                          0.8409885981
                        ],
                        "iteration": 475,
                        "passed_time": 8.90046891,
                        "remaining_time": 0.4487631383,
                        "test": [
                          0.3428732374,
                          0.7950341669
                        ]
                      },
                      {
                        "learn": [
                          0.3387377792,
                          0.8411233116
                        ],
                        "iteration": 476,
                        "passed_time": 8.912341471,
                        "remaining_time": 0.4297355426,
                        "test": [
                          0.3428697755,
                          0.7950212812
                        ]
                      },
                      {
                        "learn": [
                          0.3387083708,
                          0.8411659919
                        ],
                        "iteration": 477,
                        "passed_time": 8.923932051,
                        "remaining_time": 0.4107249061,
                        "test": [
                          0.3428637749,
                          0.7949644147
                        ]
                      },
                      {
                        "learn": [
                          0.3386823417,
                          0.841234108
                        ],
                        "iteration": 478,
                        "passed_time": 8.93748908,
                        "remaining_time": 0.3918314628,
                        "test": [
                          0.342855771,
                          0.7950497174
                        ]
                      },
                      {
                        "learn": [
                          0.3386208562,
                          0.841193237
                        ],
                        "iteration": 479,
                        "passed_time": 8.949775959,
                        "remaining_time": 0.3729073316,
                        "test": [
                          0.3427763429,
                          0.7950075102
                        ]
                      },
                      {
                        "learn": [
                          0.3385691114,
                          0.8413328366
                        ],
                        "iteration": 480,
                        "passed_time": 8.962015431,
                        "remaining_time": 0.3540089256,
                        "test": [
                          0.3427433526,
                          0.7955627125
                        ]
                      },
                      {
                        "learn": [
                          0.3385579852,
                          0.841367023
                        ],
                        "iteration": 481,
                        "passed_time": 8.975225983,
                        "remaining_time": 0.3351744143,
                        "test": [
                          0.3427372423,
                          0.7954634897
                        ]
                      },
                      {
                        "learn": [
                          0.3385357235,
                          0.8413585346
                        ],
                        "iteration": 482,
                        "passed_time": 8.987589671,
                        "remaining_time": 0.3163333839,
                        "test": [
                          0.3427279711,
                          0.7953212191
                        ]
                      },
                      {
                        "learn": [
                          0.3384942808,
                          0.8412153408
                        ],
                        "iteration": 483,
                        "passed_time": 9.002359643,
                        "remaining_time": 0.2975986659,
                        "test": [
                          0.3426830947,
                          0.7956350626
                        ]
                      },
                      {
                        "learn": [
                          0.338471525,
                          0.8412120034
                        ],
                        "iteration": 484,
                        "passed_time": 9.019748047,
                        "remaining_time": 0.2789612798,
                        "test": [
                          0.3426758496,
                          0.7955496727
                        ]
                      },
                      {
                        "learn": [
                          0.3384459659,
                          0.8411983806
                        ],
                        "iteration": 485,
                        "passed_time": 9.032122594,
                        "remaining_time": 0.2601846015,
                        "test": [
                          0.342652919,
                          0.7953220557
                        ]
                      },
                      {
                        "learn": [
                          0.338427638,
                          0.8412952973
                        ],
                        "iteration": 486,
                        "passed_time": 9.055974582,
                        "remaining_time": 0.2417405946,
                        "test": [
                          0.3426551706,
                          0.7956342816
                        ]
                      },
                      {
                        "learn": [
                          0.3383932916,
                          0.8413413251
                        ],
                        "iteration": 487,
                        "passed_time": 9.297661487,
                        "remaining_time": 0.2286310202,
                        "test": [
                          0.3426378845,
                          0.7955488765
                        ]
                      },
                      {
                        "learn": [
                          0.3383775042,
                          0.8413873544
                        ],
                        "iteration": 488,
                        "passed_time": 9.314929238,
                        "remaining_time": 0.2095382855,
                        "test": [
                          0.3426432035,
                          0.7957635609
                        ]
                      },
                      {
                        "learn": [
                          0.3383639372,
                          0.8413788635
                        ],
                        "iteration": 489,
                        "passed_time": 9.337528035,
                        "remaining_time": 0.1905617966,
                        "test": [
                          0.3426295299,
                          0.7957212364
                        ]
                      },
                      {
                        "learn": [
                          0.3383286172,
                          0.8416431788
                        ],
                        "iteration": 490,
                        "passed_time": 9.36521298,
                        "remaining_time": 0.1716637817,
                        "test": [
                          0.3425971959,
                          0.7955781339
                        ]
                      },
                      {
                        "learn": [
                          0.3383040288,
                          0.8415783847
                        ],
                        "iteration": 491,
                        "passed_time": 9.377452123,
                        "remaining_time": 0.1524788963,
                        "test": [
                          0.342583121,
                          0.795620438
                        ]
                      },
                      {
                        "learn": [
                          0.3382842615,
                          0.8414351664
                        ],
                        "iteration": 492,
                        "passed_time": 9.389461425,
                        "remaining_time": 0.1333189249,
                        "test": [
                          0.3425865625,
                          0.7957350889
                        ]
                      },
                      {
                        "learn": [
                          0.3382719822,
                          0.8414351664
                        ],
                        "iteration": 493,
                        "passed_time": 9.402723205,
                        "remaining_time": 0.1142031159,
                        "test": [
                          0.3425745525,
                          0.7957350889
                        ]
                      },
                      {
                        "learn": [
                          0.3382045534,
                          0.8414403032
                        ],
                        "iteration": 494,
                        "passed_time": 9.41540709,
                        "remaining_time": 0.09510512212,
                        "test": [
                          0.3425173786,
                          0.7957058508
                        ]
                      },
                      {
                        "learn": [
                          0.3381906495,
                          0.8415971491
                        ],
                        "iteration": 495,
                        "passed_time": 9.427266878,
                        "remaining_time": 0.07602634579,
                        "test": [
                          0.3425049756,
                          0.7955911824
                        ]
                      },
                      {
                        "learn": [
                          0.3381740183,
                          0.8415989116
                        ],
                        "iteration": 496,
                        "passed_time": 9.44061357,
                        "remaining_time": 0.05698559499,
                        "test": [
                          0.3424982983,
                          0.7957335624
                        ]
                      },
                      {
                        "learn": [
                          0.3381538233,
                          0.8415835169
                        ],
                        "iteration": 497,
                        "passed_time": 9.452256279,
                        "remaining_time": 0.03796086859,
                        "test": [
                          0.3424883926,
                          0.7956612014
                        ]
                      },
                      {
                        "learn": [
                          0.3381310162,
                          0.841532356
                        ],
                        "iteration": 498,
                        "passed_time": 9.463588171,
                        "remaining_time": 0.01896510656,
                        "test": [
                          0.3424776716,
                          0.7958175177
                        ]
                      },
                      {
                        "learn": [
                          0.3380946453,
                          0.8415937804
                        ],
                        "iteration": 499,
                        "passed_time": 9.47675262,
                        "remaining_time": 0,
                        "test": [
                          0.3424581089,
                          0.7957466614
                        ]
                      }
                    ],
                    "meta": {
                      "test_sets": [
                        "test"
                      ],
                      "test_metrics": [
                        {
                          "best_value": "Min",
                          "name": "Logloss"
                        },
                        {
                          "best_value": "Max",
                          "name": "F1"
                        }
                      ],
                      "learn_metrics": [
                        {
                          "best_value": "Min",
                          "name": "Logloss"
                        },
                        {
                          "best_value": "Max",
                          "name": "F1"
                        }
                      ],
                      "launch_mode": "Train",
                      "parameters": "",
                      "iteration_count": 500,
                      "learn_sets": [
                        "learn"
                      ],
                      "name": "experiment"
                    }
                  }
                }
              }
            },
            "layout": "IPY_MODEL_d765dd4ba3724084ba87aa8ecdd5dc2e"
          }
        }
      }
    }
  },
  "cells": [
    {
      "cell_type": "markdown",
      "source": [
        "# Importação das bibliotecas e modelos"
      ],
      "metadata": {
        "id": "N1cqqdR3nSdf"
      }
    },
    {
      "cell_type": "code",
      "execution_count": null,
      "metadata": {
        "id": "KiAiawDNmczP",
        "colab": {
          "base_uri": "https://localhost:8080/"
        },
        "outputId": "1cf2f4f5-5785-419f-e1b6-959f40b464a8"
      },
      "outputs": [
        {
          "output_type": "stream",
          "name": "stdout",
          "text": [
            "Looking in indexes: https://pypi.org/simple, https://us-python.pkg.dev/colab-wheels/public/simple/\n",
            "Requirement already satisfied: catboost in /usr/local/lib/python3.10/dist-packages (1.2)\n",
            "Requirement already satisfied: matplotlib in /usr/local/lib/python3.10/dist-packages (from catboost) (3.7.1)\n",
            "Requirement already satisfied: numpy>=1.16.0 in /usr/local/lib/python3.10/dist-packages (from catboost) (1.22.4)\n",
            "Requirement already satisfied: pandas>=0.24 in /usr/local/lib/python3.10/dist-packages (from catboost) (1.5.3)\n",
            "Requirement already satisfied: plotly in /usr/local/lib/python3.10/dist-packages (from catboost) (5.13.1)\n",
            "Requirement already satisfied: scipy in /usr/local/lib/python3.10/dist-packages (from catboost) (1.10.1)\n",
            "Requirement already satisfied: graphviz in /usr/local/lib/python3.10/dist-packages (from catboost) (0.20.1)\n",
            "Requirement already satisfied: six in /usr/local/lib/python3.10/dist-packages (from catboost) (1.16.0)\n",
            "Requirement already satisfied: pytz>=2020.1 in /usr/local/lib/python3.10/dist-packages (from pandas>=0.24->catboost) (2022.7.1)\n",
            "Requirement already satisfied: python-dateutil>=2.8.1 in /usr/local/lib/python3.10/dist-packages (from pandas>=0.24->catboost) (2.8.2)\n",
            "Requirement already satisfied: packaging>=20.0 in /usr/local/lib/python3.10/dist-packages (from matplotlib->catboost) (23.1)\n",
            "Requirement already satisfied: cycler>=0.10 in /usr/local/lib/python3.10/dist-packages (from matplotlib->catboost) (0.11.0)\n",
            "Requirement already satisfied: pyparsing>=2.3.1 in /usr/local/lib/python3.10/dist-packages (from matplotlib->catboost) (3.0.9)\n",
            "Requirement already satisfied: pillow>=6.2.0 in /usr/local/lib/python3.10/dist-packages (from matplotlib->catboost) (8.4.0)\n",
            "Requirement already satisfied: contourpy>=1.0.1 in /usr/local/lib/python3.10/dist-packages (from matplotlib->catboost) (1.0.7)\n",
            "Requirement already satisfied: fonttools>=4.22.0 in /usr/local/lib/python3.10/dist-packages (from matplotlib->catboost) (4.39.3)\n",
            "Requirement already satisfied: kiwisolver>=1.0.1 in /usr/local/lib/python3.10/dist-packages (from matplotlib->catboost) (1.4.4)\n",
            "Requirement already satisfied: tenacity>=6.2.0 in /usr/local/lib/python3.10/dist-packages (from plotly->catboost) (8.2.2)\n"
          ]
        }
      ],
      "source": [
        "!pip install catboost\n",
        "import numpy as np\n",
        "import pandas as pd\n",
        "from pandas import Series, DataFrame\n",
        "import matplotlib.pyplot as plt\n",
        "import seaborn as sns\n",
        "import os\n",
        "import plotly.express as px\n",
        "from sklearn.model_selection import train_test_split\n",
        "import datetime\n",
        "from datetime import timedelta\n",
        "from sklearn.utils import resample\n",
        "from sklearn.feature_selection import RFECV\n",
        "from sklearn.preprocessing import LabelEncoder, StandardScaler \n",
        "from sklearn.tree import DecisionTreeClassifier\n",
        "from sklearn.linear_model import LogisticRegression\n",
        "from sklearn.svm import SVC\n",
        "from sklearn.ensemble import RandomForestClassifier\n",
        "from xgboost import XGBClassifier\n",
        "from sklearn.model_selection import train_test_split\n",
        "from warnings import filterwarnings\n",
        "filterwarnings('ignore')\n",
        "from sklearn.metrics import confusion_matrix,classification_report,recall_score,roc_auc_score,auc, confusion_matrix, roc_curve,accuracy_score\n",
        "import sklearn \n",
        "from sklearn.impute import SimpleImputer\n",
        "from sklearn.pipeline import Pipeline\n",
        "from sklearn.preprocessing import OneHotEncoder\n",
        "from sklearn.compose import ColumnTransformer\n",
        "from sklearn.model_selection import KFold\n",
        "from sklearn.model_selection import cross_val_score, GridSearchCV\n",
        "import catboost as catboost\n",
        "from catboost import CatBoostClassifier, Pool, cv\n",
        "from catboost.utils import get_roc_curve"
      ]
    },
    {
      "cell_type": "markdown",
      "source": [
        "# Carregando os dados"
      ],
      "metadata": {
        "id": "UjH01k5fm2VN"
      }
    },
    {
      "cell_type": "code",
      "source": [
        "hotel_df = pd.read_csv(\"/content/drive/MyDrive/hotel_bookings.csv\")\n",
        "hotel_df.head()"
      ],
      "metadata": {
        "colab": {
          "base_uri": "https://localhost:8080/",
          "height": 386
        },
        "id": "sSmazqU6mqoW",
        "outputId": "d77cbbc9-5981-4dc6-83f2-db7e6b939ac3"
      },
      "execution_count": null,
      "outputs": [
        {
          "output_type": "execute_result",
          "data": {
            "text/plain": [
              "          hotel  is_canceled  lead_time  arrival_date_year arrival_date_month  \\\n",
              "0  Resort Hotel            0        342               2015               July   \n",
              "1  Resort Hotel            0        737               2015               July   \n",
              "2  Resort Hotel            0          7               2015               July   \n",
              "3  Resort Hotel            0         13               2015               July   \n",
              "4  Resort Hotel            0         14               2015               July   \n",
              "\n",
              "   arrival_date_week_number  arrival_date_day_of_month  \\\n",
              "0                        27                          1   \n",
              "1                        27                          1   \n",
              "2                        27                          1   \n",
              "3                        27                          1   \n",
              "4                        27                          1   \n",
              "\n",
              "   stays_in_weekend_nights  stays_in_week_nights  adults  ...  deposit_type  \\\n",
              "0                        0                     0       2  ...    No Deposit   \n",
              "1                        0                     0       2  ...    No Deposit   \n",
              "2                        0                     1       1  ...    No Deposit   \n",
              "3                        0                     1       1  ...    No Deposit   \n",
              "4                        0                     2       2  ...    No Deposit   \n",
              "\n",
              "   agent company days_in_waiting_list customer_type   adr  \\\n",
              "0    NaN     NaN                    0     Transient   0.0   \n",
              "1    NaN     NaN                    0     Transient   0.0   \n",
              "2    NaN     NaN                    0     Transient  75.0   \n",
              "3  304.0     NaN                    0     Transient  75.0   \n",
              "4  240.0     NaN                    0     Transient  98.0   \n",
              "\n",
              "   required_car_parking_spaces  total_of_special_requests  reservation_status  \\\n",
              "0                            0                          0           Check-Out   \n",
              "1                            0                          0           Check-Out   \n",
              "2                            0                          0           Check-Out   \n",
              "3                            0                          0           Check-Out   \n",
              "4                            0                          1           Check-Out   \n",
              "\n",
              "  reservation_status_date  \n",
              "0              2015-07-01  \n",
              "1              2015-07-01  \n",
              "2              2015-07-02  \n",
              "3              2015-07-02  \n",
              "4              2015-07-03  \n",
              "\n",
              "[5 rows x 32 columns]"
            ],
            "text/html": [
              "\n",
              "  <div id=\"df-d14322a1-d66e-4bb8-8e74-cad824140e65\">\n",
              "    <div class=\"colab-df-container\">\n",
              "      <div>\n",
              "<style scoped>\n",
              "    .dataframe tbody tr th:only-of-type {\n",
              "        vertical-align: middle;\n",
              "    }\n",
              "\n",
              "    .dataframe tbody tr th {\n",
              "        vertical-align: top;\n",
              "    }\n",
              "\n",
              "    .dataframe thead th {\n",
              "        text-align: right;\n",
              "    }\n",
              "</style>\n",
              "<table border=\"1\" class=\"dataframe\">\n",
              "  <thead>\n",
              "    <tr style=\"text-align: right;\">\n",
              "      <th></th>\n",
              "      <th>hotel</th>\n",
              "      <th>is_canceled</th>\n",
              "      <th>lead_time</th>\n",
              "      <th>arrival_date_year</th>\n",
              "      <th>arrival_date_month</th>\n",
              "      <th>arrival_date_week_number</th>\n",
              "      <th>arrival_date_day_of_month</th>\n",
              "      <th>stays_in_weekend_nights</th>\n",
              "      <th>stays_in_week_nights</th>\n",
              "      <th>adults</th>\n",
              "      <th>...</th>\n",
              "      <th>deposit_type</th>\n",
              "      <th>agent</th>\n",
              "      <th>company</th>\n",
              "      <th>days_in_waiting_list</th>\n",
              "      <th>customer_type</th>\n",
              "      <th>adr</th>\n",
              "      <th>required_car_parking_spaces</th>\n",
              "      <th>total_of_special_requests</th>\n",
              "      <th>reservation_status</th>\n",
              "      <th>reservation_status_date</th>\n",
              "    </tr>\n",
              "  </thead>\n",
              "  <tbody>\n",
              "    <tr>\n",
              "      <th>0</th>\n",
              "      <td>Resort Hotel</td>\n",
              "      <td>0</td>\n",
              "      <td>342</td>\n",
              "      <td>2015</td>\n",
              "      <td>July</td>\n",
              "      <td>27</td>\n",
              "      <td>1</td>\n",
              "      <td>0</td>\n",
              "      <td>0</td>\n",
              "      <td>2</td>\n",
              "      <td>...</td>\n",
              "      <td>No Deposit</td>\n",
              "      <td>NaN</td>\n",
              "      <td>NaN</td>\n",
              "      <td>0</td>\n",
              "      <td>Transient</td>\n",
              "      <td>0.0</td>\n",
              "      <td>0</td>\n",
              "      <td>0</td>\n",
              "      <td>Check-Out</td>\n",
              "      <td>2015-07-01</td>\n",
              "    </tr>\n",
              "    <tr>\n",
              "      <th>1</th>\n",
              "      <td>Resort Hotel</td>\n",
              "      <td>0</td>\n",
              "      <td>737</td>\n",
              "      <td>2015</td>\n",
              "      <td>July</td>\n",
              "      <td>27</td>\n",
              "      <td>1</td>\n",
              "      <td>0</td>\n",
              "      <td>0</td>\n",
              "      <td>2</td>\n",
              "      <td>...</td>\n",
              "      <td>No Deposit</td>\n",
              "      <td>NaN</td>\n",
              "      <td>NaN</td>\n",
              "      <td>0</td>\n",
              "      <td>Transient</td>\n",
              "      <td>0.0</td>\n",
              "      <td>0</td>\n",
              "      <td>0</td>\n",
              "      <td>Check-Out</td>\n",
              "      <td>2015-07-01</td>\n",
              "    </tr>\n",
              "    <tr>\n",
              "      <th>2</th>\n",
              "      <td>Resort Hotel</td>\n",
              "      <td>0</td>\n",
              "      <td>7</td>\n",
              "      <td>2015</td>\n",
              "      <td>July</td>\n",
              "      <td>27</td>\n",
              "      <td>1</td>\n",
              "      <td>0</td>\n",
              "      <td>1</td>\n",
              "      <td>1</td>\n",
              "      <td>...</td>\n",
              "      <td>No Deposit</td>\n",
              "      <td>NaN</td>\n",
              "      <td>NaN</td>\n",
              "      <td>0</td>\n",
              "      <td>Transient</td>\n",
              "      <td>75.0</td>\n",
              "      <td>0</td>\n",
              "      <td>0</td>\n",
              "      <td>Check-Out</td>\n",
              "      <td>2015-07-02</td>\n",
              "    </tr>\n",
              "    <tr>\n",
              "      <th>3</th>\n",
              "      <td>Resort Hotel</td>\n",
              "      <td>0</td>\n",
              "      <td>13</td>\n",
              "      <td>2015</td>\n",
              "      <td>July</td>\n",
              "      <td>27</td>\n",
              "      <td>1</td>\n",
              "      <td>0</td>\n",
              "      <td>1</td>\n",
              "      <td>1</td>\n",
              "      <td>...</td>\n",
              "      <td>No Deposit</td>\n",
              "      <td>304.0</td>\n",
              "      <td>NaN</td>\n",
              "      <td>0</td>\n",
              "      <td>Transient</td>\n",
              "      <td>75.0</td>\n",
              "      <td>0</td>\n",
              "      <td>0</td>\n",
              "      <td>Check-Out</td>\n",
              "      <td>2015-07-02</td>\n",
              "    </tr>\n",
              "    <tr>\n",
              "      <th>4</th>\n",
              "      <td>Resort Hotel</td>\n",
              "      <td>0</td>\n",
              "      <td>14</td>\n",
              "      <td>2015</td>\n",
              "      <td>July</td>\n",
              "      <td>27</td>\n",
              "      <td>1</td>\n",
              "      <td>0</td>\n",
              "      <td>2</td>\n",
              "      <td>2</td>\n",
              "      <td>...</td>\n",
              "      <td>No Deposit</td>\n",
              "      <td>240.0</td>\n",
              "      <td>NaN</td>\n",
              "      <td>0</td>\n",
              "      <td>Transient</td>\n",
              "      <td>98.0</td>\n",
              "      <td>0</td>\n",
              "      <td>1</td>\n",
              "      <td>Check-Out</td>\n",
              "      <td>2015-07-03</td>\n",
              "    </tr>\n",
              "  </tbody>\n",
              "</table>\n",
              "<p>5 rows × 32 columns</p>\n",
              "</div>\n",
              "      <button class=\"colab-df-convert\" onclick=\"convertToInteractive('df-d14322a1-d66e-4bb8-8e74-cad824140e65')\"\n",
              "              title=\"Convert this dataframe to an interactive table.\"\n",
              "              style=\"display:none;\">\n",
              "        \n",
              "  <svg xmlns=\"http://www.w3.org/2000/svg\" height=\"24px\"viewBox=\"0 0 24 24\"\n",
              "       width=\"24px\">\n",
              "    <path d=\"M0 0h24v24H0V0z\" fill=\"none\"/>\n",
              "    <path d=\"M18.56 5.44l.94 2.06.94-2.06 2.06-.94-2.06-.94-.94-2.06-.94 2.06-2.06.94zm-11 1L8.5 8.5l.94-2.06 2.06-.94-2.06-.94L8.5 2.5l-.94 2.06-2.06.94zm10 10l.94 2.06.94-2.06 2.06-.94-2.06-.94-.94-2.06-.94 2.06-2.06.94z\"/><path d=\"M17.41 7.96l-1.37-1.37c-.4-.4-.92-.59-1.43-.59-.52 0-1.04.2-1.43.59L10.3 9.45l-7.72 7.72c-.78.78-.78 2.05 0 2.83L4 21.41c.39.39.9.59 1.41.59.51 0 1.02-.2 1.41-.59l7.78-7.78 2.81-2.81c.8-.78.8-2.07 0-2.86zM5.41 20L4 18.59l7.72-7.72 1.47 1.35L5.41 20z\"/>\n",
              "  </svg>\n",
              "      </button>\n",
              "      \n",
              "  <style>\n",
              "    .colab-df-container {\n",
              "      display:flex;\n",
              "      flex-wrap:wrap;\n",
              "      gap: 12px;\n",
              "    }\n",
              "\n",
              "    .colab-df-convert {\n",
              "      background-color: #E8F0FE;\n",
              "      border: none;\n",
              "      border-radius: 50%;\n",
              "      cursor: pointer;\n",
              "      display: none;\n",
              "      fill: #1967D2;\n",
              "      height: 32px;\n",
              "      padding: 0 0 0 0;\n",
              "      width: 32px;\n",
              "    }\n",
              "\n",
              "    .colab-df-convert:hover {\n",
              "      background-color: #E2EBFA;\n",
              "      box-shadow: 0px 1px 2px rgba(60, 64, 67, 0.3), 0px 1px 3px 1px rgba(60, 64, 67, 0.15);\n",
              "      fill: #174EA6;\n",
              "    }\n",
              "\n",
              "    [theme=dark] .colab-df-convert {\n",
              "      background-color: #3B4455;\n",
              "      fill: #D2E3FC;\n",
              "    }\n",
              "\n",
              "    [theme=dark] .colab-df-convert:hover {\n",
              "      background-color: #434B5C;\n",
              "      box-shadow: 0px 1px 3px 1px rgba(0, 0, 0, 0.15);\n",
              "      filter: drop-shadow(0px 1px 2px rgba(0, 0, 0, 0.3));\n",
              "      fill: #FFFFFF;\n",
              "    }\n",
              "  </style>\n",
              "\n",
              "      <script>\n",
              "        const buttonEl =\n",
              "          document.querySelector('#df-d14322a1-d66e-4bb8-8e74-cad824140e65 button.colab-df-convert');\n",
              "        buttonEl.style.display =\n",
              "          google.colab.kernel.accessAllowed ? 'block' : 'none';\n",
              "\n",
              "        async function convertToInteractive(key) {\n",
              "          const element = document.querySelector('#df-d14322a1-d66e-4bb8-8e74-cad824140e65');\n",
              "          const dataTable =\n",
              "            await google.colab.kernel.invokeFunction('convertToInteractive',\n",
              "                                                     [key], {});\n",
              "          if (!dataTable) return;\n",
              "\n",
              "          const docLinkHtml = 'Like what you see? Visit the ' +\n",
              "            '<a target=\"_blank\" href=https://colab.research.google.com/notebooks/data_table.ipynb>data table notebook</a>'\n",
              "            + ' to learn more about interactive tables.';\n",
              "          element.innerHTML = '';\n",
              "          dataTable['output_type'] = 'display_data';\n",
              "          await google.colab.output.renderOutput(dataTable, element);\n",
              "          const docLink = document.createElement('div');\n",
              "          docLink.innerHTML = docLinkHtml;\n",
              "          element.appendChild(docLink);\n",
              "        }\n",
              "      </script>\n",
              "    </div>\n",
              "  </div>\n",
              "  "
            ]
          },
          "metadata": {},
          "execution_count": 2
        }
      ]
    },
    {
      "cell_type": "code",
      "source": [
        "hotel_df.shape"
      ],
      "metadata": {
        "colab": {
          "base_uri": "https://localhost:8080/"
        },
        "id": "SEQF3QpNmqlt",
        "outputId": "429757b5-fa22-4849-ed80-7fa4cb2ebd58"
      },
      "execution_count": null,
      "outputs": [
        {
          "output_type": "execute_result",
          "data": {
            "text/plain": [
              "(119390, 32)"
            ]
          },
          "metadata": {},
          "execution_count": 3
        }
      ]
    },
    {
      "cell_type": "markdown",
      "source": [
        "# Pré-processamento de dados"
      ],
      "metadata": {
        "id": "MD1nm4f1n4bs"
      }
    },
    {
      "cell_type": "markdown",
      "source": [
        "Verificando valores ausentes"
      ],
      "metadata": {
        "id": "p7-iEYBqn91E"
      }
    },
    {
      "cell_type": "code",
      "source": [
        "# percentual dos valores ausentes\n",
        "perc_null=((hotel_df.isnull().sum()/hotel_df.shape[0])*100).sort_values(ascending=False)\n",
        "perc_null"
      ],
      "metadata": {
        "colab": {
          "base_uri": "https://localhost:8080/"
        },
        "id": "ycNUD91amqjK",
        "outputId": "d174462a-5c0e-46ad-967e-03a23aa8281c"
      },
      "execution_count": null,
      "outputs": [
        {
          "output_type": "execute_result",
          "data": {
            "text/plain": [
              "company                           94.306893\n",
              "agent                             13.686238\n",
              "country                            0.408744\n",
              "children                           0.003350\n",
              "reserved_room_type                 0.000000\n",
              "assigned_room_type                 0.000000\n",
              "booking_changes                    0.000000\n",
              "deposit_type                       0.000000\n",
              "hotel                              0.000000\n",
              "previous_cancellations             0.000000\n",
              "days_in_waiting_list               0.000000\n",
              "customer_type                      0.000000\n",
              "adr                                0.000000\n",
              "required_car_parking_spaces        0.000000\n",
              "total_of_special_requests          0.000000\n",
              "reservation_status                 0.000000\n",
              "previous_bookings_not_canceled     0.000000\n",
              "is_repeated_guest                  0.000000\n",
              "is_canceled                        0.000000\n",
              "distribution_channel               0.000000\n",
              "market_segment                     0.000000\n",
              "meal                               0.000000\n",
              "babies                             0.000000\n",
              "adults                             0.000000\n",
              "stays_in_week_nights               0.000000\n",
              "stays_in_weekend_nights            0.000000\n",
              "arrival_date_day_of_month          0.000000\n",
              "arrival_date_week_number           0.000000\n",
              "arrival_date_month                 0.000000\n",
              "arrival_date_year                  0.000000\n",
              "lead_time                          0.000000\n",
              "reservation_status_date            0.000000\n",
              "dtype: float64"
            ]
          },
          "metadata": {},
          "execution_count": 4
        }
      ]
    },
    {
      "cell_type": "code",
      "source": [
        "#Agent e Company são colunas de ID e possuem muitos valores ausentes.\n",
        "#Então, vamos remover\n",
        "hotel_df =  hotel_df.drop(['agent','company'],axis = 1)"
      ],
      "metadata": {
        "id": "rEmvrR2HmqgB"
      },
      "execution_count": null,
      "outputs": []
    },
    {
      "cell_type": "markdown",
      "source": [
        "# Gráfico de correlação"
      ],
      "metadata": {
        "id": "LLQh14WeoaUC"
      }
    },
    {
      "cell_type": "code",
      "source": [
        "plt.figure(figsize=(16, 9)) \n",
        "corr_matrix = hotel_df.corr()\n",
        "sns.heatmap(corr_matrix)\n",
        "plt.show()\n",
        "     "
      ],
      "metadata": {
        "colab": {
          "base_uri": "https://localhost:8080/",
          "height": 788
        },
        "id": "bhc6NSm2mqdG",
        "outputId": "e1ac3c91-798f-4573-8415-85a5e6753d1f"
      },
      "execution_count": null,
      "outputs": [
        {
          "output_type": "display_data",
          "data": {
            "text/plain": [
              "<Figure size 1600x900 with 2 Axes>"
            ],
            "image/png": "[encoded data removed]"
          },
          "metadata": {}
        }
      ]
    },
    {
      "cell_type": "code",
      "source": [
        "# Quais recursos numéricos estão correlacionados com o rótulo?\n",
        "corr_with_cancel = corr_matrix[\"is_canceled\"]\n",
        "corr_with_cancel.abs().sort_values(ascending=False)[1:]"
      ],
      "metadata": {
        "colab": {
          "base_uri": "https://localhost:8080/"
        },
        "id": "Jcl-Yy0amqar",
        "outputId": "e4fb5016-b217-4019-8ae8-8e05a4338275"
      },
      "execution_count": null,
      "outputs": [
        {
          "output_type": "execute_result",
          "data": {
            "text/plain": [
              "lead_time                         0.293123\n",
              "total_of_special_requests         0.234658\n",
              "required_car_parking_spaces       0.195498\n",
              "booking_changes                   0.144381\n",
              "previous_cancellations            0.110133\n",
              "is_repeated_guest                 0.084793\n",
              "adults                            0.060017\n",
              "previous_bookings_not_canceled    0.057358\n",
              "days_in_waiting_list              0.054186\n",
              "adr                               0.047557\n",
              "babies                            0.032491\n",
              "stays_in_week_nights              0.024765\n",
              "arrival_date_year                 0.016660\n",
              "arrival_date_week_number          0.008148\n",
              "arrival_date_day_of_month         0.006130\n",
              "children                          0.005048\n",
              "stays_in_weekend_nights           0.001791\n",
              "Name: is_canceled, dtype: float64"
            ]
          },
          "metadata": {},
          "execution_count": 7
        }
      ]
    },
    {
      "cell_type": "markdown",
      "source": [
        "# Imputação de valores ausentes - treinamento e teste"
      ],
      "metadata": {
        "id": "HKrAK-rBorHt"
      }
    },
    {
      "cell_type": "markdown",
      "source": [
        "Antes de imputar valores ausentes, estou aqui fazendo a divisão  de treinamento e teste para evitar vazamento de dados."
      ],
      "metadata": {
        "id": "TEJGvZLDo5YO"
      }
    },
    {
      "cell_type": "code",
      "source": [
        "X_train, X_test = train_test_split(hotel_df, test_size = 0.30, random_state = 42)\n",
        "X_train.shape, X_test.shape"
      ],
      "metadata": {
        "colab": {
          "base_uri": "https://localhost:8080/"
        },
        "id": "DDluHVCJmqXg",
        "outputId": "0e00fdae-394b-4688-d68a-910905f6edac"
      },
      "execution_count": null,
      "outputs": [
        {
          "output_type": "execute_result",
          "data": {
            "text/plain": [
              "((83573, 30), (35817, 30))"
            ]
          },
          "metadata": {},
          "execution_count": 8
        }
      ]
    },
    {
      "cell_type": "code",
      "source": [
        "# estou criando uma função de imputação\n",
        "def imputar(df):\n",
        "  df[\"country\"]=df[\"country\"].fillna(\"Missing\")\n",
        "  df[\"children\"]=df[\"children\"].fillna(df[\"children\"].mode()[0])\n",
        "  return(df)"
      ],
      "metadata": {
        "id": "8KPDHzh-mqUv"
      },
      "execution_count": null,
      "outputs": []
    },
    {
      "cell_type": "code",
      "source": [
        "X_train = imputar(X_train)\n",
        "X_test = imputar(X_test)\n",
        "     "
      ],
      "metadata": {
        "id": "pryRc6t3mqSU"
      },
      "execution_count": null,
      "outputs": []
    },
    {
      "cell_type": "code",
      "source": [
        "hotel_df=pd.concat([X_train,X_test])\n",
        "hotel_df.shape"
      ],
      "metadata": {
        "colab": {
          "base_uri": "https://localhost:8080/"
        },
        "id": "aVRmWTv9mqPh",
        "outputId": "8145bcd9-6542-4cbd-b305-9dd3cc18b95f"
      },
      "execution_count": null,
      "outputs": [
        {
          "output_type": "execute_result",
          "data": {
            "text/plain": [
              "(119390, 30)"
            ]
          },
          "metadata": {},
          "execution_count": 11
        }
      ]
    },
    {
      "cell_type": "markdown",
      "source": [
        "# Feature Engineering"
      ],
      "metadata": {
        "id": "Sn8pIaiPpXDL"
      }
    },
    {
      "cell_type": "code",
      "source": [
        "def arrival_date(data):\n",
        "    date=datetime.datetime.strptime(str(data[\"arrival_date_year\"])+data[\"arrival_date_month\"]+str(data[\"arrival_date_day_of_month\"]),\"%Y%B%d\")\n",
        "    return(date)\n",
        "\n",
        "def family_or_not(data):\n",
        "    if (data[\"adults\"]>0) &((data[\"children\"]>0)|(data[\"babies\"]>0)):\n",
        "        return(1)\n",
        "    else:\n",
        "        return(0)\n",
        "        \n",
        "def room_type_not_given(data):\n",
        "    if data[\"reserved_room_type\"]==data[\"assigned_room_type\"]:\n",
        "        return(0)\n",
        "    else: \n",
        "        return(1)\n",
        "     "
      ],
      "metadata": {
        "id": "qdTcj2QYmqMX"
      },
      "execution_count": null,
      "outputs": []
    },
    {
      "cell_type": "code",
      "source": [
        "def feature_eng(data):\n",
        "    data[\"arrival_date\"]=data.apply(arrival_date,axis=1)\n",
        "    data[\"arrival_date_weekday\"]=data[\"arrival_date\"].dt.weekday\n",
        "    data[\"family_or_not\"]=data.apply(family_or_not,axis=1)\n",
        "    data[\"room_type_changes\"]=data.apply(room_type_not_given,axis=1)\n",
        "\n",
        "    data[\"Total_No_Of_Nights_Stayed\"]=data[\"stays_in_weekend_nights\"]+data[\"stays_in_week_nights\"]\n",
        "    data[\"Non_Refund_Flag\"]=data[\"deposit_type\"].apply(lambda x:1 if x==\"Non Refund\" else 0)\n",
        "    return(data)"
      ],
      "metadata": {
        "id": "cQoJUTXpmqKJ"
      },
      "execution_count": null,
      "outputs": []
    },
    {
      "cell_type": "code",
      "source": [
        "hotel_df=feature_eng(hotel_df)\n"
      ],
      "metadata": {
        "id": "FfzPTuDCmqG6"
      },
      "execution_count": null,
      "outputs": []
    },
    {
      "cell_type": "code",
      "source": [
        "# aqui estou fazendo a eliminação de variáveis usadas para criar novos recursos e reserve_status como rótulo depende disso\n",
        "hotel_df = hotel_df.drop(['arrival_date_month','arrival_date_year','arrival_date_day_of_month',\n",
        "                          'reservation_status','reservation_status_date'],axis= 1)"
      ],
      "metadata": {
        "id": "yDYW3Gf7mqEQ"
      },
      "execution_count": null,
      "outputs": []
    },
    {
      "cell_type": "markdown",
      "source": [
        "# Codificação das variáveis "
      ],
      "metadata": {
        "id": "5Evssnh5pqtH"
      }
    },
    {
      "cell_type": "code",
      "source": [
        "hotel_df=pd.get_dummies(hotel_df,dtype='int64',drop_first=True)\n",
        "     \n",
        "\n",
        "hotel_df.shape"
      ],
      "metadata": {
        "colab": {
          "base_uri": "https://localhost:8080/"
        },
        "id": "chhIo6aMmqBl",
        "outputId": "cab571d8-63f9-4a0a-cc56-5c284e49785b"
      },
      "execution_count": null,
      "outputs": [
        {
          "output_type": "execute_result",
          "data": {
            "text/plain": [
              "(119390, 240)"
            ]
          },
          "metadata": {},
          "execution_count": 16
        }
      ]
    },
    {
      "cell_type": "markdown",
      "source": [
        "# Divisão dos dados "
      ],
      "metadata": {
        "id": "Lq-akdSZpyTK"
      }
    },
    {
      "cell_type": "code",
      "source": [
        "y=hotel_df[\"is_canceled\"]\n",
        "X=hotel_df.drop(\"is_canceled\",axis=1)"
      ],
      "metadata": {
        "id": "2b3gnAqTmp-2"
      },
      "execution_count": null,
      "outputs": []
    },
    {
      "cell_type": "markdown",
      "source": [
        "# Split de treino e teste"
      ],
      "metadata": {
        "id": "xHvJYURVp4ie"
      }
    },
    {
      "cell_type": "code",
      "source": [
        "X_train, X_test, y_train, y_test = train_test_split(X, y, test_size = 0.30, random_state = 42,stratify = y)"
      ],
      "metadata": {
        "id": "1Xk_dy_lp4ZF"
      },
      "execution_count": null,
      "outputs": []
    },
    {
      "cell_type": "code",
      "source": [
        "# Y TREINO - conjunto de dados desbalanceado\n",
        "y_train.value_counts()/y_train.shape[0]*100"
      ],
      "metadata": {
        "colab": {
          "base_uri": "https://localhost:8080/"
        },
        "id": "RRqc4Cfxp4XL",
        "outputId": "9dc377ee-348a-4aff-ac76-af76c78f4a6e"
      },
      "execution_count": null,
      "outputs": [
        {
          "output_type": "execute_result",
          "data": {
            "text/plain": [
              "0    62.958132\n",
              "1    37.041868\n",
              "Name: is_canceled, dtype: float64"
            ]
          },
          "metadata": {},
          "execution_count": 19
        }
      ]
    },
    {
      "cell_type": "code",
      "source": [
        "# Y TESTE\n",
        "y_test.value_counts()/y_test.shape[0]*100"
      ],
      "metadata": {
        "colab": {
          "base_uri": "https://localhost:8080/"
        },
        "id": "KNcTXfcEp4UG",
        "outputId": "2be51843-0f14-48c4-a5a5-5a13a6bd89b5"
      },
      "execution_count": null,
      "outputs": [
        {
          "output_type": "execute_result",
          "data": {
            "text/plain": [
              "0    62.95893\n",
              "1    37.04107\n",
              "Name: is_canceled, dtype: float64"
            ]
          },
          "metadata": {},
          "execution_count": 20
        }
      ]
    },
    {
      "cell_type": "markdown",
      "source": [
        "# Balanceamento dos dados"
      ],
      "metadata": {
        "id": "GMt2QMfir2Vm"
      }
    },
    {
      "cell_type": "code",
      "source": [
        "merged_xy=X_train.merge(y_train,left_index=True,right_index=True)\n",
        "not_cancel=merged_xy[merged_xy['is_canceled']==0]\n",
        "cancel=merged_xy[merged_xy['is_canceled']==1]\n",
        "print(not_cancel.shape)\n",
        "print(cancel.shape)"
      ],
      "metadata": {
        "colab": {
          "base_uri": "https://localhost:8080/"
        },
        "id": "itkFaFHmp4Rf",
        "outputId": "b1c3965f-c51d-43e8-d8e1-dd30cc4ff478"
      },
      "execution_count": null,
      "outputs": [
        {
          "output_type": "stream",
          "name": "stdout",
          "text": [
            "(52616, 240)\n",
            "(30957, 240)\n"
          ]
        }
      ]
    },
    {
      "cell_type": "code",
      "source": [
        "nao_amostra_cancel= resample(not_cancel,\n",
        "                                replace = False, \n",
        "                                n_samples = len(cancel), \n",
        "                                random_state = 20) \n",
        "     \n",
        "\n",
        "X_train = pd.concat([nao_amostra_cancel, cancel])\n",
        "X_train.shape\n",
        "     "
      ],
      "metadata": {
        "colab": {
          "base_uri": "https://localhost:8080/"
        },
        "id": "AahDnkgup4O3",
        "outputId": "7054dd9f-d992-470e-b2e1-b11747d13d13"
      },
      "execution_count": null,
      "outputs": [
        {
          "output_type": "execute_result",
          "data": {
            "text/plain": [
              "(61914, 240)"
            ]
          },
          "metadata": {},
          "execution_count": 22
        }
      ]
    },
    {
      "cell_type": "code",
      "source": [
        "y_train=X_train['is_canceled']\n",
        "X_train = X_train.drop('is_canceled',axis = 1)"
      ],
      "metadata": {
        "id": "MVxCQSjVp4MI"
      },
      "execution_count": null,
      "outputs": []
    },
    {
      "cell_type": "markdown",
      "source": [
        "# Eliminação de variáveis correlacionadas "
      ],
      "metadata": {
        "id": "FIKp9mU3skjp"
      }
    },
    {
      "cell_type": "code",
      "source": [
        "corr = X_train.corr()\n",
        "upper = corr.where(np.triu(np.ones(corr.shape),k=1).astype(np.bool))\n",
        "corr_threshold=0.90\n",
        "to_drop = [column for column in upper.columns if any(upper[column] > corr_threshold)]\n",
        "to_drop"
      ],
      "metadata": {
        "colab": {
          "base_uri": "https://localhost:8080/"
        },
        "id": "9vwEKDYXp4Jn",
        "outputId": "e18106e9-58f3-4e35-e7d9-51445bb25d27"
      },
      "execution_count": null,
      "outputs": [
        {
          "output_type": "execute_result",
          "data": {
            "text/plain": [
              "['Total_No_Of_Nights_Stayed',\n",
              " 'assigned_room_type_G',\n",
              " 'assigned_room_type_H',\n",
              " 'assigned_room_type_P',\n",
              " 'deposit_type_Non Refund']"
            ]
          },
          "metadata": {},
          "execution_count": 24
        }
      ]
    },
    {
      "cell_type": "code",
      "source": [
        "X_train = X_train.drop(X_train[to_drop],axis=1)\n",
        "X_test = X_test.drop(X_test[to_drop], axis=1)"
      ],
      "metadata": {
        "id": "TY060jIQp4G7"
      },
      "execution_count": null,
      "outputs": []
    },
    {
      "cell_type": "code",
      "source": [
        "X_train = X_train.drop('arrival_date',axis=1)\n",
        "X_test = X_test.drop('arrival_date', axis=1)"
      ],
      "metadata": {
        "id": "nPejqeqvmp8Q"
      },
      "execution_count": null,
      "outputs": []
    },
    {
      "cell_type": "markdown",
      "source": [
        "# Seleção de features"
      ],
      "metadata": {
        "id": "x4LXLJf5sxfB"
      }
    },
    {
      "cell_type": "code",
      "source": [
        "modelo = RandomForestClassifier(n_estimators=5,random_state=20)"
      ],
      "metadata": {
        "id": "GL1534GsszpR"
      },
      "execution_count": null,
      "outputs": []
    },
    {
      "cell_type": "code",
      "source": [
        "rfecv = RFECV(estimator=modelo, step=1, cv=2, scoring='f1')\n",
        "selector = rfecv.fit(X_train,y_train)"
      ],
      "metadata": {
        "id": "qL2YhKivs0Pt"
      },
      "execution_count": null,
      "outputs": []
    },
    {
      "cell_type": "code",
      "source": [
        "rank=selector.ranking_\n",
        "feature_rank=pd.DataFrame({'Feature':X_train.columns,'Rank':rank})\n",
        "feature_selected=(feature_rank[feature_rank['Rank']==1]['Feature']).to_list()\n",
        "print(feature_selected)\n",
        "print(\"O número de recursos selecionados\",len(feature_selected))"
      ],
      "metadata": {
        "colab": {
          "base_uri": "https://localhost:8080/"
        },
        "id": "E6rsmIcxs0MU",
        "outputId": "9f5eed32-bd7b-4283-b91c-152935498cd9"
      },
      "execution_count": null,
      "outputs": [
        {
          "output_type": "stream",
          "name": "stdout",
          "text": [
            "['lead_time', 'arrival_date_week_number', 'stays_in_weekend_nights', 'stays_in_week_nights', 'adults', 'children', 'is_repeated_guest', 'previous_cancellations', 'previous_bookings_not_canceled', 'booking_changes', 'days_in_waiting_list', 'adr', 'required_car_parking_spaces', 'total_of_special_requests', 'arrival_date_weekday', 'family_or_not', 'room_type_changes', 'Non_Refund_Flag', 'hotel_Resort Hotel', 'meal_HB', 'meal_SC', 'meal_Undefined', 'country_AGO', 'country_AUT', 'country_BEL', 'country_BRA', 'country_CHE', 'country_CHN', 'country_CN', 'country_DEU', 'country_ESP', 'country_FRA', 'country_GBR', 'country_IRL', 'country_ITA', 'country_NLD', 'country_POL', 'country_PRT', 'country_RUS', 'country_SWE', 'country_USA', 'market_segment_Corporate', 'market_segment_Direct', 'market_segment_Groups', 'market_segment_Offline TA/TO', 'market_segment_Online TA', 'distribution_channel_Direct', 'distribution_channel_TA/TO', 'reserved_room_type_B', 'reserved_room_type_D', 'reserved_room_type_E', 'reserved_room_type_F', 'reserved_room_type_G', 'assigned_room_type_B', 'assigned_room_type_C', 'assigned_room_type_D', 'assigned_room_type_E', 'assigned_room_type_F', 'customer_type_Transient', 'customer_type_Transient-Party']\n",
            "O número de recursos selecionados 60\n"
          ]
        }
      ]
    },
    {
      "cell_type": "markdown",
      "source": [
        "# Descartando variáveis  não selecionadas"
      ],
      "metadata": {
        "id": "qPX2ytG-tC0C"
      }
    },
    {
      "cell_type": "code",
      "source": [
        "X_train=X_train[feature_selected]\n",
        "X_test=X_test[feature_selected]\n",
        "     \n",
        "\n",
        "X_test.shape, y_test.shape"
      ],
      "metadata": {
        "colab": {
          "base_uri": "https://localhost:8080/"
        },
        "id": "shKlpS49s0Jr",
        "outputId": "e16717d3-0af9-4431-a47f-0e0a48aeb23c"
      },
      "execution_count": null,
      "outputs": [
        {
          "output_type": "execute_result",
          "data": {
            "text/plain": [
              "((35817, 60), (35817,))"
            ]
          },
          "metadata": {},
          "execution_count": 30
        }
      ]
    },
    {
      "cell_type": "markdown",
      "source": [
        "# Implementação dos modelos selecionados"
      ],
      "metadata": {
        "id": "Tg6I0gGPtTyD"
      }
    },
    {
      "cell_type": "markdown",
      "source": [
        "Foi construida uma função que avalia o modelo usando o conjunto de treinamento e teste fornecido. Ela aceita diversos modelos, mas se o modelo for do tipo 'CatBoostClassifier', ele fará um gráfico da curva AUC-ROC durante o treinamento. Em seguida, a função calcula as previsões do modelo em termos de probabilidade e em termos binários usando um limiar definido pelo parâmetro 'threshold'. Depois disso, ela imprime as seguintes informações:\n",
        "\n",
        "*  Matriz de Confusão para o conjunto de treinamento\n",
        "* Matriz de Confusão para o conjunto de teste\n",
        "* AUC ROC para o conjunto de treinamento\n",
        "* AUC ROC para o conjunto de teste\n",
        "* Relatório de Classificação para o conjunto de treinamento\n",
        "* Relatório de Classificação para o conjunto de teste"
      ],
      "metadata": {
        "id": "DgrtCeLQmrFy"
      }
    },
    {
      "cell_type": "code",
      "source": [
        "def avaliar_modelo(modeloUsado,Xtrain,ytrain,Xtest,ytest,threshold):\n",
        "    if 'CatBoostClassifier' in str(modeloUsado):\n",
        "      modeloUsado.fit(Xtrain,ytrain,eval_set=(Xtest,ytest),verbose=False,plot=True)\n",
        "    else:\n",
        "      modeloUsado.fit(Xtrain,ytrain)\n",
        "    yTrainProbability=modeloUsado.predict_proba(Xtrain)[:,1]\n",
        "    yTrainPrediction=np.where(yTrainProbability>threshold,1,0)\n",
        "    \n",
        "    yTestProbability=modeloUsado.predict_proba(Xtest)[:,1]\n",
        "    yTestPrediction=np.where(yTestProbability>threshold,1,0)\n",
        "    \n",
        "    print(modeloUsado)\n",
        "\n",
        "  \n",
        "\n",
        "    #resultados\n",
        "    #matriz de confusão\n",
        "    print(\"\\n\")\n",
        "    print(' Matriz de Confusão:Treino \\n ')\n",
        "    data = {'y_Real': ytrain,'y_Previsto': yTrainPrediction}\n",
        "    df = pd.DataFrame(data, columns=['y_Real','y_Previsto'])\n",
        "    confusion_matrix = pd.crosstab(df['y_Real'], df['y_Previsto'], rownames=['Real'], colnames=['Previsto'])\n",
        "    sns.heatmap(confusion_matrix, annot=True,cmap='Blues',fmt=\"d\")\n",
        "    plt.show()\n",
        "    print(\"\\n\")\n",
        "    print('Matriz de Confusão: Teste: \\n ')\n",
        "    data = {'y_Real': ytest,'y_Previsto': yTestPrediction}\n",
        "    df = pd.DataFrame(data, columns=['y_Real','y_Previsto'])\n",
        "    confusion_matrix = pd.crosstab(df['y_Real'], df['y_Previsto'], rownames=['Real'], colnames=['Previsto'])\n",
        "    sns.heatmap(confusion_matrix, annot=True,cmap='viridis',fmt=\"d\")\n",
        "    plt.show()\n",
        "    \n",
        "    #auc roc\n",
        "    print(\"\\n\")\n",
        "    print(' AUC_ROC: Treino: \\n ', roc_auc_score(ytrain,yTrainProbability))\n",
        "    print(' AUC_ROC: Teste: \\n ', roc_auc_score(ytest,yTestProbability))\n",
        "    # recall score\n",
        "    print(\"\\n\")\n",
        "    print('Report de classificação: Treino \\n', classification_report(ytrain,yTrainPrediction))\n",
        "    print('Report de classificação : Teste \\n', classification_report(ytest,yTestPrediction))\n",
        "     "
      ],
      "metadata": {
        "id": "rehLUiyCtQvQ"
      },
      "execution_count": null,
      "outputs": []
    },
    {
      "cell_type": "markdown",
      "source": [
        "# Regressão Logística"
      ],
      "metadata": {
        "id": "uZEU7V3rtkpy"
      }
    },
    {
      "cell_type": "code",
      "source": [
        "lr=LogisticRegression(random_state=20)\n",
        "result_lr=avaliar_modelo(lr,X_train,y_train,X_test,y_test,threshold = 0.4)"
      ],
      "metadata": {
        "colab": {
          "base_uri": "https://localhost:8080/",
          "height": 1000
        },
        "id": "--u6dNO4tQst",
        "outputId": "6a25a0de-dd1a-4a15-d16d-6e3bb41051a5"
      },
      "execution_count": null,
      "outputs": [
        {
          "output_type": "stream",
          "name": "stdout",
          "text": [
            "LogisticRegression(random_state=20)\n",
            "\n",
            "\n",
            " Matriz de Confusão:Treino \n",
            " \n"
          ]
        },
        {
          "output_type": "display_data",
          "data": {
            "text/plain": [
              "<Figure size 640x480 with 2 Axes>"
            ],
            "image/png": "[encoded data removed]"
          },
          "metadata": {}
        },
        {
          "output_type": "stream",
          "name": "stdout",
          "text": [
            "\n",
            "\n",
            "Matriz de Confusão: Teste: \n",
            " \n"
          ]
        },
        {
          "output_type": "display_data",
          "data": {
            "text/plain": [
              "<Figure size 640x480 with 2 Axes>"
            ],
            "image/png": "[encoded data removed]"
          },
          "metadata": {}
        },
        {
          "output_type": "stream",
          "name": "stdout",
          "text": [
            "\n",
            "\n",
            " AUC_ROC: Treino: \n",
            "  0.8731195424580218\n",
            " AUC_ROC: Teste: \n",
            "  0.8724436220975406\n",
            "\n",
            "\n",
            "Report de classificação: Treino \n",
            "               precision    recall  f1-score   support\n",
            "\n",
            "           0       0.83      0.69      0.75     30957\n",
            "           1       0.73      0.86      0.79     30957\n",
            "\n",
            "    accuracy                           0.77     61914\n",
            "   macro avg       0.78      0.77      0.77     61914\n",
            "weighted avg       0.78      0.77      0.77     61914\n",
            "\n",
            "Report de classificação : Teste \n",
            "               precision    recall  f1-score   support\n",
            "\n",
            "           0       0.89      0.69      0.78     22550\n",
            "           1       0.62      0.86      0.72     13267\n",
            "\n",
            "    accuracy                           0.75     35817\n",
            "   macro avg       0.75      0.77      0.75     35817\n",
            "weighted avg       0.79      0.75      0.75     35817\n",
            "\n"
          ]
        }
      ]
    },
    {
      "cell_type": "code",
      "source": [
        "print(\"A interceptação é\",lr.intercept_)\n",
        "\n",
        "weights_f = Series(lr.coef_[0],\n",
        "                 index=X_train.columns.values)\n",
        "weights_f2 = DataFrame(dict(weights = weights_f, weights_abs = weights_f.abs()))\n",
        "weights_f2 = weights_f2.sort_values(by='weights_abs',ascending=False)\n",
        "weights_f2 = weights_f2.reset_index().rename(columns={'index': 'Features'})\n",
        "\n",
        "# plotando os pesos\n",
        "fig = plt.figure()\n",
        "ax = plt.subplot(111)\n",
        "ax.barh(weights_f2['Features'][:20], weights_f2['weights'][:20], color='blue')\n",
        "ax.set_xlabel('pesos de coeficiente de recurso')"
      ],
      "metadata": {
        "colab": {
          "base_uri": "https://localhost:8080/",
          "height": 486
        },
        "id": "wd_q6YyytXnA",
        "outputId": "51ee5f90-429f-477f-db00-ef8082ccb032"
      },
      "execution_count": null,
      "outputs": [
        {
          "output_type": "stream",
          "name": "stdout",
          "text": [
            "A interceptação é [-0.63317913]\n"
          ]
        },
        {
          "output_type": "execute_result",
          "data": {
            "text/plain": [
              "Text(0.5, 0, 'pesos de coeficiente de recurso')"
            ]
          },
          "metadata": {},
          "execution_count": 33
        },
        {
          "output_type": "display_data",
          "data": {
            "text/plain": [
              "<Figure size 640x480 with 1 Axes>"
            ],
            "image/png": "[encoded data removed]"
          },
          "metadata": {}
        }
      ]
    },
    {
      "cell_type": "code",
      "source": [
        "from google.colab import drive\n",
        "drive.mount('/content/drive')"
      ],
      "metadata": {
        "colab": {
          "base_uri": "https://localhost:8080/"
        },
        "id": "oXV9iyE49r94",
        "outputId": "67e69a83-b68d-4a0c-997c-77688dd99d70"
      },
      "execution_count": null,
      "outputs": [
        {
          "output_type": "stream",
          "name": "stdout",
          "text": [
            "Drive already mounted at /content/drive; to attempt to forcibly remount, call drive.mount(\"/content/drive\", force_remount=True).\n"
          ]
        }
      ]
    },
    {
      "cell_type": "markdown",
      "source": [
        "# Decision Trees"
      ],
      "metadata": {
        "id": "U0elFnS7t4ba"
      }
    },
    {
      "cell_type": "code",
      "source": [
        "dtc=DecisionTreeClassifier(max_depth=10)\n",
        "avaliar_modelo(dtc,X_train,y_train,X_test,y_test,threshold=0.4)"
      ],
      "metadata": {
        "colab": {
          "base_uri": "https://localhost:8080/",
          "height": 1000
        },
        "id": "6cRbShW7tXjt",
        "outputId": "f3262447-b536-4bba-f12d-d9c15da43199"
      },
      "execution_count": null,
      "outputs": [
        {
          "output_type": "stream",
          "name": "stdout",
          "text": [
            "DecisionTreeClassifier(max_depth=10)\n",
            "\n",
            "\n",
            " Matriz de Confusão:Treino \n",
            " \n"
          ]
        },
        {
          "output_type": "display_data",
          "data": {
            "text/plain": [
              "<Figure size 640x480 with 2 Axes>"
            ],
            "image/png": "[encoded data removed]"
          },
          "metadata": {}
        },
        {
          "output_type": "stream",
          "name": "stdout",
          "text": [
            "\n",
            "\n",
            "Matriz de Confusão: Teste: \n",
            " \n"
          ]
        },
        {
          "output_type": "display_data",
          "data": {
            "text/plain": [
              "<Figure size 640x480 with 2 Axes>"
            ],
            "image/png": "[encoded data removed]"
          },
          "metadata": {}
        },
        {
          "output_type": "stream",
          "name": "stdout",
          "text": [
            "\n",
            "\n",
            " AUC_ROC: Treino: \n",
            "  0.9214478086377001\n",
            " AUC_ROC: Teste: \n",
            "  0.913595816571033\n",
            "\n",
            "\n",
            "Report de classificação: Treino \n",
            "               precision    recall  f1-score   support\n",
            "\n",
            "           0       0.91      0.69      0.78     30957\n",
            "           1       0.75      0.93      0.83     30957\n",
            "\n",
            "    accuracy                           0.81     61914\n",
            "   macro avg       0.83      0.81      0.81     61914\n",
            "weighted avg       0.83      0.81      0.81     61914\n",
            "\n",
            "Report de classificação : Teste \n",
            "               precision    recall  f1-score   support\n",
            "\n",
            "           0       0.94      0.68      0.79     22550\n",
            "           1       0.63      0.93      0.75     13267\n",
            "\n",
            "    accuracy                           0.77     35817\n",
            "   macro avg       0.79      0.80      0.77     35817\n",
            "weighted avg       0.83      0.77      0.78     35817\n",
            "\n"
          ]
        }
      ]
    },
    {
      "cell_type": "code",
      "source": [
        "#features de importância\n",
        "pd.DataFrame(index=X_train.columns,data=dtc.feature_importances_,columns=[\"Scores\"]).sort_values(\"Scores\",ascending=False)[:15].plot.barh()"
      ],
      "metadata": {
        "colab": {
          "base_uri": "https://localhost:8080/",
          "height": 448
        },
        "id": "HLeLMYew3ScH",
        "outputId": "00b93b93-36b9-4692-9936-2fa9b60ebbb5"
      },
      "execution_count": null,
      "outputs": [
        {
          "output_type": "execute_result",
          "data": {
            "text/plain": [
              "<Axes: >"
            ]
          },
          "metadata": {},
          "execution_count": 36
        },
        {
          "output_type": "display_data",
          "data": {
            "text/plain": [
              "<Figure size 640x480 with 1 Axes>"
            ],
            "image/png": "[encoded data removed]"
          },
          "metadata": {}
        }
      ]
    },
    {
      "cell_type": "code",
      "source": [],
      "metadata": {
        "id": "xjO09Afjm8r3"
      },
      "execution_count": null,
      "outputs": []
    },
    {
      "cell_type": "markdown",
      "source": [
        "# Random Forest"
      ],
      "metadata": {
        "id": "_Ohjd3Ktt_qI"
      }
    },
    {
      "cell_type": "markdown",
      "source": [
        "ajuste do modelo Random Forest"
      ],
      "metadata": {
        "id": "0lmSkUTdop4C"
      }
    },
    {
      "cell_type": "code",
      "source": [
        "rf_parameters = {\"max_depth\": [10,13],\n",
        "                 \"n_estimators\": [10,100,500],\n",
        "                 \"min_samples_split\": [2,5]}\n",
        "                 \n",
        "rf_model = RandomForestClassifier()\n",
        "rf_cv_model = GridSearchCV(rf_model,\n",
        "                           rf_parameters,\n",
        "                           cv = 3)\n",
        "rf_cv_model.fit(X_train, y_train)"
      ],
      "metadata": {
        "colab": {
          "base_uri": "https://localhost:8080/",
          "height": 117
        },
        "id": "EU9PCdGAoqNA",
        "outputId": "8136195f-08f4-4cbc-ba61-8a3949e0ebd0"
      },
      "execution_count": null,
      "outputs": [
        {
          "output_type": "execute_result",
          "data": {
            "text/plain": [
              "GridSearchCV(cv=3, estimator=RandomForestClassifier(),\n",
              "             param_grid={'max_depth': [10, 13], 'min_samples_split': [2, 5],\n",
              "                         'n_estimators': [10, 100, 500]})"
            ],
            "text/html": [
              "<style>#sk-container-id-1 {color: black;background-color: white;}#sk-container-id-1 pre{padding: 0;}#sk-container-id-1 div.sk-toggleable {background-color: white;}#sk-container-id-1 label.sk-toggleable__label {cursor: pointer;display: block;width: 100%;margin-bottom: 0;padding: 0.3em;box-sizing: border-box;text-align: center;}#sk-container-id-1 label.sk-toggleable__label-arrow:before {content: \"▸\";float: left;margin-right: 0.25em;color: #696969;}#sk-container-id-1 label.sk-toggleable__label-arrow:hover:before {color: black;}#sk-container-id-1 div.sk-estimator:hover label.sk-toggleable__label-arrow:before {color: black;}#sk-container-id-1 div.sk-toggleable__content {max-height: 0;max-width: 0;overflow: hidden;text-align: left;background-color: #f0f8ff;}#sk-container-id-1 div.sk-toggleable__content pre {margin: 0.2em;color: black;border-radius: 0.25em;background-color: #f0f8ff;}#sk-container-id-1 input.sk-toggleable__control:checked~div.sk-toggleable__content {max-height: 200px;max-width: 100%;overflow: auto;}#sk-container-id-1 input.sk-toggleable__control:checked~label.sk-toggleable__label-arrow:before {content: \"▾\";}#sk-container-id-1 div.sk-estimator input.sk-toggleable__control:checked~label.sk-toggleable__label {background-color: #d4ebff;}#sk-container-id-1 div.sk-label input.sk-toggleable__control:checked~label.sk-toggleable__label {background-color: #d4ebff;}#sk-container-id-1 input.sk-hidden--visually {border: 0;clip: rect(1px 1px 1px 1px);clip: rect(1px, 1px, 1px, 1px);height: 1px;margin: -1px;overflow: hidden;padding: 0;position: absolute;width: 1px;}#sk-container-id-1 div.sk-estimator {font-family: monospace;background-color: #f0f8ff;border: 1px dotted black;border-radius: 0.25em;box-sizing: border-box;margin-bottom: 0.5em;}#sk-container-id-1 div.sk-estimator:hover {background-color: #d4ebff;}#sk-container-id-1 div.sk-parallel-item::after {content: \"\";width: 100%;border-bottom: 1px solid gray;flex-grow: 1;}#sk-container-id-1 div.sk-label:hover label.sk-toggleable__label {background-color: #d4ebff;}#sk-container-id-1 div.sk-serial::before {content: \"\";position: absolute;border-left: 1px solid gray;box-sizing: border-box;top: 0;bottom: 0;left: 50%;z-index: 0;}#sk-container-id-1 div.sk-serial {display: flex;flex-direction: column;align-items: center;background-color: white;padding-right: 0.2em;padding-left: 0.2em;position: relative;}#sk-container-id-1 div.sk-item {position: relative;z-index: 1;}#sk-container-id-1 div.sk-parallel {display: flex;align-items: stretch;justify-content: center;background-color: white;position: relative;}#sk-container-id-1 div.sk-item::before, #sk-container-id-1 div.sk-parallel-item::before {content: \"\";position: absolute;border-left: 1px solid gray;box-sizing: border-box;top: 0;bottom: 0;left: 50%;z-index: -1;}#sk-container-id-1 div.sk-parallel-item {display: flex;flex-direction: column;z-index: 1;position: relative;background-color: white;}#sk-container-id-1 div.sk-parallel-item:first-child::after {align-self: flex-end;width: 50%;}#sk-container-id-1 div.sk-parallel-item:last-child::after {align-self: flex-start;width: 50%;}#sk-container-id-1 div.sk-parallel-item:only-child::after {width: 0;}#sk-container-id-1 div.sk-dashed-wrapped {border: 1px dashed gray;margin: 0 0.4em 0.5em 0.4em;box-sizing: border-box;padding-bottom: 0.4em;background-color: white;}#sk-container-id-1 div.sk-label label {font-family: monospace;font-weight: bold;display: inline-block;line-height: 1.2em;}#sk-container-id-1 div.sk-label-container {text-align: center;}#sk-container-id-1 div.sk-container {/* jupyter's `normalize.less` sets `[hidden] { display: none; }` but bootstrap.min.css set `[hidden] { display: none !important; }` so we also need the `!important` here to be able to override the default hidden behavior on the sphinx rendered scikit-learn.org. See: https://github.com/scikit-learn/scikit-learn/issues/21755 */display: inline-block !important;position: relative;}#sk-container-id-1 div.sk-text-repr-fallback {display: none;}</style><div id=\"sk-container-id-1\" class=\"sk-top-container\"><div class=\"sk-text-repr-fallback\"><pre>GridSearchCV(cv=3, estimator=RandomForestClassifier(),\n",
              "             param_grid={&#x27;max_depth&#x27;: [10, 13], &#x27;min_samples_split&#x27;: [2, 5],\n",
              "                         &#x27;n_estimators&#x27;: [10, 100, 500]})</pre><b>In a Jupyter environment, please rerun this cell to show the HTML representation or trust the notebook. <br />On GitHub, the HTML representation is unable to render, please try loading this page with nbviewer.org.</b></div><div class=\"sk-container\" hidden><div class=\"sk-item sk-dashed-wrapped\"><div class=\"sk-label-container\"><div class=\"sk-label sk-toggleable\"><input class=\"sk-toggleable__control sk-hidden--visually\" id=\"sk-estimator-id-1\" type=\"checkbox\" ><label for=\"sk-estimator-id-1\" class=\"sk-toggleable__label sk-toggleable__label-arrow\">GridSearchCV</label><div class=\"sk-toggleable__content\"><pre>GridSearchCV(cv=3, estimator=RandomForestClassifier(),\n",
              "             param_grid={&#x27;max_depth&#x27;: [10, 13], &#x27;min_samples_split&#x27;: [2, 5],\n",
              "                         &#x27;n_estimators&#x27;: [10, 100, 500]})</pre></div></div></div><div class=\"sk-parallel\"><div class=\"sk-parallel-item\"><div class=\"sk-item\"><div class=\"sk-label-container\"><div class=\"sk-label sk-toggleable\"><input class=\"sk-toggleable__control sk-hidden--visually\" id=\"sk-estimator-id-2\" type=\"checkbox\" ><label for=\"sk-estimator-id-2\" class=\"sk-toggleable__label sk-toggleable__label-arrow\">estimator: RandomForestClassifier</label><div class=\"sk-toggleable__content\"><pre>RandomForestClassifier()</pre></div></div></div><div class=\"sk-serial\"><div class=\"sk-item\"><div class=\"sk-estimator sk-toggleable\"><input class=\"sk-toggleable__control sk-hidden--visually\" id=\"sk-estimator-id-3\" type=\"checkbox\" ><label for=\"sk-estimator-id-3\" class=\"sk-toggleable__label sk-toggleable__label-arrow\">RandomForestClassifier</label><div class=\"sk-toggleable__content\"><pre>RandomForestClassifier()</pre></div></div></div></div></div></div></div></div></div></div>"
            ]
          },
          "metadata": {},
          "execution_count": 41
        }
      ]
    },
    {
      "cell_type": "code",
      "source": [
        "print('Melhores parametros: ' + str(rf_cv_model.best_params_))"
      ],
      "metadata": {
        "colab": {
          "base_uri": "https://localhost:8080/"
        },
        "id": "0yBDRDvjo3Pn",
        "outputId": "7652e8c6-c5f9-4264-bc72-dbaed75d77f9"
      },
      "execution_count": null,
      "outputs": [
        {
          "output_type": "stream",
          "name": "stdout",
          "text": [
            "Melhores parametros: {'max_depth': 13, 'min_samples_split': 2, 'n_estimators': 500}\n"
          ]
        }
      ]
    },
    {
      "cell_type": "code",
      "source": [
        "rf_tuned = RandomForestClassifier(max_depth = 13,\n",
        "                                  min_samples_split = 2,\n",
        "                                  n_estimators = 500)\n",
        "\n",
        "result_rf_tuned=avaliar_modelo(rf_tuned,X_train,y_train,X_test,y_test,threshold=0.4)"
      ],
      "metadata": {
        "colab": {
          "base_uri": "https://localhost:8080/",
          "height": 1000
        },
        "id": "v_zJSnGRo3Hd",
        "outputId": "3a065451-c96c-4fd2-9297-73fa7d7d61ec"
      },
      "execution_count": null,
      "outputs": [
        {
          "output_type": "stream",
          "name": "stdout",
          "text": [
            "RandomForestClassifier(max_depth=13, n_estimators=500)\n",
            "\n",
            "\n",
            " Matriz de Confusão:Treino \n",
            " \n"
          ]
        },
        {
          "output_type": "display_data",
          "data": {
            "text/plain": [
              "<Figure size 640x480 with 2 Axes>"
            ],
            "image/png": "[encoded data removed]"
          },
          "metadata": {}
        },
        {
          "output_type": "stream",
          "name": "stdout",
          "text": [
            "\n",
            "\n",
            "Matriz de Confusão: Teste: \n",
            " \n"
          ]
        },
        {
          "output_type": "display_data",
          "data": {
            "text/plain": [
              "<Figure size 640x480 with 2 Axes>"
            ],
            "image/png": "[encoded data removed]"
          },
          "metadata": {}
        },
        {
          "output_type": "stream",
          "name": "stdout",
          "text": [
            "\n",
            "\n",
            " AUC_ROC: Treino: \n",
            "  0.9444186992946352\n",
            " AUC_ROC: Teste: \n",
            "  0.9318125428998181\n",
            "\n",
            "\n",
            "Report de classificação: Treino \n",
            "               precision    recall  f1-score   support\n",
            "\n",
            "           0       0.93      0.73      0.82     30957\n",
            "           1       0.78      0.95      0.85     30957\n",
            "\n",
            "    accuracy                           0.84     61914\n",
            "   macro avg       0.86      0.84      0.84     61914\n",
            "weighted avg       0.86      0.84      0.84     61914\n",
            "\n",
            "Report de classificação : Teste \n",
            "               precision    recall  f1-score   support\n",
            "\n",
            "           0       0.95      0.71      0.81     22550\n",
            "           1       0.66      0.93      0.77     13267\n",
            "\n",
            "    accuracy                           0.79     35817\n",
            "   macro avg       0.80      0.82      0.79     35817\n",
            "weighted avg       0.84      0.79      0.80     35817\n",
            "\n"
          ]
        }
      ]
    },
    {
      "cell_type": "code",
      "source": [
        "pd.DataFrame(index=X_train.columns,data=rf_tuned.feature_importances_,columns=[\"Scores\"]).sort_values(\"Scores\",ascending=False)[:15].plot.barh()"
      ],
      "metadata": {
        "colab": {
          "base_uri": "https://localhost:8080/",
          "height": 448
        },
        "id": "gjtNFkPqo3EI",
        "outputId": "4239d8f5-3c86-4562-bf79-a960ce793663"
      },
      "execution_count": null,
      "outputs": [
        {
          "output_type": "execute_result",
          "data": {
            "text/plain": [
              "<Axes: >"
            ]
          },
          "metadata": {},
          "execution_count": 45
        },
        {
          "output_type": "display_data",
          "data": {
            "text/plain": [
              "<Figure size 640x480 with 1 Axes>"
            ],
            "image/png": "[encoded data removed]"
          },
          "metadata": {}
        }
      ]
    },
    {
      "cell_type": "code",
      "source": [
        "rf = RandomForestClassifier(random_state=20)\n",
        "avaliar_modelo(rf,X_train,y_train,X_test,y_test,threshold=0.4)"
      ],
      "metadata": {
        "colab": {
          "base_uri": "https://localhost:8080/",
          "height": 1000
        },
        "id": "-DlA1oe1tXg7",
        "outputId": "6865b8f7-3a9e-40cc-d593-e0aa9900be19"
      },
      "execution_count": null,
      "outputs": [
        {
          "output_type": "stream",
          "name": "stdout",
          "text": [
            "RandomForestClassifier(random_state=20)\n",
            "\n",
            "\n",
            " Matriz de Confusão:Treino \n",
            " \n"
          ]
        },
        {
          "output_type": "display_data",
          "data": {
            "text/plain": [
              "<Figure size 640x480 with 2 Axes>"
            ],
            "image/png": "[encoded data removed]"
          },
          "metadata": {}
        },
        {
          "output_type": "stream",
          "name": "stdout",
          "text": [
            "\n",
            "\n",
            "Matriz de Confusão: Teste: \n",
            " \n"
          ]
        },
        {
          "output_type": "display_data",
          "data": {
            "text/plain": [
              "<Figure size 640x480 with 2 Axes>"
            ],
            "image/png": "[encoded data removed]"
          },
          "metadata": {}
        },
        {
          "output_type": "stream",
          "name": "stdout",
          "text": [
            "\n",
            "\n",
            " AUC_ROC: Treino: \n",
            "  0.9997304734031713\n",
            " AUC_ROC: Teste: \n",
            "  0.9498918895340237\n",
            "\n",
            "\n",
            "Report de classificação: Treino \n",
            "               precision    recall  f1-score   support\n",
            "\n",
            "           0       1.00      0.99      1.00     30957\n",
            "           1       0.99      1.00      1.00     30957\n",
            "\n",
            "    accuracy                           1.00     61914\n",
            "   macro avg       1.00      1.00      1.00     61914\n",
            "weighted avg       1.00      1.00      1.00     61914\n",
            "\n",
            "Report de classificação : Teste \n",
            "               precision    recall  f1-score   support\n",
            "\n",
            "           0       0.94      0.82      0.88     22550\n",
            "           1       0.75      0.91      0.82     13267\n",
            "\n",
            "    accuracy                           0.85     35817\n",
            "   macro avg       0.84      0.87      0.85     35817\n",
            "weighted avg       0.87      0.85      0.86     35817\n",
            "\n"
          ]
        }
      ]
    },
    {
      "cell_type": "markdown",
      "source": [
        "# CatBoost"
      ],
      "metadata": {
        "id": "1tbebcIAuGri"
      }
    },
    {
      "cell_type": "code",
      "source": [
        "catboost = CatBoostClassifier(iterations =500,use_best_model=True,max_depth=2,od_type='Iter',custom_loss='F1')\n",
        "result_catboost=avaliar_modelo(catboost,X_train,y_train,X_test,y_test,threshold=0.4)"
      ],
      "metadata": {
        "colab": {
          "base_uri": "https://localhost:8080/",
          "height": 1000,
          "referenced_widgets": [
            "c5b1cef00ca342fb9fc50df9c254bc93"
          ]
        },
        "id": "bbTai4hctXeW",
        "outputId": "6104508c-9ada-4f6f-e30f-59ed68089a78"
      },
      "execution_count": null,
      "outputs": [
        {
          "output_type": "display_data",
          "data": {
            "text/plain": [
              "MetricVisualizer(layout=Layout(align_self='stretch', height='500px'))"
            ],
            "application/vnd.jupyter.widget-view+json": {
              "version_major": 2,
              "version_minor": 0,
              "model_id": "c5b1cef00ca342fb9fc50df9c254bc93"
            }
          },
          "metadata": {}
        },
        {
          "output_type": "stream",
          "name": "stdout",
          "text": [
            "<catboost.core.CatBoostClassifier object at 0x7f49eb9afe20>\n",
            "\n",
            "\n",
            " Matriz de Confusão:Treino \n",
            " \n"
          ]
        },
        {
          "output_type": "display_data",
          "data": {
            "text/plain": [
              "<Figure size 640x480 with 2 Axes>"
            ],
            "image/png": "[encoded data removed]"
          },
          "metadata": {}
        },
        {
          "output_type": "stream",
          "name": "stdout",
          "text": [
            "\n",
            "\n",
            "Matriz de Confusão: Teste: \n",
            " \n"
          ]
        },
        {
          "output_type": "display_data",
          "data": {
            "text/plain": [
              "<Figure size 640x480 with 2 Axes>"
            ],
            "image/png": "[encoded data removed]"
          },
          "metadata": {}
        },
        {
          "output_type": "stream",
          "name": "stdout",
          "text": [
            "\n",
            "\n",
            " AUC_ROC: Treino: \n",
            "  0.9279288262334429\n",
            " AUC_ROC: Teste: \n",
            "  0.9255063452873166\n",
            "\n",
            "\n",
            "Report de classificação: Treino \n",
            "               precision    recall  f1-score   support\n",
            "\n",
            "           0       0.88      0.76      0.82     30957\n",
            "           1       0.79      0.90      0.84     30957\n",
            "\n",
            "    accuracy                           0.83     61914\n",
            "   macro avg       0.84      0.83      0.83     61914\n",
            "weighted avg       0.84      0.83      0.83     61914\n",
            "\n",
            "Report de classificação : Teste \n",
            "               precision    recall  f1-score   support\n",
            "\n",
            "           0       0.93      0.76      0.83     22550\n",
            "           1       0.69      0.90      0.78     13267\n",
            "\n",
            "    accuracy                           0.81     35817\n",
            "   macro avg       0.81      0.83      0.81     35817\n",
            "weighted avg       0.84      0.81      0.81     35817\n",
            "\n"
          ]
        }
      ]
    },
    {
      "cell_type": "code",
      "source": [
        "#Feature importances\n",
        "pd.DataFrame(index=X_train.columns,data=catboost.feature_importances_,columns=[\"Scores\"]).sort_values(\"Scores\",ascending=False)[:15].plot.barh()"
      ],
      "metadata": {
        "colab": {
          "base_uri": "https://localhost:8080/",
          "height": 448
        },
        "id": "VroP3CpQ3l41",
        "outputId": "3f044840-99e0-420e-8759-c2b029e303c0"
      },
      "execution_count": null,
      "outputs": [
        {
          "output_type": "execute_result",
          "data": {
            "text/plain": [
              "<Axes: >"
            ]
          },
          "metadata": {},
          "execution_count": 39
        },
        {
          "output_type": "display_data",
          "data": {
            "text/plain": [
              "<Figure size 640x480 with 1 Axes>"
            ],
            "image/png": "[encoded data removed]"
          },
          "metadata": {}
        }
      ]
    },
    {
      "cell_type": "code",
      "source": [],
      "metadata": {
        "id": "tsx60I8FtXbZ"
      },
      "execution_count": null,
      "outputs": []
    },
    {
      "cell_type": "code",
      "source": [],
      "metadata": {
        "id": "hqzRN58etXYj"
      },
      "execution_count": null,
      "outputs": []
    }
  ]
}